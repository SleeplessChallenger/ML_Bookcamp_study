{
 "cells": [
  {
   "cell_type": "code",
   "execution_count": 405,
   "id": "d2f28299",
   "metadata": {},
   "outputs": [],
   "source": [
    "import numpy as np\n",
    "import pandas as pd\n",
    "from matplotlib import pyplot as plt\n",
    "%matplotlib inline\n",
    "\n",
    "import seaborn as sns\n",
    "from sklearn.model_selection import train_test_split\n",
    "from sklearn.feature_extraction import DictVectorizer\n",
    "from sklearn.ensemble import RandomForestRegressor\n",
    "from sklearn.metrics import roc_auc_score\n",
    "from sklearn.tree import DecisionTreeRegressor\n",
    "import xgboost as xgb"
   ]
  },
  {
   "cell_type": "code",
   "execution_count": 444,
   "id": "d0e52ec2",
   "metadata": {},
   "outputs": [
    {
     "data": {
      "text/html": [
       "<div>\n",
       "<style scoped>\n",
       "    .dataframe tbody tr th:only-of-type {\n",
       "        vertical-align: middle;\n",
       "    }\n",
       "\n",
       "    .dataframe tbody tr th {\n",
       "        vertical-align: top;\n",
       "    }\n",
       "\n",
       "    .dataframe thead th {\n",
       "        text-align: right;\n",
       "    }\n",
       "</style>\n",
       "<table border=\"1\" class=\"dataframe\">\n",
       "  <thead>\n",
       "    <tr style=\"text-align: right;\">\n",
       "      <th></th>\n",
       "      <th>Make</th>\n",
       "      <th>Model</th>\n",
       "      <th>Year</th>\n",
       "      <th>Engine Fuel Type</th>\n",
       "      <th>Engine HP</th>\n",
       "      <th>Engine Cylinders</th>\n",
       "      <th>Transmission Type</th>\n",
       "      <th>Driven_Wheels</th>\n",
       "      <th>Number of Doors</th>\n",
       "      <th>Market Category</th>\n",
       "      <th>Vehicle Size</th>\n",
       "      <th>Vehicle Style</th>\n",
       "      <th>highway MPG</th>\n",
       "      <th>city mpg</th>\n",
       "      <th>Popularity</th>\n",
       "      <th>MSRP</th>\n",
       "    </tr>\n",
       "  </thead>\n",
       "  <tbody>\n",
       "    <tr>\n",
       "      <th>0</th>\n",
       "      <td>BMW</td>\n",
       "      <td>1 Series M</td>\n",
       "      <td>2011</td>\n",
       "      <td>premium unleaded (required)</td>\n",
       "      <td>335.0</td>\n",
       "      <td>6.0</td>\n",
       "      <td>MANUAL</td>\n",
       "      <td>rear wheel drive</td>\n",
       "      <td>2.0</td>\n",
       "      <td>Factory Tuner,Luxury,High-Performance</td>\n",
       "      <td>Compact</td>\n",
       "      <td>Coupe</td>\n",
       "      <td>26</td>\n",
       "      <td>19</td>\n",
       "      <td>3916</td>\n",
       "      <td>46135</td>\n",
       "    </tr>\n",
       "    <tr>\n",
       "      <th>1</th>\n",
       "      <td>BMW</td>\n",
       "      <td>1 Series</td>\n",
       "      <td>2011</td>\n",
       "      <td>premium unleaded (required)</td>\n",
       "      <td>300.0</td>\n",
       "      <td>6.0</td>\n",
       "      <td>MANUAL</td>\n",
       "      <td>rear wheel drive</td>\n",
       "      <td>2.0</td>\n",
       "      <td>Luxury,Performance</td>\n",
       "      <td>Compact</td>\n",
       "      <td>Convertible</td>\n",
       "      <td>28</td>\n",
       "      <td>19</td>\n",
       "      <td>3916</td>\n",
       "      <td>40650</td>\n",
       "    </tr>\n",
       "  </tbody>\n",
       "</table>\n",
       "</div>"
      ],
      "text/plain": [
       "  Make       Model  Year             Engine Fuel Type  Engine HP  \\\n",
       "0  BMW  1 Series M  2011  premium unleaded (required)      335.0   \n",
       "1  BMW    1 Series  2011  premium unleaded (required)      300.0   \n",
       "\n",
       "   Engine Cylinders Transmission Type     Driven_Wheels  Number of Doors  \\\n",
       "0               6.0            MANUAL  rear wheel drive              2.0   \n",
       "1               6.0            MANUAL  rear wheel drive              2.0   \n",
       "\n",
       "                         Market Category Vehicle Size Vehicle Style  \\\n",
       "0  Factory Tuner,Luxury,High-Performance      Compact         Coupe   \n",
       "1                     Luxury,Performance      Compact   Convertible   \n",
       "\n",
       "   highway MPG  city mpg  Popularity   MSRP  \n",
       "0           26        19        3916  46135  \n",
       "1           28        19        3916  40650  "
      ]
     },
     "execution_count": 444,
     "metadata": {},
     "output_type": "execute_result"
    }
   ],
   "source": [
    "df = pd.read_csv('car_price.csv')\n",
    "df.head(2)"
   ]
  },
  {
   "cell_type": "code",
   "execution_count": 445,
   "id": "8a5334e4",
   "metadata": {},
   "outputs": [],
   "source": [
    "df.columns = df.columns.str.lower().str.replace(\" \", \"_\")\n",
    "\n",
    "cols = list(df.dtypes[df.dtypes == 'object'].index)\n",
    "\n",
    "for col in cols:\n",
    "    df[col] = df[col].str.lower().str.replace(\" \", \"_\")"
   ]
  },
  {
   "cell_type": "code",
   "execution_count": 446,
   "id": "eddfb075",
   "metadata": {},
   "outputs": [
    {
     "data": {
      "text/html": [
       "<div>\n",
       "<style scoped>\n",
       "    .dataframe tbody tr th:only-of-type {\n",
       "        vertical-align: middle;\n",
       "    }\n",
       "\n",
       "    .dataframe tbody tr th {\n",
       "        vertical-align: top;\n",
       "    }\n",
       "\n",
       "    .dataframe thead th {\n",
       "        text-align: right;\n",
       "    }\n",
       "</style>\n",
       "<table border=\"1\" class=\"dataframe\">\n",
       "  <thead>\n",
       "    <tr style=\"text-align: right;\">\n",
       "      <th></th>\n",
       "      <th>make</th>\n",
       "      <th>model</th>\n",
       "      <th>year</th>\n",
       "      <th>engine_fuel_type</th>\n",
       "      <th>engine_hp</th>\n",
       "      <th>engine_cylinders</th>\n",
       "      <th>transmission_type</th>\n",
       "      <th>driven_wheels</th>\n",
       "      <th>number_of_doors</th>\n",
       "      <th>market_category</th>\n",
       "      <th>vehicle_size</th>\n",
       "      <th>vehicle_style</th>\n",
       "      <th>highway_mpg</th>\n",
       "      <th>city_mpg</th>\n",
       "      <th>popularity</th>\n",
       "      <th>msrp</th>\n",
       "    </tr>\n",
       "  </thead>\n",
       "  <tbody>\n",
       "    <tr>\n",
       "      <th>0</th>\n",
       "      <td>bmw</td>\n",
       "      <td>1_series_m</td>\n",
       "      <td>2011</td>\n",
       "      <td>premium_unleaded_(required)</td>\n",
       "      <td>335.0</td>\n",
       "      <td>6.0</td>\n",
       "      <td>manual</td>\n",
       "      <td>rear_wheel_drive</td>\n",
       "      <td>2.0</td>\n",
       "      <td>factory_tuner,luxury,high-performance</td>\n",
       "      <td>compact</td>\n",
       "      <td>coupe</td>\n",
       "      <td>26</td>\n",
       "      <td>19</td>\n",
       "      <td>3916</td>\n",
       "      <td>46135</td>\n",
       "    </tr>\n",
       "    <tr>\n",
       "      <th>1</th>\n",
       "      <td>bmw</td>\n",
       "      <td>1_series</td>\n",
       "      <td>2011</td>\n",
       "      <td>premium_unleaded_(required)</td>\n",
       "      <td>300.0</td>\n",
       "      <td>6.0</td>\n",
       "      <td>manual</td>\n",
       "      <td>rear_wheel_drive</td>\n",
       "      <td>2.0</td>\n",
       "      <td>luxury,performance</td>\n",
       "      <td>compact</td>\n",
       "      <td>convertible</td>\n",
       "      <td>28</td>\n",
       "      <td>19</td>\n",
       "      <td>3916</td>\n",
       "      <td>40650</td>\n",
       "    </tr>\n",
       "  </tbody>\n",
       "</table>\n",
       "</div>"
      ],
      "text/plain": [
       "  make       model  year             engine_fuel_type  engine_hp  \\\n",
       "0  bmw  1_series_m  2011  premium_unleaded_(required)      335.0   \n",
       "1  bmw    1_series  2011  premium_unleaded_(required)      300.0   \n",
       "\n",
       "   engine_cylinders transmission_type     driven_wheels  number_of_doors  \\\n",
       "0               6.0            manual  rear_wheel_drive              2.0   \n",
       "1               6.0            manual  rear_wheel_drive              2.0   \n",
       "\n",
       "                         market_category vehicle_size vehicle_style  \\\n",
       "0  factory_tuner,luxury,high-performance      compact         coupe   \n",
       "1                     luxury,performance      compact   convertible   \n",
       "\n",
       "   highway_mpg  city_mpg  popularity   msrp  \n",
       "0           26        19        3916  46135  \n",
       "1           28        19        3916  40650  "
      ]
     },
     "execution_count": 446,
     "metadata": {},
     "output_type": "execute_result"
    }
   ],
   "source": [
    "df.head(2)"
   ]
  },
  {
   "cell_type": "code",
   "execution_count": 447,
   "id": "89954cdd",
   "metadata": {},
   "outputs": [
    {
     "data": {
      "text/plain": [
       "make                    0\n",
       "model                   0\n",
       "year                    0\n",
       "engine_fuel_type        3\n",
       "engine_hp              69\n",
       "engine_cylinders       30\n",
       "transmission_type       0\n",
       "driven_wheels           0\n",
       "number_of_doors         6\n",
       "market_category      3742\n",
       "vehicle_size            0\n",
       "vehicle_style           0\n",
       "highway_mpg             0\n",
       "city_mpg                0\n",
       "popularity              0\n",
       "msrp                    0\n",
       "dtype: int64"
      ]
     },
     "execution_count": 447,
     "metadata": {},
     "output_type": "execute_result"
    }
   ],
   "source": [
    "df.isnull().sum()"
   ]
  },
  {
   "cell_type": "code",
   "execution_count": 448,
   "id": "6bbcd5cc",
   "metadata": {},
   "outputs": [],
   "source": [
    "df = df.fillna(0)"
   ]
  },
  {
   "cell_type": "code",
   "execution_count": 449,
   "id": "86cf1ca2",
   "metadata": {},
   "outputs": [],
   "source": [
    "full_train, df_test = train_test_split(df, random_state=5, test_size=0.2)\n",
    "df_train, df_valid = train_test_split(full_train, random_state=5, test_size=0.33)"
   ]
  },
  {
   "cell_type": "code",
   "execution_count": 450,
   "id": "c4d6fd21",
   "metadata": {},
   "outputs": [],
   "source": [
    "y_train = np.log1p(df_train.msrp.values)\n",
    "y_valid = np.log1p(df_valid.msrp.values)\n",
    "\n",
    "del df_train['msrp']\n",
    "del df_valid['msrp']"
   ]
  },
  {
   "cell_type": "code",
   "execution_count": 451,
   "id": "10853f80",
   "metadata": {},
   "outputs": [
    {
     "data": {
      "text/plain": [
       "['make',\n",
       " 'model',\n",
       " 'engine_fuel_type',\n",
       " 'transmission_type',\n",
       " 'driven_wheels',\n",
       " 'market_category',\n",
       " 'vehicle_size',\n",
       " 'vehicle_style']"
      ]
     },
     "execution_count": 451,
     "metadata": {},
     "output_type": "execute_result"
    }
   ],
   "source": [
    "categorical = df.dtypes[df.dtypes == 'object'].index.to_list()\n",
    "categorical"
   ]
  },
  {
   "cell_type": "code",
   "execution_count": 452,
   "id": "fa23a3fe",
   "metadata": {},
   "outputs": [
    {
     "data": {
      "text/plain": [
       "['year',\n",
       " 'engine_hp',\n",
       " 'engine_cylinders',\n",
       " 'number_of_doors',\n",
       " 'highway_mpg',\n",
       " 'city_mpg',\n",
       " 'popularity']"
      ]
     },
     "execution_count": 452,
     "metadata": {},
     "output_type": "execute_result"
    }
   ],
   "source": [
    "numerical = df.dtypes[df.dtypes != 'object'].index.to_list()\n",
    "numerical = [x for x in numerical if x != 'msrp']\n",
    "numerical"
   ]
  },
  {
   "cell_type": "code",
   "execution_count": 453,
   "id": "fdd1a5e4",
   "metadata": {},
   "outputs": [
    {
     "data": {
      "text/plain": [
       "year                0.227590\n",
       "engine_hp           0.650095\n",
       "engine_cylinders    0.526274\n",
       "number_of_doors    -0.128627\n",
       "highway_mpg        -0.160043\n",
       "city_mpg           -0.157676\n",
       "popularity         -0.048476\n",
       "dtype: float64"
      ]
     },
     "execution_count": 453,
     "metadata": {},
     "output_type": "execute_result"
    }
   ],
   "source": [
    "df[numerical].corrwith(df.msrp)"
   ]
  },
  {
   "cell_type": "code",
   "execution_count": 454,
   "id": "01c48918",
   "metadata": {},
   "outputs": [
    {
     "data": {
      "text/plain": [
       "make                 0\n",
       "model                0\n",
       "year                 0\n",
       "engine_fuel_type     0\n",
       "engine_hp            0\n",
       "engine_cylinders     0\n",
       "transmission_type    0\n",
       "driven_wheels        0\n",
       "number_of_doors      0\n",
       "market_category      0\n",
       "vehicle_size         0\n",
       "vehicle_style        0\n",
       "highway_mpg          0\n",
       "city_mpg             0\n",
       "popularity           0\n",
       "dtype: int64"
      ]
     },
     "execution_count": 454,
     "metadata": {},
     "output_type": "execute_result"
    }
   ],
   "source": [
    "df_train.isnull().sum()"
   ]
  },
  {
   "cell_type": "code",
   "execution_count": 455,
   "id": "bd3d9f29",
   "metadata": {},
   "outputs": [],
   "source": [
    "train_dict = df_train[numerical + categorical].to_dict(orient='records')\n",
    "valid_dict = df_valid[numerical + categorical].to_dict(orient='records')"
   ]
  },
  {
   "cell_type": "code",
   "execution_count": 456,
   "id": "c21c9476",
   "metadata": {},
   "outputs": [],
   "source": [
    "dv = DictVectorizer(sparse=False)\n",
    "X_train = dv.fit_transform(train_dict)\n",
    "X_valid = dv.transform(valid_dict)"
   ]
  },
  {
   "cell_type": "markdown",
   "id": "47ac2c80",
   "metadata": {},
   "source": [
    "# Decision Tree Regressor"
   ]
  },
  {
   "cell_type": "code",
   "execution_count": 223,
   "id": "dfe4b8d3",
   "metadata": {},
   "outputs": [
    {
     "data": {
      "text/plain": [
       "DecisionTreeRegressor()"
      ]
     },
     "execution_count": 223,
     "metadata": {},
     "output_type": "execute_result"
    }
   ],
   "source": [
    "dtr = DecisionTreeRegressor()\n",
    "dtr.fit(X_train, y_train)"
   ]
  },
  {
   "cell_type": "code",
   "execution_count": 224,
   "id": "1fd1eb67",
   "metadata": {},
   "outputs": [],
   "source": [
    "y_pred_train = dtr.predict(X_train)\n",
    "y_pred_valid = dtr.predict(X_valid)"
   ]
  },
  {
   "cell_type": "code",
   "execution_count": 225,
   "id": "60671fda",
   "metadata": {},
   "outputs": [
    {
     "data": {
      "image/png": "[encoded data removed]",
      "text/plain": [
       "<Figure size 432x288 with 1 Axes>"
      ]
     },
     "metadata": {
      "needs_background": "light"
     },
     "output_type": "display_data"
    }
   ],
   "source": [
    "sns.histplot(y_pred_train, label='prediction', color = \"skyblue\")\n",
    "sns.histplot(y_train, label='target')\n",
    "plt.legend()\n",
    "plt.show()"
   ]
  },
  {
   "cell_type": "code",
   "execution_count": 226,
   "id": "32877301",
   "metadata": {},
   "outputs": [
    {
     "data": {
      "image/png": "[encoded data removed]",
      "text/plain": [
       "<Figure size 432x288 with 1 Axes>"
      ]
     },
     "metadata": {
      "needs_background": "light"
     },
     "output_type": "display_data"
    }
   ],
   "source": [
    "sns.histplot(y_pred_valid, label='prediction', color='red')\n",
    "sns.histplot(y_valid, label='blue')\n",
    "plt.legend()\n",
    "plt.show()"
   ]
  },
  {
   "cell_type": "code",
   "execution_count": 227,
   "id": "542dedd1",
   "metadata": {},
   "outputs": [],
   "source": [
    "from sklearn.metrics import mean_squared_error, r2_score \n",
    "\n",
    "def metrics(y_test, y_pred, X_train):\n",
    "    rmse = np.sqrt(mean_squared_error(y_test, y_pred))\n",
    "    r2 = r2_score(y_test, y_pred)\n",
    "    \n",
    "    # Customer adjusted r-sq\n",
    "    n = y_pred.shape[0]\n",
    "    k = X_train.shape[1]\n",
    "    \n",
    "    adjusted = 1 - (1 - r2) * (n - 1) / (n - 1 - k)\n",
    "    return rmse, r2, adjusted "
   ]
  },
  {
   "cell_type": "code",
   "execution_count": 228,
   "id": "e6cd703e",
   "metadata": {},
   "outputs": [
    {
     "name": "stdout",
     "output_type": "stream",
     "text": [
      "0.049344522352345085 0.9979702379641339 0.9975793011700038\n",
      "0.1338632156296073 0.9861767292701571 0.9794351057495951\n"
     ]
    }
   ],
   "source": [
    "rmse, r2, r2_adjusted = metrics(y_train, y_pred_train, X_train)\n",
    "print(rmse, r2, r2_adjusted)\n",
    "\n",
    "rmse, r2, r2_adjusted = metrics(y_valid, y_pred_valid, X_valid)\n",
    "print(rmse, r2, r2_adjusted)"
   ]
  },
  {
   "cell_type": "markdown",
   "id": "a78f3021",
   "metadata": {},
   "source": [
    "# Parameter tuning for DecisionTreeRegressor"
   ]
  },
  {
   "cell_type": "raw",
   "id": "04fbf253",
   "metadata": {},
   "source": [
    "Let's play with 'max_depth', 'min_samples_leaf', 'max_features' to find out whether we can improve our model"
   ]
  },
  {
   "cell_type": "code",
   "execution_count": 112,
   "id": "78a4cf44",
   "metadata": {},
   "outputs": [
    {
     "name": "stdout",
     "output_type": "stream",
     "text": [
      "1, 0.565, 0.7538, 0.6337\n",
      "5, 0.2352, 0.9573, 0.9365\n",
      "10, 0.1533, 0.9819, 0.973\n",
      "15, 0.1336, 0.9862, 0.9795\n",
      "20, 0.1365, 0.9856, 0.9786\n",
      "25, 0.1319, 0.9866, 0.98\n",
      "30, 0.1341, 0.9861, 0.9794\n",
      "None, 0.1329, 0.9864, 0.9797\n"
     ]
    }
   ],
   "source": [
    "for d in [1, 5, 10, 15, 20, 25, 30, None]:\n",
    "    dtr = DecisionTreeRegressor(max_depth=d, random_state=5)\n",
    "    dtr.fit(X_train, y_train)\n",
    "    y_pred = dtr.predict(X_valid)\n",
    "    rmse, r2, r2_ad = metrics(y_valid, y_pred, X_valid)\n",
    "    print(f\"{d}, {round(rmse, 4)}, {round(r2, 4)}, {round(r2_ad, 4)}\")"
   ]
  },
  {
   "cell_type": "code",
   "execution_count": 113,
   "id": "f243670d",
   "metadata": {},
   "outputs": [
    {
     "name": "stdout",
     "output_type": "stream",
     "text": [
      "1, 0.1329, 0.9864, 0.9797\n",
      "5, 0.1507, 0.9825, 0.9739\n",
      "10, 0.1677, 0.9783, 0.9677\n",
      "20, 0.1798, 0.9751, 0.9629\n",
      "50, 0.2136, 0.9648, 0.9476\n",
      "100, 0.2273, 0.9602, 0.9407\n"
     ]
    }
   ],
   "source": [
    "# from above we see: without depth we have the best `rmse`\n",
    "# Now let's deal with `min_samples_leaf`\n",
    "for leaf in [1, 5, 10, 20, 50, 100]:\n",
    "    dtr = DecisionTreeRegressor(max_depth=None, min_samples_leaf=leaf,\n",
    "                                random_state=5)\n",
    "    dtr.fit(X_train, y_train)\n",
    "    y_pred = dtr.predict(X_valid)\n",
    "    rmse, r2, r2_ad = metrics(y_valid, y_pred, X_valid)\n",
    "    print(f\"{leaf}, {round(rmse, 4)}, {round(r2, 4)}, {round(r2_ad, 4)}\")"
   ]
  },
  {
   "cell_type": "code",
   "execution_count": 114,
   "id": "4a9598eb",
   "metadata": {},
   "outputs": [
    {
     "name": "stdout",
     "output_type": "stream",
     "text": [
      "None, 0.1329, 0.9864, 0.9797\n",
      "1, 0.4071, 0.8722, 0.8098\n",
      "5, 0.359, 0.9006, 0.8521\n",
      "10, 0.2953, 0.9328, 0.9\n",
      "20, 0.2453, 0.9536, 0.931\n",
      "50, 0.2177, 0.9634, 0.9456\n",
      "100, 0.2091, 0.9663, 0.9498\n"
     ]
    }
   ],
   "source": [
    "# with `min_samples_leaf` the case is the same\n",
    "# Last one is `max_features`\n",
    "for f in [None, 1, 5, 10, 20, 50, 100]:\n",
    "    dtr = DecisionTreeRegressor(max_depth=None, min_samples_leaf=1,\n",
    "                                max_features=f, random_state=5)\n",
    "    dtr.fit(X_train, y_train)\n",
    "    y_pred = dtr.predict(X_valid)\n",
    "    rmse, r2, r2_ad = metrics(y_valid, y_pred, X_valid)\n",
    "    print(f\"{f}, {round(rmse, 4)}, {round(r2, 4)}, {round(r2_ad, 4)}\")"
   ]
  },
  {
   "cell_type": "code",
   "execution_count": 115,
   "id": "4d395563",
   "metadata": {},
   "outputs": [
    {
     "data": {
      "text/plain": [
       "DecisionTreeRegressor(random_state=5)"
      ]
     },
     "execution_count": 115,
     "metadata": {},
     "output_type": "execute_result"
    }
   ],
   "source": [
    "# => we see that `default` params in our case are the best ones\n",
    "dtr = DecisionTreeRegressor(max_depth=None, min_samples_leaf=1,\n",
    "                            max_features=None, random_state=5)\n",
    "dtr.fit(X_train, y_train)"
   ]
  },
  {
   "cell_type": "code",
   "execution_count": 116,
   "id": "f19f4967",
   "metadata": {},
   "outputs": [],
   "source": [
    "d = [{'make': 'bmw',\n",
    " 'model': '1_series',\n",
    " 'year': 2012,\n",
    " 'engine_fuel_type': 'premium_unleaded_(required)',\n",
    " 'engine_hp': 300.0,\n",
    " 'engine_cylinders': 6.0,\n",
    " 'transmission_type': 'manual',\n",
    " 'driven_wheels': 'rear_wheel_drive',\n",
    " 'number_of_doors': 2.0,\n",
    " 'market_category': 'luxury,high-performance',\n",
    " 'vehicle_size': 'compact',\n",
    " 'vehicle_style': 'coupe',\n",
    " 'highway_mpg': 28,\n",
    " 'city_mpg': 20,\n",
    " 'popularity': 3916}]"
   ]
  },
  {
   "cell_type": "code",
   "execution_count": 117,
   "id": "a69d6640",
   "metadata": {},
   "outputs": [
    {
     "data": {
      "text/plain": [
       "39299.99999999996"
      ]
     },
     "execution_count": 117,
     "metadata": {},
     "output_type": "execute_result"
    }
   ],
   "source": [
    "test_data = dv.transform(d)\n",
    "result = dtr.predict(test_data)[0]\n",
    "np.expm1(result)\n",
    "# # 'msrp': 39300"
   ]
  },
  {
   "cell_type": "markdown",
   "id": "ed14de7a",
   "metadata": {},
   "source": [
    "# Random Forest Regressor"
   ]
  },
  {
   "cell_type": "code",
   "execution_count": 118,
   "id": "f4d63bcc",
   "metadata": {},
   "outputs": [
    {
     "data": {
      "text/plain": [
       "RandomForestRegressor()"
      ]
     },
     "execution_count": 118,
     "metadata": {},
     "output_type": "execute_result"
    }
   ],
   "source": [
    "rfr = RandomForestRegressor()\n",
    "rfr.fit(X_train, y_train)"
   ]
  },
  {
   "cell_type": "code",
   "execution_count": 119,
   "id": "bf8fbb68",
   "metadata": {},
   "outputs": [],
   "source": [
    "y_pred_train = rfr.predict(X_train)\n",
    "y_pred_valid = rfr.predict(X_valid)"
   ]
  },
  {
   "cell_type": "code",
   "execution_count": 120,
   "id": "463f64ff",
   "metadata": {},
   "outputs": [
    {
     "name": "stdout",
     "output_type": "stream",
     "text": [
      "0.06178234680635385 0.9968180303832851 0.9962051757830921\n",
      "0.11108434693422463 0.9904809405429569 0.985838485339451\n"
     ]
    }
   ],
   "source": [
    "rmse, r2, r2_ad = metrics(y_train, y_pred_train, X_train)\n",
    "print(rmse, r2, r2_ad)\n",
    "\n",
    "rmse, r2, r2_ad = metrics(y_valid, y_pred_valid, X_valid)\n",
    "print(rmse, r2, r2_ad)"
   ]
  },
  {
   "cell_type": "code",
   "execution_count": 121,
   "id": "86f523ed",
   "metadata": {},
   "outputs": [
    {
     "data": {
      "image/png": "[encoded data removed]",
      "text/plain": [
       "<Figure size 432x288 with 1 Axes>"
      ]
     },
     "metadata": {
      "needs_background": "light"
     },
     "output_type": "display_data"
    }
   ],
   "source": [
    "sns.histplot(y_pred_train, label='prediction', color = \"skyblue\")\n",
    "sns.histplot(y_train, label='target')\n",
    "plt.legend()\n",
    "plt.show()"
   ]
  },
  {
   "cell_type": "code",
   "execution_count": 123,
   "id": "3146687a",
   "metadata": {},
   "outputs": [
    {
     "data": {
      "image/png": "[encoded data removed]",
      "text/plain": [
       "<Figure size 432x288 with 1 Axes>"
      ]
     },
     "metadata": {
      "needs_background": "light"
     },
     "output_type": "display_data"
    }
   ],
   "source": [
    "sns.histplot(y_pred_valid, label='prediction', color = \"skyblue\")\n",
    "sns.histplot(y_valid, label='target')\n",
    "plt.legend()\n",
    "plt.show()"
   ]
  },
  {
   "cell_type": "markdown",
   "id": "f9b162ee",
   "metadata": {},
   "source": [
    "# Parameter tuning for Random Forest Regressor"
   ]
  },
  {
   "cell_type": "raw",
   "id": "09ac7e0f",
   "metadata": {},
   "source": [
    "Let's play with 'max_depth', 'min_samples_leaf', 'max_features' to find out whether we can improve our model"
   ]
  },
  {
   "cell_type": "code",
   "execution_count": 161,
   "id": "1983b2c0",
   "metadata": {
    "scrolled": true
   },
   "outputs": [
    {
     "name": "stdout",
     "output_type": "stream",
     "text": [
      "1, 10, 0.5649501920133514\n",
      "1, 40, 0.5649643059599161\n",
      "1, 70, 0.5649645734175948\n",
      "1, 100, 0.5649613284940145\n",
      "1, 130, 0.5649637182225474\n",
      "1, 160, 0.5649607555497517\n",
      "1, 190, 0.5649628057762309\n",
      "15, 10, 0.11143024154947549\n",
      "15, 40, 0.10988105418769577\n",
      "15, 70, 0.10977877211035914\n",
      "15, 100, 0.10915113326724188\n",
      "15, 130, 0.10964511686928917\n",
      "15, 160, 0.10946205844655224\n",
      "15, 190, 0.10941620125328419\n",
      "30, 10, 0.11256510818381896\n",
      "30, 40, 0.11125210499713807\n",
      "30, 70, 0.11068861931375744\n",
      "30, 100, 0.11007634166796958\n",
      "30, 130, 0.11050489801841715\n",
      "30, 160, 0.11025310092154832\n",
      "30, 190, 0.11011683278735036\n",
      "None, 10, 0.11217008836921494\n",
      "None, 40, 0.11127634131152653\n",
      "None, 70, 0.11082167912555128\n",
      "None, 100, 0.11034148232398615\n",
      "None, 130, 0.11086375839675988\n",
      "None, 160, 0.11058582240902026\n",
      "None, 190, 0.11043502568420155\n"
     ]
    }
   ],
   "source": [
    "all_metrics = {}\n",
    "\n",
    "for d in [1, 15, 30, None]:\n",
    "    aucs = []\n",
    "    \n",
    "    for i in range(10, 201, 30):\n",
    "        rfr = RandomForestRegressor(n_estimators=i, random_state=5,\n",
    "                                    max_depth=d)\n",
    "        rfr.fit(X_train, y_train)\n",
    "        y_pred = rfr.predict(X_valid)\n",
    "        rmse, r2, r2_adj = metrics(y_valid, y_pred, X_valid)\n",
    "        print(f\"{d}, {i}, {rmse}\")\n",
    "        aucs.append([rmse, r2, r2_adj])\n",
    "    \n",
    "    all_metrics[d] = aucs\n",
    "        "
   ]
  },
  {
   "cell_type": "code",
   "execution_count": 163,
   "id": "530a9c03",
   "metadata": {},
   "outputs": [
    {
     "data": {
      "text/plain": [
       "[0.5649501920133514,\n",
       " 0.5649643059599161,\n",
       " 0.5649645734175948,\n",
       " 0.5649613284940145,\n",
       " 0.5649637182225474,\n",
       " 0.5649607555497517,\n",
       " 0.5649628057762309]"
      ]
     },
     "execution_count": 163,
     "metadata": {},
     "output_type": "execute_result"
    }
   ],
   "source": [
    "[x[0] for x in all_metrics[1]]"
   ]
  },
  {
   "cell_type": "code",
   "execution_count": 178,
   "id": "cc6e3113",
   "metadata": {},
   "outputs": [
    {
     "data": {
      "image/png": "[encoded data removed]",
      "text/plain": [
       "<Figure size 432x432 with 1 Axes>"
      ]
     },
     "metadata": {
      "needs_background": "light"
     },
     "output_type": "display_data"
    }
   ],
   "source": [
    "trees = list(range(10, 201, 30))\n",
    "\n",
    "plt.figure(figsize=(6, 6))\n",
    "plt.plot(trees, [x[0] for x in all_metrics[1]], label='depth: 1')\n",
    "plt.plot(trees, [x[0] for x in all_metrics[15]], label='depth: 15')\n",
    "plt.plot(trees, [x[0] for x in all_metrics[30]], label='depth: 30')\n",
    "plt.plot(trees, [x[0] for x in all_metrics[None]], label='depth: None')\n",
    "\n",
    "plt.xticks(range(0, 201, 50))\n",
    "\n",
    "plt.ylim([-0.2, 0.6])\n",
    "plt.title('№ of trees vs RMSE')\n",
    "plt.xlabel('№ of trees')\n",
    "plt.ylabel('RMSE')\n",
    "\n",
    "plt.legend()\n",
    "plt.show()"
   ]
  },
  {
   "cell_type": "code",
   "execution_count": 179,
   "id": "7dcfef07",
   "metadata": {},
   "outputs": [
    {
     "name": "stdout",
     "output_type": "stream",
     "text": [
      "1, 10, 0.11256510818381896\n",
      "1, 40, 0.11125210499713807\n",
      "1, 70, 0.11068861931375744\n",
      "1, 100, 0.11007634166796958\n",
      "1, 130, 0.11050489801841715\n",
      "1, 160, 0.11025310092154832\n",
      "1, 190, 0.11011683278735036\n",
      "5, 10, 0.1379802978840595\n",
      "5, 40, 0.13320947522312337\n",
      "5, 70, 0.13313830154299564\n",
      "5, 100, 0.13335863453885533\n",
      "5, 130, 0.13382796650092385\n",
      "5, 160, 0.13355306747568407\n",
      "5, 190, 0.13348706298794655\n",
      "10, 10, 0.15450280678632058\n",
      "10, 40, 0.15150280935529087\n",
      "10, 70, 0.15175475115595224\n",
      "10, 100, 0.15216651377496607\n"
     ]
    },
    {
     "ename": "KeyboardInterrupt",
     "evalue": "",
     "output_type": "error",
     "traceback": [
      "\u001b[0;31m---------------------------------------------------------------------------\u001b[0m",
      "\u001b[0;31mKeyboardInterrupt\u001b[0m                         Traceback (most recent call last)",
      "\u001b[0;32m<ipython-input-179-52f7885c78b3>\u001b[0m in \u001b[0;36m<module>\u001b[0;34m\u001b[0m\n\u001b[1;32m      9\u001b[0m         rfr = RandomForestRegressor(n_estimators=i, random_state=5,\n\u001b[1;32m     10\u001b[0m                                     max_depth=30 , min_samples_leaf=leaf)\n\u001b[0;32m---> 11\u001b[0;31m         \u001b[0mrfr\u001b[0m\u001b[0;34m.\u001b[0m\u001b[0mfit\u001b[0m\u001b[0;34m(\u001b[0m\u001b[0mX_train\u001b[0m\u001b[0;34m,\u001b[0m \u001b[0my_train\u001b[0m\u001b[0;34m)\u001b[0m\u001b[0;34m\u001b[0m\u001b[0;34m\u001b[0m\u001b[0m\n\u001b[0m\u001b[1;32m     12\u001b[0m         \u001b[0my_pred\u001b[0m \u001b[0;34m=\u001b[0m \u001b[0mrfr\u001b[0m\u001b[0;34m.\u001b[0m\u001b[0mpredict\u001b[0m\u001b[0;34m(\u001b[0m\u001b[0mX_valid\u001b[0m\u001b[0;34m)\u001b[0m\u001b[0;34m\u001b[0m\u001b[0;34m\u001b[0m\u001b[0m\n\u001b[1;32m     13\u001b[0m         \u001b[0mrmse\u001b[0m\u001b[0;34m,\u001b[0m \u001b[0mr2\u001b[0m\u001b[0;34m,\u001b[0m \u001b[0mr2_adj\u001b[0m \u001b[0;34m=\u001b[0m \u001b[0mmetrics\u001b[0m\u001b[0;34m(\u001b[0m\u001b[0my_valid\u001b[0m\u001b[0;34m,\u001b[0m \u001b[0my_pred\u001b[0m\u001b[0;34m,\u001b[0m \u001b[0mX_valid\u001b[0m\u001b[0;34m)\u001b[0m\u001b[0;34m\u001b[0m\u001b[0;34m\u001b[0m\u001b[0m\n",
      "\u001b[0;32m~/opt/anaconda3/lib/python3.8/site-packages/sklearn/ensemble/_forest.py\u001b[0m in \u001b[0;36mfit\u001b[0;34m(self, X, y, sample_weight)\u001b[0m\n\u001b[1;32m    385\u001b[0m             \u001b[0;31m# parallel_backend contexts set at a higher level,\u001b[0m\u001b[0;34m\u001b[0m\u001b[0;34m\u001b[0m\u001b[0;34m\u001b[0m\u001b[0m\n\u001b[1;32m    386\u001b[0m             \u001b[0;31m# since correctness does not rely on using threads.\u001b[0m\u001b[0;34m\u001b[0m\u001b[0;34m\u001b[0m\u001b[0;34m\u001b[0m\u001b[0m\n\u001b[0;32m--> 387\u001b[0;31m             trees = Parallel(n_jobs=self.n_jobs, verbose=self.verbose,\n\u001b[0m\u001b[1;32m    388\u001b[0m                              \u001b[0;34m**\u001b[0m\u001b[0m_joblib_parallel_args\u001b[0m\u001b[0;34m(\u001b[0m\u001b[0mprefer\u001b[0m\u001b[0;34m=\u001b[0m\u001b[0;34m'threads'\u001b[0m\u001b[0;34m)\u001b[0m\u001b[0;34m)\u001b[0m\u001b[0;34m(\u001b[0m\u001b[0;34m\u001b[0m\u001b[0;34m\u001b[0m\u001b[0m\n\u001b[1;32m    389\u001b[0m                 delayed(_parallel_build_trees)(\n",
      "\u001b[0;32m~/opt/anaconda3/lib/python3.8/site-packages/joblib/parallel.py\u001b[0m in \u001b[0;36m__call__\u001b[0;34m(self, iterable)\u001b[0m\n\u001b[1;32m   1042\u001b[0m                 \u001b[0mself\u001b[0m\u001b[0;34m.\u001b[0m\u001b[0m_iterating\u001b[0m \u001b[0;34m=\u001b[0m \u001b[0mself\u001b[0m\u001b[0;34m.\u001b[0m\u001b[0m_original_iterator\u001b[0m \u001b[0;32mis\u001b[0m \u001b[0;32mnot\u001b[0m \u001b[0;32mNone\u001b[0m\u001b[0;34m\u001b[0m\u001b[0;34m\u001b[0m\u001b[0m\n\u001b[1;32m   1043\u001b[0m \u001b[0;34m\u001b[0m\u001b[0m\n\u001b[0;32m-> 1044\u001b[0;31m             \u001b[0;32mwhile\u001b[0m \u001b[0mself\u001b[0m\u001b[0;34m.\u001b[0m\u001b[0mdispatch_one_batch\u001b[0m\u001b[0;34m(\u001b[0m\u001b[0miterator\u001b[0m\u001b[0;34m)\u001b[0m\u001b[0;34m:\u001b[0m\u001b[0;34m\u001b[0m\u001b[0;34m\u001b[0m\u001b[0m\n\u001b[0m\u001b[1;32m   1045\u001b[0m                 \u001b[0;32mpass\u001b[0m\u001b[0;34m\u001b[0m\u001b[0;34m\u001b[0m\u001b[0m\n\u001b[1;32m   1046\u001b[0m \u001b[0;34m\u001b[0m\u001b[0m\n",
      "\u001b[0;32m~/opt/anaconda3/lib/python3.8/site-packages/joblib/parallel.py\u001b[0m in \u001b[0;36mdispatch_one_batch\u001b[0;34m(self, iterator)\u001b[0m\n\u001b[1;32m    857\u001b[0m                 \u001b[0;32mreturn\u001b[0m \u001b[0;32mFalse\u001b[0m\u001b[0;34m\u001b[0m\u001b[0;34m\u001b[0m\u001b[0m\n\u001b[1;32m    858\u001b[0m             \u001b[0;32melse\u001b[0m\u001b[0;34m:\u001b[0m\u001b[0;34m\u001b[0m\u001b[0;34m\u001b[0m\u001b[0m\n\u001b[0;32m--> 859\u001b[0;31m                 \u001b[0mself\u001b[0m\u001b[0;34m.\u001b[0m\u001b[0m_dispatch\u001b[0m\u001b[0;34m(\u001b[0m\u001b[0mtasks\u001b[0m\u001b[0;34m)\u001b[0m\u001b[0;34m\u001b[0m\u001b[0;34m\u001b[0m\u001b[0m\n\u001b[0m\u001b[1;32m    860\u001b[0m                 \u001b[0;32mreturn\u001b[0m \u001b[0;32mTrue\u001b[0m\u001b[0;34m\u001b[0m\u001b[0;34m\u001b[0m\u001b[0m\n\u001b[1;32m    861\u001b[0m \u001b[0;34m\u001b[0m\u001b[0m\n",
      "\u001b[0;32m~/opt/anaconda3/lib/python3.8/site-packages/joblib/parallel.py\u001b[0m in \u001b[0;36m_dispatch\u001b[0;34m(self, batch)\u001b[0m\n\u001b[1;32m    775\u001b[0m         \u001b[0;32mwith\u001b[0m \u001b[0mself\u001b[0m\u001b[0;34m.\u001b[0m\u001b[0m_lock\u001b[0m\u001b[0;34m:\u001b[0m\u001b[0;34m\u001b[0m\u001b[0;34m\u001b[0m\u001b[0m\n\u001b[1;32m    776\u001b[0m             \u001b[0mjob_idx\u001b[0m \u001b[0;34m=\u001b[0m \u001b[0mlen\u001b[0m\u001b[0;34m(\u001b[0m\u001b[0mself\u001b[0m\u001b[0;34m.\u001b[0m\u001b[0m_jobs\u001b[0m\u001b[0;34m)\u001b[0m\u001b[0;34m\u001b[0m\u001b[0;34m\u001b[0m\u001b[0m\n\u001b[0;32m--> 777\u001b[0;31m             \u001b[0mjob\u001b[0m \u001b[0;34m=\u001b[0m \u001b[0mself\u001b[0m\u001b[0;34m.\u001b[0m\u001b[0m_backend\u001b[0m\u001b[0;34m.\u001b[0m\u001b[0mapply_async\u001b[0m\u001b[0;34m(\u001b[0m\u001b[0mbatch\u001b[0m\u001b[0;34m,\u001b[0m \u001b[0mcallback\u001b[0m\u001b[0;34m=\u001b[0m\u001b[0mcb\u001b[0m\u001b[0;34m)\u001b[0m\u001b[0;34m\u001b[0m\u001b[0;34m\u001b[0m\u001b[0m\n\u001b[0m\u001b[1;32m    778\u001b[0m             \u001b[0;31m# A job can complete so quickly than its callback is\u001b[0m\u001b[0;34m\u001b[0m\u001b[0;34m\u001b[0m\u001b[0;34m\u001b[0m\u001b[0m\n\u001b[1;32m    779\u001b[0m             \u001b[0;31m# called before we get here, causing self._jobs to\u001b[0m\u001b[0;34m\u001b[0m\u001b[0;34m\u001b[0m\u001b[0;34m\u001b[0m\u001b[0m\n",
      "\u001b[0;32m~/opt/anaconda3/lib/python3.8/site-packages/joblib/_parallel_backends.py\u001b[0m in \u001b[0;36mapply_async\u001b[0;34m(self, func, callback)\u001b[0m\n\u001b[1;32m    206\u001b[0m     \u001b[0;32mdef\u001b[0m \u001b[0mapply_async\u001b[0m\u001b[0;34m(\u001b[0m\u001b[0mself\u001b[0m\u001b[0;34m,\u001b[0m \u001b[0mfunc\u001b[0m\u001b[0;34m,\u001b[0m \u001b[0mcallback\u001b[0m\u001b[0;34m=\u001b[0m\u001b[0;32mNone\u001b[0m\u001b[0;34m)\u001b[0m\u001b[0;34m:\u001b[0m\u001b[0;34m\u001b[0m\u001b[0;34m\u001b[0m\u001b[0m\n\u001b[1;32m    207\u001b[0m         \u001b[0;34m\"\"\"Schedule a func to be run\"\"\"\u001b[0m\u001b[0;34m\u001b[0m\u001b[0;34m\u001b[0m\u001b[0m\n\u001b[0;32m--> 208\u001b[0;31m         \u001b[0mresult\u001b[0m \u001b[0;34m=\u001b[0m \u001b[0mImmediateResult\u001b[0m\u001b[0;34m(\u001b[0m\u001b[0mfunc\u001b[0m\u001b[0;34m)\u001b[0m\u001b[0;34m\u001b[0m\u001b[0;34m\u001b[0m\u001b[0m\n\u001b[0m\u001b[1;32m    209\u001b[0m         \u001b[0;32mif\u001b[0m \u001b[0mcallback\u001b[0m\u001b[0;34m:\u001b[0m\u001b[0;34m\u001b[0m\u001b[0;34m\u001b[0m\u001b[0m\n\u001b[1;32m    210\u001b[0m             \u001b[0mcallback\u001b[0m\u001b[0;34m(\u001b[0m\u001b[0mresult\u001b[0m\u001b[0;34m)\u001b[0m\u001b[0;34m\u001b[0m\u001b[0;34m\u001b[0m\u001b[0m\n",
      "\u001b[0;32m~/opt/anaconda3/lib/python3.8/site-packages/joblib/_parallel_backends.py\u001b[0m in \u001b[0;36m__init__\u001b[0;34m(self, batch)\u001b[0m\n\u001b[1;32m    570\u001b[0m         \u001b[0;31m# Don't delay the application, to avoid keeping the input\u001b[0m\u001b[0;34m\u001b[0m\u001b[0;34m\u001b[0m\u001b[0;34m\u001b[0m\u001b[0m\n\u001b[1;32m    571\u001b[0m         \u001b[0;31m# arguments in memory\u001b[0m\u001b[0;34m\u001b[0m\u001b[0;34m\u001b[0m\u001b[0;34m\u001b[0m\u001b[0m\n\u001b[0;32m--> 572\u001b[0;31m         \u001b[0mself\u001b[0m\u001b[0;34m.\u001b[0m\u001b[0mresults\u001b[0m \u001b[0;34m=\u001b[0m \u001b[0mbatch\u001b[0m\u001b[0;34m(\u001b[0m\u001b[0;34m)\u001b[0m\u001b[0;34m\u001b[0m\u001b[0;34m\u001b[0m\u001b[0m\n\u001b[0m\u001b[1;32m    573\u001b[0m \u001b[0;34m\u001b[0m\u001b[0m\n\u001b[1;32m    574\u001b[0m     \u001b[0;32mdef\u001b[0m \u001b[0mget\u001b[0m\u001b[0;34m(\u001b[0m\u001b[0mself\u001b[0m\u001b[0;34m)\u001b[0m\u001b[0;34m:\u001b[0m\u001b[0;34m\u001b[0m\u001b[0;34m\u001b[0m\u001b[0m\n",
      "\u001b[0;32m~/opt/anaconda3/lib/python3.8/site-packages/joblib/parallel.py\u001b[0m in \u001b[0;36m__call__\u001b[0;34m(self)\u001b[0m\n\u001b[1;32m    260\u001b[0m         \u001b[0;31m# change the default number of processes to -1\u001b[0m\u001b[0;34m\u001b[0m\u001b[0;34m\u001b[0m\u001b[0;34m\u001b[0m\u001b[0m\n\u001b[1;32m    261\u001b[0m         \u001b[0;32mwith\u001b[0m \u001b[0mparallel_backend\u001b[0m\u001b[0;34m(\u001b[0m\u001b[0mself\u001b[0m\u001b[0;34m.\u001b[0m\u001b[0m_backend\u001b[0m\u001b[0;34m,\u001b[0m \u001b[0mn_jobs\u001b[0m\u001b[0;34m=\u001b[0m\u001b[0mself\u001b[0m\u001b[0;34m.\u001b[0m\u001b[0m_n_jobs\u001b[0m\u001b[0;34m)\u001b[0m\u001b[0;34m:\u001b[0m\u001b[0;34m\u001b[0m\u001b[0;34m\u001b[0m\u001b[0m\n\u001b[0;32m--> 262\u001b[0;31m             return [func(*args, **kwargs)\n\u001b[0m\u001b[1;32m    263\u001b[0m                     for func, args, kwargs in self.items]\n\u001b[1;32m    264\u001b[0m \u001b[0;34m\u001b[0m\u001b[0m\n",
      "\u001b[0;32m~/opt/anaconda3/lib/python3.8/site-packages/joblib/parallel.py\u001b[0m in \u001b[0;36m<listcomp>\u001b[0;34m(.0)\u001b[0m\n\u001b[1;32m    260\u001b[0m         \u001b[0;31m# change the default number of processes to -1\u001b[0m\u001b[0;34m\u001b[0m\u001b[0;34m\u001b[0m\u001b[0;34m\u001b[0m\u001b[0m\n\u001b[1;32m    261\u001b[0m         \u001b[0;32mwith\u001b[0m \u001b[0mparallel_backend\u001b[0m\u001b[0;34m(\u001b[0m\u001b[0mself\u001b[0m\u001b[0;34m.\u001b[0m\u001b[0m_backend\u001b[0m\u001b[0;34m,\u001b[0m \u001b[0mn_jobs\u001b[0m\u001b[0;34m=\u001b[0m\u001b[0mself\u001b[0m\u001b[0;34m.\u001b[0m\u001b[0m_n_jobs\u001b[0m\u001b[0;34m)\u001b[0m\u001b[0;34m:\u001b[0m\u001b[0;34m\u001b[0m\u001b[0;34m\u001b[0m\u001b[0m\n\u001b[0;32m--> 262\u001b[0;31m             return [func(*args, **kwargs)\n\u001b[0m\u001b[1;32m    263\u001b[0m                     for func, args, kwargs in self.items]\n\u001b[1;32m    264\u001b[0m \u001b[0;34m\u001b[0m\u001b[0m\n",
      "\u001b[0;32m~/opt/anaconda3/lib/python3.8/site-packages/sklearn/utils/fixes.py\u001b[0m in \u001b[0;36m__call__\u001b[0;34m(self, *args, **kwargs)\u001b[0m\n\u001b[1;32m    220\u001b[0m     \u001b[0;32mdef\u001b[0m \u001b[0m__call__\u001b[0m\u001b[0;34m(\u001b[0m\u001b[0mself\u001b[0m\u001b[0;34m,\u001b[0m \u001b[0;34m*\u001b[0m\u001b[0margs\u001b[0m\u001b[0;34m,\u001b[0m \u001b[0;34m**\u001b[0m\u001b[0mkwargs\u001b[0m\u001b[0;34m)\u001b[0m\u001b[0;34m:\u001b[0m\u001b[0;34m\u001b[0m\u001b[0;34m\u001b[0m\u001b[0m\n\u001b[1;32m    221\u001b[0m         \u001b[0;32mwith\u001b[0m \u001b[0mconfig_context\u001b[0m\u001b[0;34m(\u001b[0m\u001b[0;34m**\u001b[0m\u001b[0mself\u001b[0m\u001b[0;34m.\u001b[0m\u001b[0mconfig\u001b[0m\u001b[0;34m)\u001b[0m\u001b[0;34m:\u001b[0m\u001b[0;34m\u001b[0m\u001b[0;34m\u001b[0m\u001b[0m\n\u001b[0;32m--> 222\u001b[0;31m             \u001b[0;32mreturn\u001b[0m \u001b[0mself\u001b[0m\u001b[0;34m.\u001b[0m\u001b[0mfunction\u001b[0m\u001b[0;34m(\u001b[0m\u001b[0;34m*\u001b[0m\u001b[0margs\u001b[0m\u001b[0;34m,\u001b[0m \u001b[0;34m**\u001b[0m\u001b[0mkwargs\u001b[0m\u001b[0;34m)\u001b[0m\u001b[0;34m\u001b[0m\u001b[0;34m\u001b[0m\u001b[0m\n\u001b[0m",
      "\u001b[0;32m~/opt/anaconda3/lib/python3.8/site-packages/sklearn/ensemble/_forest.py\u001b[0m in \u001b[0;36m_parallel_build_trees\u001b[0;34m(tree, forest, X, y, sample_weight, tree_idx, n_trees, verbose, class_weight, n_samples_bootstrap)\u001b[0m\n\u001b[1;32m    167\u001b[0m                                                         indices=indices)\n\u001b[1;32m    168\u001b[0m \u001b[0;34m\u001b[0m\u001b[0m\n\u001b[0;32m--> 169\u001b[0;31m         \u001b[0mtree\u001b[0m\u001b[0;34m.\u001b[0m\u001b[0mfit\u001b[0m\u001b[0;34m(\u001b[0m\u001b[0mX\u001b[0m\u001b[0;34m,\u001b[0m \u001b[0my\u001b[0m\u001b[0;34m,\u001b[0m \u001b[0msample_weight\u001b[0m\u001b[0;34m=\u001b[0m\u001b[0mcurr_sample_weight\u001b[0m\u001b[0;34m,\u001b[0m \u001b[0mcheck_input\u001b[0m\u001b[0;34m=\u001b[0m\u001b[0;32mFalse\u001b[0m\u001b[0;34m)\u001b[0m\u001b[0;34m\u001b[0m\u001b[0;34m\u001b[0m\u001b[0m\n\u001b[0m\u001b[1;32m    170\u001b[0m     \u001b[0;32melse\u001b[0m\u001b[0;34m:\u001b[0m\u001b[0;34m\u001b[0m\u001b[0;34m\u001b[0m\u001b[0m\n\u001b[1;32m    171\u001b[0m         \u001b[0mtree\u001b[0m\u001b[0;34m.\u001b[0m\u001b[0mfit\u001b[0m\u001b[0;34m(\u001b[0m\u001b[0mX\u001b[0m\u001b[0;34m,\u001b[0m \u001b[0my\u001b[0m\u001b[0;34m,\u001b[0m \u001b[0msample_weight\u001b[0m\u001b[0;34m=\u001b[0m\u001b[0msample_weight\u001b[0m\u001b[0;34m,\u001b[0m \u001b[0mcheck_input\u001b[0m\u001b[0;34m=\u001b[0m\u001b[0;32mFalse\u001b[0m\u001b[0;34m)\u001b[0m\u001b[0;34m\u001b[0m\u001b[0;34m\u001b[0m\u001b[0m\n",
      "\u001b[0;32m~/opt/anaconda3/lib/python3.8/site-packages/sklearn/tree/_classes.py\u001b[0m in \u001b[0;36mfit\u001b[0;34m(self, X, y, sample_weight, check_input, X_idx_sorted)\u001b[0m\n\u001b[1;32m   1250\u001b[0m         \"\"\"\n\u001b[1;32m   1251\u001b[0m \u001b[0;34m\u001b[0m\u001b[0m\n\u001b[0;32m-> 1252\u001b[0;31m         super().fit(\n\u001b[0m\u001b[1;32m   1253\u001b[0m             \u001b[0mX\u001b[0m\u001b[0;34m,\u001b[0m \u001b[0my\u001b[0m\u001b[0;34m,\u001b[0m\u001b[0;34m\u001b[0m\u001b[0;34m\u001b[0m\u001b[0m\n\u001b[1;32m   1254\u001b[0m             \u001b[0msample_weight\u001b[0m\u001b[0;34m=\u001b[0m\u001b[0msample_weight\u001b[0m\u001b[0;34m,\u001b[0m\u001b[0;34m\u001b[0m\u001b[0;34m\u001b[0m\u001b[0m\n",
      "\u001b[0;32m~/opt/anaconda3/lib/python3.8/site-packages/sklearn/tree/_classes.py\u001b[0m in \u001b[0;36mfit\u001b[0;34m(self, X, y, sample_weight, check_input, X_idx_sorted)\u001b[0m\n\u001b[1;32m    392\u001b[0m                                            min_impurity_split)\n\u001b[1;32m    393\u001b[0m \u001b[0;34m\u001b[0m\u001b[0m\n\u001b[0;32m--> 394\u001b[0;31m         \u001b[0mbuilder\u001b[0m\u001b[0;34m.\u001b[0m\u001b[0mbuild\u001b[0m\u001b[0;34m(\u001b[0m\u001b[0mself\u001b[0m\u001b[0;34m.\u001b[0m\u001b[0mtree_\u001b[0m\u001b[0;34m,\u001b[0m \u001b[0mX\u001b[0m\u001b[0;34m,\u001b[0m \u001b[0my\u001b[0m\u001b[0;34m,\u001b[0m \u001b[0msample_weight\u001b[0m\u001b[0;34m)\u001b[0m\u001b[0;34m\u001b[0m\u001b[0;34m\u001b[0m\u001b[0m\n\u001b[0m\u001b[1;32m    395\u001b[0m \u001b[0;34m\u001b[0m\u001b[0m\n\u001b[1;32m    396\u001b[0m         \u001b[0;32mif\u001b[0m \u001b[0mself\u001b[0m\u001b[0;34m.\u001b[0m\u001b[0mn_outputs_\u001b[0m \u001b[0;34m==\u001b[0m \u001b[0;36m1\u001b[0m \u001b[0;32mand\u001b[0m \u001b[0mis_classifier\u001b[0m\u001b[0;34m(\u001b[0m\u001b[0mself\u001b[0m\u001b[0;34m)\u001b[0m\u001b[0;34m:\u001b[0m\u001b[0;34m\u001b[0m\u001b[0;34m\u001b[0m\u001b[0m\n",
      "\u001b[0;31mKeyboardInterrupt\u001b[0m: "
     ]
    }
   ],
   "source": [
    "# best depth: 30\n",
    "# now let's see `min_samples_leaf`\n",
    "all_metrics_leaf = {}\n",
    "\n",
    "for leaf in [1, 5]:\n",
    "    metric = []\n",
    "    \n",
    "    for i in range(10, 201, 30):\n",
    "        rfr = RandomForestRegressor(n_estimators=i, random_state=5,\n",
    "                                    max_depth=30 , min_samples_leaf=leaf)\n",
    "        rfr.fit(X_train, y_train)\n",
    "        y_pred = rfr.predict(X_valid)\n",
    "        rmse, r2, r2_adj = metrics(y_valid, y_pred, X_valid)\n",
    "        print(f\"{leaf}, {i}, {rmse}\")\n",
    "        metric.append([rmse, r2, r2_adj])\n",
    "    \n",
    "    all_metrics_leaf[leaf] = metric\n",
    "        "
   ]
  },
  {
   "cell_type": "code",
   "execution_count": null,
   "id": "8d2caaf6",
   "metadata": {},
   "outputs": [],
   "source": [
    "trees = list(range(10, 201, 30))\n",
    "\n",
    "plt.plot(trees, [x[0] for x in all_metrics[1]], label='leaf: 1')\n",
    "plt.plot(trees, [x[0] for x in all_metrics[15]], label='leaf: 5')\n",
    "plt.plot(trees, [x[0] for x in all_metrics[30]], label='leaf: 10')\n",
    "\n",
    "plt.figure(figsize=(6, 6))\n",
    "plt.xticks(range(0, 201, 50))\n",
    "plt.ylim([-0.2, 0.6])\n",
    "plt.title('№ of trees vs RMSE')\n",
    "plt.xlabel('№ of trees')\n",
    "plt.ylabel('RMSE')\n",
    "\n",
    "plt.legend()\n",
    "plt.show()"
   ]
  },
  {
   "cell_type": "code",
   "execution_count": 185,
   "id": "3d39b116",
   "metadata": {},
   "outputs": [
    {
     "name": "stdout",
     "output_type": "stream",
     "text": [
      "30, 10, 0.20130305473477603\n",
      "30, 40, 0.16808945466930458\n",
      "30, 70, 0.1709627082774639\n",
      "30, 100, 0.1835286281149022\n",
      "30, 130, 0.18380038715046337\n",
      "30, 160, 0.1815166529037011\n",
      "30, 190, 0.18593344280246282\n",
      "40, 10, 0.16948084176767378\n",
      "40, 40, 0.1430406539833151\n",
      "40, 70, 0.14384109728862365\n",
      "40, 100, 0.1443641659135747\n",
      "40, 130, 0.14071869373326198\n",
      "40, 160, 0.1403026021416219\n",
      "40, 190, 0.14181802695014742\n"
     ]
    }
   ],
   "source": [
    "# best depth: 30, best. leaf: 1 \n",
    "# now let's see `max_features`\n",
    "all_metrics_features = {}\n",
    "\n",
    "for f in [30, 40]:\n",
    "    metric= []\n",
    "    \n",
    "    for i in range(10, 201, 30):\n",
    "        rfr = RandomForestRegressor(n_estimators=i, random_state=5,\n",
    "                                    max_depth=30, min_samples_leaf=1,\n",
    "                                    max_features=f)\n",
    "        rfr.fit(X_train, y_train)\n",
    "        y_pred = rfr.predict(X_valid)\n",
    "        rmse, r2, r2_adj = metrics(y_valid, y_pred, X_valid)\n",
    "        print(f\"{f}, {i}, {rmse}\")\n",
    "        metric.append([rmse, r2, r2_adj])\n",
    "    \n",
    "    all_metrics_features[f] = metric\n",
    "        "
   ]
  },
  {
   "cell_type": "markdown",
   "id": "0b5bfd57",
   "metadata": {},
   "source": [
    "# Checking overfitting for final model and testing"
   ]
  },
  {
   "cell_type": "code",
   "execution_count": 229,
   "id": "097306c1",
   "metadata": {},
   "outputs": [],
   "source": [
    "rfr = RandomForestRegressor(n_estimators=190, random_state=5,\n",
    "                            max_depth=30, min_samples_leaf=1,\n",
    "                            max_features=40)\n",
    "rfr.fit(X_train, y_train)\n",
    "y_pred_valid_final = rfr.predict(X_valid)"
   ]
  },
  {
   "cell_type": "code",
   "execution_count": 230,
   "id": "94c62607",
   "metadata": {},
   "outputs": [
    {
     "name": "stdout",
     "output_type": "stream",
     "text": [
      "0.14181802695014742 0.984485021251355 0.9769183499694944\n"
     ]
    }
   ],
   "source": [
    "rmse, r2, adjusted = metrics(y_valid, y_pred_valid_final, X_valid)\n",
    "print(rmse, r2, adjusted)"
   ]
  },
  {
   "cell_type": "raw",
   "id": "0f30b0be",
   "metadata": {},
   "source": [
    "We'll compare with those figures to understand whether our model overfits or not"
   ]
  },
  {
   "cell_type": "code",
   "execution_count": 457,
   "id": "16f1bff6",
   "metadata": {},
   "outputs": [],
   "source": [
    "# before converting to dict, we need to get\n",
    "# `y`like variables and remove `msrp`\n",
    "y_train_full = np.log1p(full_train.msrp.values)\n",
    "y_test = np.log1p(df_test.msrp.values)\n",
    "\n",
    "del full_train['msrp']\n",
    "del df_test['msrp']"
   ]
  },
  {
   "cell_type": "code",
   "execution_count": 458,
   "id": "862ebcee",
   "metadata": {},
   "outputs": [],
   "source": [
    "dict_full_train = full_train.to_dict(orient='records')\n",
    "dict_test = df_test.to_dict(orient='records')\n",
    "\n",
    "dv = DictVectorizer(sparse=False)\n",
    "X_full_train = dv.fit_transform(dict_full_train)\n",
    "X_test = dv.transform(dict_test)"
   ]
  },
  {
   "cell_type": "code",
   "execution_count": 421,
   "id": "0c2a9fa5",
   "metadata": {},
   "outputs": [],
   "source": [
    "rfr = RandomForestRegressor(n_estimators=190, random_state=5,\n",
    "                            max_depth=30, min_samples_leaf=1,\n",
    "                            max_features=40)\n",
    "\n",
    "rfr.fit(X_full_train, y_train_full)\n",
    "y_pred_test = rfr.predict(X_test)"
   ]
  },
  {
   "cell_type": "code",
   "execution_count": 234,
   "id": "d6fb1259",
   "metadata": {},
   "outputs": [
    {
     "name": "stdout",
     "output_type": "stream",
     "text": [
      "0.13328562085797369 0.9850001670199523 0.9728910454032825\n"
     ]
    }
   ],
   "source": [
    "rmse, r2, adjusted = metrics(y_test, y_pred_test, X_test)\n",
    "print(rmse, r2, adjusted)"
   ]
  },
  {
   "cell_type": "code",
   "execution_count": 235,
   "id": "0f2f3ac1",
   "metadata": {},
   "outputs": [],
   "source": [
    "d = [{'make': 'bmw',\n",
    " 'model': '1_series',\n",
    " 'year': 2012,\n",
    " 'engine_fuel_type': 'premium_unleaded_(required)',\n",
    " 'engine_hp': 300.0,\n",
    " 'engine_cylinders': 6.0,\n",
    " 'transmission_type': 'manual',\n",
    " 'driven_wheels': 'rear_wheel_drive',\n",
    " 'number_of_doors': 2.0,\n",
    " 'market_category': 'luxury,high-performance',\n",
    " 'vehicle_size': 'compact',\n",
    " 'vehicle_style': 'coupe',\n",
    " 'highway_mpg': 28,\n",
    " 'city_mpg': 20,\n",
    " 'popularity': 3916}]"
   ]
  },
  {
   "cell_type": "code",
   "execution_count": 236,
   "id": "b2186a5f",
   "metadata": {},
   "outputs": [
    {
     "data": {
      "text/plain": [
       "39225.35817360101"
      ]
     },
     "execution_count": 236,
     "metadata": {},
     "output_type": "execute_result"
    }
   ],
   "source": [
    "data = dv.transform(d)\n",
    "result = rfr.predict(data)[0]\n",
    "np.expm1(result)\n",
    "# 39300"
   ]
  },
  {
   "cell_type": "markdown",
   "id": "b2501745",
   "metadata": {},
   "source": [
    "# XGB Boost"
   ]
  },
  {
   "cell_type": "raw",
   "id": "ff0dcd20",
   "metadata": {},
   "source": [
    "if you want to redo X_train & X_valid, then you're to use numerical + categorical variables as without them there'll be some non-usable columns"
   ]
  },
  {
   "cell_type": "code",
   "execution_count": 284,
   "id": "849e18a3",
   "metadata": {},
   "outputs": [],
   "source": [
    "dtrain = xgb.DMatrix(X_train, label=y_train,\n",
    "                     feature_names=dv.feature_names_)\n",
    "\n",
    "dvalid = xgb.DMatrix(X_valid, label=y_valid,\n",
    "                      feature_names=dv.feature_names_)"
   ]
  },
  {
   "cell_type": "code",
   "execution_count": 285,
   "id": "157bdeb2",
   "metadata": {},
   "outputs": [],
   "source": [
    "xgb_params = {\n",
    "    'eta': 0.3,\n",
    "    'max_depth': 6,\n",
    "    'min_child_weight': 1,\n",
    "    'objective': 'reg:squarederror',\n",
    "    'nthread': 8,\n",
    "    'seed': 1\n",
    "}"
   ]
  },
  {
   "cell_type": "code",
   "execution_count": 286,
   "id": "65cbab92",
   "metadata": {},
   "outputs": [],
   "source": [
    "model = xgb.train(xgb_params, dtrain, num_boost_round=10)\n",
    "y_pred_xgb = model.predict(dvalid)"
   ]
  },
  {
   "cell_type": "code",
   "execution_count": 287,
   "id": "520f4449",
   "metadata": {
    "scrolled": true
   },
   "outputs": [
    {
     "name": "stdout",
     "output_type": "stream",
     "text": [
      "0.3240509485943728 0.9189944264411942 0.8794879239155893\n"
     ]
    }
   ],
   "source": [
    "rmse, r2, adj_r2 = metrics(y_valid, y_pred_xgb, X_valid)\n",
    "print(rmse, r2, adj_r2)"
   ]
  },
  {
   "cell_type": "markdown",
   "id": "3325da75",
   "metadata": {},
   "source": [
    "<h3>Let's look at changes over various figures</h3>"
   ]
  },
  {
   "cell_type": "code",
   "execution_count": 296,
   "id": "7984a575",
   "metadata": {},
   "outputs": [],
   "source": [
    "watchlist = [(dtrain, 'train'), (dvalid, 'valid')]\n",
    "\n",
    "xgb_params = {\n",
    "    'eta': 0.3,\n",
    "    'max_depth': 6,\n",
    "    'min_child_weight': 1,\n",
    "\n",
    "    'objective': 'reg:squarederror',\n",
    "    'eval_metric': 'rmse',\n",
    "    'nthread': 8,\n",
    "    'seed': 1\n",
    "}"
   ]
  },
  {
   "cell_type": "code",
   "execution_count": 297,
   "id": "ea26c5b0",
   "metadata": {},
   "outputs": [],
   "source": [
    "%%capture output\n",
    "\n",
    "model = xgb.train(xgb_params, dtrain, evals=watchlist,\n",
    "                  verbose_eval=10, num_boost_round=100)"
   ]
  },
  {
   "cell_type": "code",
   "execution_count": 298,
   "id": "940b597b",
   "metadata": {},
   "outputs": [],
   "source": [
    "def parse_xgb_output(ouput):\n",
    "    tree = []\n",
    "    aucs_train = []\n",
    "    aucs_val = []\n",
    "\n",
    "    for line in output.stdout.strip().split('\\n'):\n",
    "        it_line, train_line, val_line = line.split('\\t')\n",
    "        it = int(it_line.strip('[]'))\n",
    "        train = float(train_line.split(':')[1])\n",
    "        val = float(val_line.split(':')[1])\n",
    "\n",
    "        tree.append(it)\n",
    "        aucs_train.append(train)\n",
    "        aucs_val.append(val)\n",
    "\n",
    "    return tree, aucs_train, aucs_val"
   ]
  },
  {
   "cell_type": "code",
   "execution_count": 301,
   "id": "469eda64",
   "metadata": {},
   "outputs": [],
   "source": [
    "tree, rmse_train, rmse_valid = parse_xgb_output(output)"
   ]
  },
  {
   "cell_type": "code",
   "execution_count": 306,
   "id": "fc557e0c",
   "metadata": {},
   "outputs": [
    {
     "data": {
      "text/plain": [
       "[(6.78626, 6.75661),\n",
       " (0.24928, 0.2526),\n",
       " (0.12475, 0.13765),\n",
       " (0.11374, 0.12988),\n",
       " (0.10647, 0.1246),\n",
       " (0.10197, 0.1214),\n",
       " (0.09859, 0.119),\n",
       " (0.09584, 0.11774),\n",
       " (0.09195, 0.11516),\n",
       " (0.0893, 0.1134),\n",
       " (0.08768, 0.1124)]"
      ]
     },
     "execution_count": 306,
     "metadata": {},
     "output_type": "execute_result"
    }
   ],
   "source": [
    "list(zip(rmse_train, rmse_valid))"
   ]
  },
  {
   "cell_type": "code",
   "execution_count": 304,
   "id": "0a5422c9",
   "metadata": {},
   "outputs": [
    {
     "data": {
      "image/png": "[encoded data removed]",
      "text/plain": [
       "<Figure size 360x360 with 1 Axes>"
      ]
     },
     "metadata": {
      "needs_background": "light"
     },
     "output_type": "display_data"
    }
   ],
   "source": [
    "plt.figure(figsize=(5,5))\n",
    "plt.plot(tree, rmse_train, label='Train RMSE')\n",
    "plt.plot(tree, rmse_valid, label='Validation RMSE')\n",
    "plt.xticks(range(0, 101, 25))\n",
    "\n",
    "plt.title('№ of trees vs RMSE')\n",
    "plt.xlabel('№ of trees')\n",
    "plt.ylabel('RMSE')\n",
    "plt.legend()\n",
    "\n",
    "plt.show()"
   ]
  },
  {
   "cell_type": "markdown",
   "id": "98eedb74",
   "metadata": {},
   "source": [
    "# Parameter tuning\n",
    "\n",
    "As we'd like to find out whether we can somehow change results. Although according to above metrics we have a pretty good grasp by the model."
   ]
  },
  {
   "cell_type": "code",
   "execution_count": 308,
   "id": "69775b2a",
   "metadata": {},
   "outputs": [],
   "source": [
    "%%capture output\n",
    "# at first let's adjust `eta`\n",
    "\n",
    "xgb_params = {\n",
    "    'eta': 0.1,\n",
    "    'max_depth': 6,\n",
    "    'min_child_weight': 1,\n",
    "\n",
    "    'objective': 'reg:squarederror',\n",
    "    'eval_metric': 'rmse',\n",
    "    'nthread': 8,\n",
    "    'seed': 1\n",
    "}\n",
    "\n",
    "model = xgb.train(xgb_params, dtrain, evals=watchlist,\n",
    "                  verbose_eval=10, num_boost_round=300)"
   ]
  },
  {
   "cell_type": "code",
   "execution_count": 309,
   "id": "5a38b416",
   "metadata": {},
   "outputs": [],
   "source": [
    "tree, rmse_train, rmse_valid_01 = parse_xgb_output(output)"
   ]
  },
  {
   "cell_type": "code",
   "execution_count": 314,
   "id": "154912bc",
   "metadata": {},
   "outputs": [
    {
     "name": "stdout",
     "output_type": "stream",
     "text": [
      "max rmse: 0.1097\n",
      "(0.1097, 299)\n"
     ]
    }
   ],
   "source": [
    "print(f\"max rmse: {min(rmse_valid_01)}\")\n",
    "print(min(zip(rmse_valid_01, tree)))"
   ]
  },
  {
   "cell_type": "code",
   "execution_count": 323,
   "id": "469dfca8",
   "metadata": {},
   "outputs": [],
   "source": [
    "%%capture output\n",
    "# at first let's adjust `eta`\n",
    "\n",
    "xgb_params = {\n",
    "    'eta': 0.3,\n",
    "    'max_depth': 6,\n",
    "    'min_child_weight': 1,\n",
    "\n",
    "    'objective': 'reg:squarederror',\n",
    "    'eval_metric': 'rmse',\n",
    "    'nthread': 8,\n",
    "    'seed': 1\n",
    "}\n",
    "\n",
    "model = xgb.train(xgb_params, dtrain, evals=watchlist,\n",
    "                  verbose_eval=10, num_boost_round=300)"
   ]
  },
  {
   "cell_type": "code",
   "execution_count": 324,
   "id": "4a915e98",
   "metadata": {},
   "outputs": [],
   "source": [
    "tree, rmse_train, rmse_valid_03 = parse_xgb_output(output)"
   ]
  },
  {
   "cell_type": "code",
   "execution_count": 325,
   "id": "1ad1e7c8",
   "metadata": {},
   "outputs": [
    {
     "name": "stdout",
     "output_type": "stream",
     "text": [
      "max rmse: 0.1037\n",
      "(0.1037, 299)\n"
     ]
    }
   ],
   "source": [
    "print(f\"max rmse: {min(rmse_valid_03)}\")\n",
    "print(min(zip(rmse_valid_03, tree)))"
   ]
  },
  {
   "cell_type": "code",
   "execution_count": 326,
   "id": "03aedc88",
   "metadata": {},
   "outputs": [],
   "source": [
    "%%capture output\n",
    "# at first let's adjust `eta`\n",
    "\n",
    "xgb_params = {\n",
    "    'eta': 0.5,\n",
    "    'max_depth': 6,\n",
    "    'min_child_weight': 1,\n",
    "\n",
    "    'objective': 'reg:squarederror',\n",
    "    'eval_metric': 'rmse',\n",
    "    'nthread': 8,\n",
    "    'seed': 1\n",
    "}\n",
    "\n",
    "model = xgb.train(xgb_params, dtrain, evals=watchlist,\n",
    "                  verbose_eval=10, num_boost_round=300)"
   ]
  },
  {
   "cell_type": "code",
   "execution_count": 327,
   "id": "1c4085b1",
   "metadata": {},
   "outputs": [],
   "source": [
    "tree, rmse_train, rmse_valid_05 = parse_xgb_output(output)"
   ]
  },
  {
   "cell_type": "code",
   "execution_count": 330,
   "id": "478e1d8f",
   "metadata": {},
   "outputs": [
    {
     "name": "stdout",
     "output_type": "stream",
     "text": [
      "max rmse: 0.10403\n",
      "(0.10403, 280)\n"
     ]
    }
   ],
   "source": [
    "print(f\"max rmse: {min(rmse_valid_05)}\")\n",
    "print(min(zip(rmse_valid_05, tree)))"
   ]
  },
  {
   "cell_type": "code",
   "execution_count": 331,
   "id": "54ee7cb7",
   "metadata": {},
   "outputs": [
    {
     "data": {
      "image/png": "[encoded data removed]",
      "text/plain": [
       "<Figure size 432x288 with 1 Axes>"
      ]
     },
     "metadata": {
      "needs_background": "light"
     },
     "output_type": "display_data"
    }
   ],
   "source": [
    "plt.plot(tree, rmse_valid_03, label='eta_03')\n",
    "plt.plot(tree, rmse_valid_05, label='eta_05')\n",
    "plt.plot(tree, rmse_valid_01, label='eta_01')\n",
    "plt.xlabel('№ of trees')\n",
    "plt.title('Impact of eta on model')\n",
    "plt.ylabel('RMSE (validation)')\n",
    "plt.xticks(range(0, 301, 50))\n",
    "\n",
    "plt.legend()\n",
    "plt.show()"
   ]
  },
  {
   "cell_type": "raw",
   "id": "cd3de8c6",
   "metadata": {},
   "source": [
    "We see that ets=0.5 and eta=0.3 are the best, but 0.3 has taller tail => better to choose it"
   ]
  },
  {
   "cell_type": "code",
   "execution_count": 332,
   "id": "353ff6aa",
   "metadata": {},
   "outputs": [],
   "source": [
    "%%capture output\n",
    "# next is `max_depth`\n",
    "# at first default=6\n",
    "\n",
    "xgb_params = {\n",
    "    'eta': 0.3,\n",
    "    'max_depth': 6,\n",
    "    'min_child_weight': 1,\n",
    "\n",
    "    'objective': 'reg:squarederror',\n",
    "    'eval_metric': 'rmse',\n",
    "    'nthread': 8,\n",
    "    'seed': 1\n",
    "}\n",
    "\n",
    "model = xgb.train(xgb_params, dtrain, evals=watchlist,\n",
    "                  verbose_eval=10, num_boost_round=300)"
   ]
  },
  {
   "cell_type": "code",
   "execution_count": 333,
   "id": "090ea8e6",
   "metadata": {},
   "outputs": [],
   "source": [
    "tree, rmse_train, rmse_valid_6 = parse_xgb_output(output)"
   ]
  },
  {
   "cell_type": "code",
   "execution_count": 334,
   "id": "83c66730",
   "metadata": {},
   "outputs": [
    {
     "name": "stdout",
     "output_type": "stream",
     "text": [
      "max rmse: 0.1037\n",
      "(0.1037, 299)\n"
     ]
    }
   ],
   "source": [
    "print(f\"max rmse: {min(rmse_valid_6)}\")\n",
    "print(min(zip(rmse_valid_6, tree)))"
   ]
  },
  {
   "cell_type": "code",
   "execution_count": 335,
   "id": "849930e8",
   "metadata": {},
   "outputs": [],
   "source": [
    "%%capture output\n",
    "# max_depth=3\n",
    "\n",
    "xgb_params = {\n",
    "    'eta': 0.3,\n",
    "    'max_depth': 3,\n",
    "    'min_child_weight': 1,\n",
    "\n",
    "    'objective': 'reg:squarederror',\n",
    "    'eval_metric': 'rmse',\n",
    "    'nthread': 8,\n",
    "    'seed': 1\n",
    "}\n",
    "\n",
    "model = xgb.train(xgb_params, dtrain, evals=watchlist,\n",
    "                  verbose_eval=10, num_boost_round=300)"
   ]
  },
  {
   "cell_type": "code",
   "execution_count": 336,
   "id": "3ebe7440",
   "metadata": {},
   "outputs": [],
   "source": [
    "tree, rmse_train, rmse_valid_3 = parse_xgb_output(output)"
   ]
  },
  {
   "cell_type": "code",
   "execution_count": 337,
   "id": "21f1760d",
   "metadata": {},
   "outputs": [
    {
     "name": "stdout",
     "output_type": "stream",
     "text": [
      "max rmse: 0.11904\n",
      "(0.11904, 299)\n"
     ]
    }
   ],
   "source": [
    "print(f\"max rmse: {min(rmse_valid_3)}\")\n",
    "print(min(zip(rmse_valid_3, tree)))"
   ]
  },
  {
   "cell_type": "code",
   "execution_count": 338,
   "id": "46ad97d2",
   "metadata": {},
   "outputs": [],
   "source": [
    "%%capture output\n",
    "# max_depth=10\n",
    "\n",
    "xgb_params = {\n",
    "    'eta': 0.3,\n",
    "    'max_depth': 10,\n",
    "    'min_child_weight': 1,\n",
    "\n",
    "    'objective': 'reg:squarederror',\n",
    "    'eval_metric': 'rmse',\n",
    "    'nthread': 8,\n",
    "    'seed': 1\n",
    "}\n",
    "\n",
    "model = xgb.train(xgb_params, dtrain, evals=watchlist,\n",
    "                  verbose_eval=10, num_boost_round=300)"
   ]
  },
  {
   "cell_type": "code",
   "execution_count": 339,
   "id": "3670600b",
   "metadata": {},
   "outputs": [],
   "source": [
    "tree, rmse_train, rmse_valid_10 = parse_xgb_output(output)"
   ]
  },
  {
   "cell_type": "code",
   "execution_count": 340,
   "id": "117b017b",
   "metadata": {},
   "outputs": [
    {
     "name": "stdout",
     "output_type": "stream",
     "text": [
      "max rmse: 0.10408\n",
      "(0.10408, 220)\n"
     ]
    }
   ],
   "source": [
    "print(f\"max rmse: {min(rmse_valid_10)}\")\n",
    "print(min(zip(rmse_valid_10, tree)))"
   ]
  },
  {
   "cell_type": "code",
   "execution_count": 344,
   "id": "e50f167c",
   "metadata": {},
   "outputs": [
    {
     "data": {
      "image/png": "[encoded data removed]",
      "text/plain": [
       "<Figure size 432x432 with 1 Axes>"
      ]
     },
     "metadata": {
      "needs_background": "light"
     },
     "output_type": "display_data"
    }
   ],
   "source": [
    "plt.figure(figsize=(6, 6))\n",
    "plt.plot(tree, rmse_valid_3, label='max_depth=3')\n",
    "plt.plot(tree, rmse_valid_10, label='max_depth=10')\n",
    "plt.plot(tree, rmse_valid_01, label='max_depth=6')\n",
    "\n",
    "plt.xlabel('№ of trees')\n",
    "plt.ylabel('RMSE (validation)')\n",
    "plt.title('Max_depth impact on the model')\n",
    "plt.xticks(range(0, 301, 100))\n",
    "\n",
    "plt.legend()\n",
    "plt.show()"
   ]
  },
  {
   "cell_type": "raw",
   "id": "ed52c690",
   "metadata": {},
   "source": [
    "max_depth=3 & max_depth=10 have similar results, but for max_depth=10 it takes fewer trees, hence we opt for it"
   ]
  },
  {
   "cell_type": "code",
   "execution_count": 354,
   "id": "7d291a64",
   "metadata": {},
   "outputs": [],
   "source": [
    "%%capture output\n",
    "# min_child_weight=1 (default)\n",
    "\n",
    "xgb_params = {\n",
    "    'eta': 0.3,\n",
    "    'max_depth': 10,\n",
    "    'min_child_weight': 1,\n",
    "\n",
    "    'objective': 'reg:squarederror',\n",
    "    'eval_metric': 'rmse',\n",
    "    'nthread': 8,\n",
    "    'seed': 1\n",
    "}\n",
    "\n",
    "model = xgb.train(xgb_params, dtrain, evals=watchlist,\n",
    "                  verbose_eval=10, num_boost_round=300)"
   ]
  },
  {
   "cell_type": "code",
   "execution_count": 355,
   "id": "ae265945",
   "metadata": {},
   "outputs": [],
   "source": [
    "tree, rmse_train, rmse_valid_1 = parse_xgb_output(output)"
   ]
  },
  {
   "cell_type": "code",
   "execution_count": 356,
   "id": "0af77ee4",
   "metadata": {},
   "outputs": [
    {
     "name": "stdout",
     "output_type": "stream",
     "text": [
      "max rmse: 0.10408\n",
      "(0.10408, 220)\n"
     ]
    }
   ],
   "source": [
    "print(f\"max rmse: {min(rmse_valid_1)}\")\n",
    "print(min(zip(rmse_valid_1, tree)))"
   ]
  },
  {
   "cell_type": "code",
   "execution_count": 348,
   "id": "8e7e4cce",
   "metadata": {},
   "outputs": [],
   "source": [
    "%%capture output\n",
    "# min_child_weight=5\n",
    "\n",
    "xgb_params = {\n",
    "    'eta': 0.3,\n",
    "    'max_depth': 10,\n",
    "    'min_child_weight': 5,\n",
    "\n",
    "    'objective': 'reg:squarederror',\n",
    "    'eval_metric': 'rmse',\n",
    "    'nthread': 8,\n",
    "    'seed': 1\n",
    "}\n",
    "\n",
    "model = xgb.train(xgb_params, dtrain, evals=watchlist,\n",
    "                  verbose_eval=10, num_boost_round=300)"
   ]
  },
  {
   "cell_type": "code",
   "execution_count": 351,
   "id": "1e36645d",
   "metadata": {},
   "outputs": [],
   "source": [
    "tree, rmse_train, rmse_valid_5 = parse_xgb_output(output)"
   ]
  },
  {
   "cell_type": "code",
   "execution_count": 353,
   "id": "c7c3e688",
   "metadata": {},
   "outputs": [
    {
     "name": "stdout",
     "output_type": "stream",
     "text": [
      "max rmse: 0.10611\n",
      "(0.10611, 280)\n"
     ]
    }
   ],
   "source": [
    "print(f\"max rmse: {min(rmse_valid_5)}\")\n",
    "print(min(zip(rmse_valid_5, tree)))"
   ]
  },
  {
   "cell_type": "code",
   "execution_count": 357,
   "id": "54f9568e",
   "metadata": {},
   "outputs": [
    {
     "data": {
      "image/png": "[encoded data removed]",
      "text/plain": [
       "<Figure size 432x432 with 1 Axes>"
      ]
     },
     "metadata": {
      "needs_background": "light"
     },
     "output_type": "display_data"
    }
   ],
   "source": [
    "plt.figure(figsize=(6, 6))\n",
    "plt.plot(tree, rmse_valid_5, label='min_child_weight=5')\n",
    "plt.plot(tree, rmse_valid_1, label='min_child_weight=1')\n",
    "\n",
    "plt.title('Min_weight_leaf impact on the model')\n",
    "plt.xlabel('№ of trees')\n",
    "plt.ylabel('RMSE (validation)')\n",
    "\n",
    "plt.xticks(range(0, 301, 100))\n",
    "plt.yticks(np.linspace(0.82, 0.84, 5))\n",
    "\n",
    "plt.legend()\n",
    "plt.show()"
   ]
  },
  {
   "cell_type": "raw",
   "id": "34cf14ca",
   "metadata": {},
   "source": [
    "We choose default 1 and now the one left is 'colsample_bytree'"
   ]
  },
  {
   "cell_type": "code",
   "execution_count": 358,
   "id": "9860a82d",
   "metadata": {},
   "outputs": [],
   "source": [
    "%%capture output\n",
    "# 'colsample_bytree': 0.2,\n",
    "\n",
    "xgb_params = {\n",
    "    'eta': 0.3,\n",
    "    'max_depth': 10,\n",
    "    'min_child_weight': 1,\n",
    "    'colsample_bytree': 0.2,\n",
    "    'objective': 'reg:squarederror',\n",
    "    'eval_metric': 'rmse',\n",
    "    'nthread': 8,\n",
    "    'seed': 1\n",
    "}\n",
    "\n",
    "model = xgb.train(xgb_params, dtrain, evals=watchlist,\n",
    "                  verbose_eval=10, num_boost_round=300)"
   ]
  },
  {
   "cell_type": "code",
   "execution_count": 359,
   "id": "31d1d454",
   "metadata": {},
   "outputs": [],
   "source": [
    "tree, rmse_train, rmse_valid_02 = parse_xgb_output(output)"
   ]
  },
  {
   "cell_type": "code",
   "execution_count": 360,
   "id": "efbde697",
   "metadata": {},
   "outputs": [
    {
     "name": "stdout",
     "output_type": "stream",
     "text": [
      "max rmse: 0.17548\n",
      "(0.17548, 290)\n"
     ]
    }
   ],
   "source": [
    "print(f\"max rmse: {min(rmse_valid_02)}\")\n",
    "print(min(zip(rmse_valid_02, tree)))"
   ]
  },
  {
   "cell_type": "code",
   "execution_count": 361,
   "id": "06c09128",
   "metadata": {},
   "outputs": [],
   "source": [
    "%%capture output\n",
    "# 'colsample_bytree': 0.5,\n",
    "\n",
    "xgb_params = {\n",
    "    'eta': 0.3,\n",
    "    'max_depth': 10,\n",
    "    'min_child_weight': 1,\n",
    "    'colsample_bytree': 0.5,\n",
    "    'objective': 'reg:squarederror',\n",
    "    'eval_metric': 'rmse',\n",
    "    'nthread': 8,\n",
    "    'seed': 1\n",
    "}\n",
    "\n",
    "model = xgb.train(xgb_params, dtrain, evals=watchlist,\n",
    "                  verbose_eval=10, num_boost_round=300)"
   ]
  },
  {
   "cell_type": "code",
   "execution_count": 362,
   "id": "ace30f18",
   "metadata": {},
   "outputs": [],
   "source": [
    "tree, rmse_train, rmse_valid_05 = parse_xgb_output(output)"
   ]
  },
  {
   "cell_type": "code",
   "execution_count": 363,
   "id": "d284123b",
   "metadata": {},
   "outputs": [
    {
     "name": "stdout",
     "output_type": "stream",
     "text": [
      "max rmse: 0.12312\n",
      "(0.12312, 280)\n"
     ]
    }
   ],
   "source": [
    "print(f\"max rmse: {min(rmse_valid_05)}\")\n",
    "print(min(zip(rmse_valid_05, tree)))"
   ]
  },
  {
   "cell_type": "code",
   "execution_count": 370,
   "id": "efb9521b",
   "metadata": {},
   "outputs": [],
   "source": [
    "%%capture output\n",
    "# 'colsample_bytree': 0.8,\n",
    "\n",
    "xgb_params = {\n",
    "    'eta': 0.3,\n",
    "    'max_depth': 10,\n",
    "    'min_child_weight': 1,\n",
    "    'colsample_bytree': 0.9,\n",
    "    'objective': 'reg:squarederror',\n",
    "    'eval_metric': 'rmse',\n",
    "    'nthread': 8,\n",
    "    'seed': 1\n",
    "}\n",
    "\n",
    "model = xgb.train(xgb_params, dtrain, evals=watchlist,\n",
    "                  verbose_eval=10, num_boost_round=300)"
   ]
  },
  {
   "cell_type": "code",
   "execution_count": 371,
   "id": "1bfb595a",
   "metadata": {},
   "outputs": [],
   "source": [
    "tree, rmse_train, rmse_valid_05 = parse_xgb_output(output)"
   ]
  },
  {
   "cell_type": "code",
   "execution_count": 372,
   "id": "2e4fe3f9",
   "metadata": {},
   "outputs": [
    {
     "name": "stdout",
     "output_type": "stream",
     "text": [
      "max rmse: 0.10154\n",
      "(0.10154, 230)\n"
     ]
    }
   ],
   "source": [
    "print(f\"max rmse: {min(rmse_valid_05)}\")\n",
    "print(min(zip(rmse_valid_05, tree)))"
   ]
  },
  {
   "cell_type": "raw",
   "id": "3c9eaa93",
   "metadata": {},
   "source": [
    "As we see 'colsample_bytree': 0.9 is the best option"
   ]
  },
  {
   "cell_type": "markdown",
   "id": "9b0c6ece",
   "metadata": {},
   "source": [
    "# Using the model"
   ]
  },
  {
   "cell_type": "code",
   "execution_count": 469,
   "id": "1f688c4a",
   "metadata": {},
   "outputs": [],
   "source": [
    "dFullTrain = xgb.DMatrix(X_full_train, label=y_train_full,\n",
    "                        feature_names=dv.feature_names_)\n",
    "\n",
    "dTest = xgb.DMatrix(X_test, label=y_test,\n",
    "                   feature_names=dv.feature_names_)"
   ]
  },
  {
   "cell_type": "code",
   "execution_count": 470,
   "id": "7ae1abfc",
   "metadata": {},
   "outputs": [],
   "source": [
    "xgb_params = {\n",
    "    'eta': 0.3,\n",
    "    'max_depth': 10,\n",
    "    'min_child_weight': 1,\n",
    "    'colsample_bytree': 0.9,\n",
    "    'objective': 'reg:squarederror',\n",
    "    'nthread': 8,\n",
    "    'seed': 1\n",
    "}\n",
    "\n",
    "model = xgb.train(xgb_params, dFullTrain, num_boost_round=300)"
   ]
  },
  {
   "cell_type": "code",
   "execution_count": 499,
   "id": "e0815f95",
   "metadata": {
    "scrolled": true
   },
   "outputs": [],
   "source": [
    "d = [{'make': 'bmw',\n",
    " 'model': '1_series',\n",
    " 'year': 2012,\n",
    " 'engine_fuel_type': 'premium_unleaded_(required)',\n",
    " 'engine_hp': 300.0,\n",
    " 'engine_cylinders': 6.0,\n",
    " 'transmission_type': 'manual',\n",
    " 'driven_wheels': 'rear_wheel_drive',\n",
    " 'number_of_doors': 2.0,\n",
    " 'market_category': 'luxury,high-performance',\n",
    " 'vehicle_size': 'compact',\n",
    " 'vehicle_style': 'coupe',\n",
    " 'highway_mpg': 28,\n",
    " 'city_mpg': 20,\n",
    " 'popularity': 3916}]\n",
    "\n",
    "data = dv.transform(d)\n",
    "y_data = np.array([np.log1p(39300)])\n",
    "\n",
    "d_matrix = xgb.DMatrix(data, label=y_data, feature_names=dv.feature_names_)"
   ]
  },
  {
   "cell_type": "code",
   "execution_count": 504,
   "id": "f5d50876",
   "metadata": {},
   "outputs": [
    {
     "data": {
      "text/plain": [
       "39302.473"
      ]
     },
     "execution_count": 504,
     "metadata": {},
     "output_type": "execute_result"
    }
   ],
   "source": [
    "result = model.predict(d_matrix)[0]\n",
    "np.expm1(result)\n",
    "# 39300"
   ]
  },
  {
   "cell_type": "code",
   "execution_count": null,
   "id": "7548e6c1",
   "metadata": {},
   "outputs": [],
   "source": []
  }
 ],
 "metadata": {
  "kernelspec": {
   "display_name": "Python 3",
   "language": "python",
   "name": "python3"
  },
  "language_info": {
   "codemirror_mode": {
    "name": "ipython",
    "version": 3
   },
   "file_extension": ".py",
   "mimetype": "text/x-python",
   "name": "python",
   "nbconvert_exporter": "python",
   "pygments_lexer": "ipython3",
   "version": "3.8.10"
  }
 },
 "nbformat": 4,
 "nbformat_minor": 5
}
