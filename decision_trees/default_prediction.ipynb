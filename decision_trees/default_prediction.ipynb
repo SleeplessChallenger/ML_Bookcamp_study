{
 "cells": [
  {
   "cell_type": "code",
   "execution_count": 2,
   "id": "0354d788",
   "metadata": {},
   "outputs": [],
   "source": [
    "import pandas as pd\n",
    "import numpy as np\n",
    "import seaborn as sns\n",
    "from matplotlib import pyplot as plt\n",
    "%matplotlib inline"
   ]
  },
  {
   "cell_type": "code",
   "execution_count": 3,
   "id": "d552a268",
   "metadata": {},
   "outputs": [
    {
     "data": {
      "text/html": [
       "<div>\n",
       "<style scoped>\n",
       "    .dataframe tbody tr th:only-of-type {\n",
       "        vertical-align: middle;\n",
       "    }\n",
       "\n",
       "    .dataframe tbody tr th {\n",
       "        vertical-align: top;\n",
       "    }\n",
       "\n",
       "    .dataframe thead th {\n",
       "        text-align: right;\n",
       "    }\n",
       "</style>\n",
       "<table border=\"1\" class=\"dataframe\">\n",
       "  <thead>\n",
       "    <tr style=\"text-align: right;\">\n",
       "      <th></th>\n",
       "      <th>Status</th>\n",
       "      <th>Seniority</th>\n",
       "      <th>Home</th>\n",
       "      <th>Time</th>\n",
       "      <th>Age</th>\n",
       "      <th>Marital</th>\n",
       "      <th>Records</th>\n",
       "      <th>Job</th>\n",
       "      <th>Expenses</th>\n",
       "      <th>Income</th>\n",
       "      <th>Assets</th>\n",
       "      <th>Debt</th>\n",
       "      <th>Amount</th>\n",
       "      <th>Price</th>\n",
       "    </tr>\n",
       "  </thead>\n",
       "  <tbody>\n",
       "    <tr>\n",
       "      <th>0</th>\n",
       "      <td>1</td>\n",
       "      <td>9</td>\n",
       "      <td>1</td>\n",
       "      <td>60</td>\n",
       "      <td>30</td>\n",
       "      <td>2</td>\n",
       "      <td>1</td>\n",
       "      <td>3</td>\n",
       "      <td>73</td>\n",
       "      <td>129</td>\n",
       "      <td>0</td>\n",
       "      <td>0</td>\n",
       "      <td>800</td>\n",
       "      <td>846</td>\n",
       "    </tr>\n",
       "    <tr>\n",
       "      <th>1</th>\n",
       "      <td>1</td>\n",
       "      <td>17</td>\n",
       "      <td>1</td>\n",
       "      <td>60</td>\n",
       "      <td>58</td>\n",
       "      <td>3</td>\n",
       "      <td>1</td>\n",
       "      <td>1</td>\n",
       "      <td>48</td>\n",
       "      <td>131</td>\n",
       "      <td>0</td>\n",
       "      <td>0</td>\n",
       "      <td>1000</td>\n",
       "      <td>1658</td>\n",
       "    </tr>\n",
       "    <tr>\n",
       "      <th>2</th>\n",
       "      <td>2</td>\n",
       "      <td>10</td>\n",
       "      <td>2</td>\n",
       "      <td>36</td>\n",
       "      <td>46</td>\n",
       "      <td>2</td>\n",
       "      <td>2</td>\n",
       "      <td>3</td>\n",
       "      <td>90</td>\n",
       "      <td>200</td>\n",
       "      <td>3000</td>\n",
       "      <td>0</td>\n",
       "      <td>2000</td>\n",
       "      <td>2985</td>\n",
       "    </tr>\n",
       "    <tr>\n",
       "      <th>3</th>\n",
       "      <td>1</td>\n",
       "      <td>0</td>\n",
       "      <td>1</td>\n",
       "      <td>60</td>\n",
       "      <td>24</td>\n",
       "      <td>1</td>\n",
       "      <td>1</td>\n",
       "      <td>1</td>\n",
       "      <td>63</td>\n",
       "      <td>182</td>\n",
       "      <td>2500</td>\n",
       "      <td>0</td>\n",
       "      <td>900</td>\n",
       "      <td>1325</td>\n",
       "    </tr>\n",
       "    <tr>\n",
       "      <th>4</th>\n",
       "      <td>1</td>\n",
       "      <td>0</td>\n",
       "      <td>1</td>\n",
       "      <td>36</td>\n",
       "      <td>26</td>\n",
       "      <td>1</td>\n",
       "      <td>1</td>\n",
       "      <td>1</td>\n",
       "      <td>46</td>\n",
       "      <td>107</td>\n",
       "      <td>0</td>\n",
       "      <td>0</td>\n",
       "      <td>310</td>\n",
       "      <td>910</td>\n",
       "    </tr>\n",
       "  </tbody>\n",
       "</table>\n",
       "</div>"
      ],
      "text/plain": [
       "   Status  Seniority  Home  Time  Age  Marital  Records  Job  Expenses  \\\n",
       "0       1          9     1    60   30        2        1    3        73   \n",
       "1       1         17     1    60   58        3        1    1        48   \n",
       "2       2         10     2    36   46        2        2    3        90   \n",
       "3       1          0     1    60   24        1        1    1        63   \n",
       "4       1          0     1    36   26        1        1    1        46   \n",
       "\n",
       "   Income  Assets  Debt  Amount  Price  \n",
       "0     129       0     0     800    846  \n",
       "1     131       0     0    1000   1658  \n",
       "2     200    3000     0    2000   2985  \n",
       "3     182    2500     0     900   1325  \n",
       "4     107       0     0     310    910  "
      ]
     },
     "execution_count": 3,
     "metadata": {},
     "output_type": "execute_result"
    }
   ],
   "source": [
    "df = pd.read_csv('CreditScoring.csv')\n",
    "df.head(5)"
   ]
  },
  {
   "cell_type": "code",
   "execution_count": 4,
   "id": "25b77cd8",
   "metadata": {},
   "outputs": [
    {
     "data": {
      "text/html": [
       "<div>\n",
       "<style scoped>\n",
       "    .dataframe tbody tr th:only-of-type {\n",
       "        vertical-align: middle;\n",
       "    }\n",
       "\n",
       "    .dataframe tbody tr th {\n",
       "        vertical-align: top;\n",
       "    }\n",
       "\n",
       "    .dataframe thead th {\n",
       "        text-align: right;\n",
       "    }\n",
       "</style>\n",
       "<table border=\"1\" class=\"dataframe\">\n",
       "  <thead>\n",
       "    <tr style=\"text-align: right;\">\n",
       "      <th></th>\n",
       "      <th>status</th>\n",
       "      <th>seniority</th>\n",
       "      <th>home</th>\n",
       "      <th>time</th>\n",
       "      <th>age</th>\n",
       "      <th>marital</th>\n",
       "      <th>records</th>\n",
       "      <th>job</th>\n",
       "      <th>expenses</th>\n",
       "      <th>income</th>\n",
       "      <th>assets</th>\n",
       "      <th>debt</th>\n",
       "      <th>amount</th>\n",
       "      <th>price</th>\n",
       "    </tr>\n",
       "  </thead>\n",
       "  <tbody>\n",
       "    <tr>\n",
       "      <th>0</th>\n",
       "      <td>1</td>\n",
       "      <td>9</td>\n",
       "      <td>1</td>\n",
       "      <td>60</td>\n",
       "      <td>30</td>\n",
       "      <td>2</td>\n",
       "      <td>1</td>\n",
       "      <td>3</td>\n",
       "      <td>73</td>\n",
       "      <td>129</td>\n",
       "      <td>0</td>\n",
       "      <td>0</td>\n",
       "      <td>800</td>\n",
       "      <td>846</td>\n",
       "    </tr>\n",
       "    <tr>\n",
       "      <th>1</th>\n",
       "      <td>1</td>\n",
       "      <td>17</td>\n",
       "      <td>1</td>\n",
       "      <td>60</td>\n",
       "      <td>58</td>\n",
       "      <td>3</td>\n",
       "      <td>1</td>\n",
       "      <td>1</td>\n",
       "      <td>48</td>\n",
       "      <td>131</td>\n",
       "      <td>0</td>\n",
       "      <td>0</td>\n",
       "      <td>1000</td>\n",
       "      <td>1658</td>\n",
       "    </tr>\n",
       "    <tr>\n",
       "      <th>2</th>\n",
       "      <td>2</td>\n",
       "      <td>10</td>\n",
       "      <td>2</td>\n",
       "      <td>36</td>\n",
       "      <td>46</td>\n",
       "      <td>2</td>\n",
       "      <td>2</td>\n",
       "      <td>3</td>\n",
       "      <td>90</td>\n",
       "      <td>200</td>\n",
       "      <td>3000</td>\n",
       "      <td>0</td>\n",
       "      <td>2000</td>\n",
       "      <td>2985</td>\n",
       "    </tr>\n",
       "    <tr>\n",
       "      <th>3</th>\n",
       "      <td>1</td>\n",
       "      <td>0</td>\n",
       "      <td>1</td>\n",
       "      <td>60</td>\n",
       "      <td>24</td>\n",
       "      <td>1</td>\n",
       "      <td>1</td>\n",
       "      <td>1</td>\n",
       "      <td>63</td>\n",
       "      <td>182</td>\n",
       "      <td>2500</td>\n",
       "      <td>0</td>\n",
       "      <td>900</td>\n",
       "      <td>1325</td>\n",
       "    </tr>\n",
       "    <tr>\n",
       "      <th>4</th>\n",
       "      <td>1</td>\n",
       "      <td>0</td>\n",
       "      <td>1</td>\n",
       "      <td>36</td>\n",
       "      <td>26</td>\n",
       "      <td>1</td>\n",
       "      <td>1</td>\n",
       "      <td>1</td>\n",
       "      <td>46</td>\n",
       "      <td>107</td>\n",
       "      <td>0</td>\n",
       "      <td>0</td>\n",
       "      <td>310</td>\n",
       "      <td>910</td>\n",
       "    </tr>\n",
       "  </tbody>\n",
       "</table>\n",
       "</div>"
      ],
      "text/plain": [
       "   status  seniority  home  time  age  marital  records  job  expenses  \\\n",
       "0       1          9     1    60   30        2        1    3        73   \n",
       "1       1         17     1    60   58        3        1    1        48   \n",
       "2       2         10     2    36   46        2        2    3        90   \n",
       "3       1          0     1    60   24        1        1    1        63   \n",
       "4       1          0     1    36   26        1        1    1        46   \n",
       "\n",
       "   income  assets  debt  amount  price  \n",
       "0     129       0     0     800    846  \n",
       "1     131       0     0    1000   1658  \n",
       "2     200    3000     0    2000   2985  \n",
       "3     182    2500     0     900   1325  \n",
       "4     107       0     0     310    910  "
      ]
     },
     "execution_count": 4,
     "metadata": {},
     "output_type": "execute_result"
    }
   ],
   "source": [
    "df.columns = df.columns.str.lower()\n",
    "df.head(5)"
   ]
  },
  {
   "cell_type": "code",
   "execution_count": 5,
   "id": "89c0524c",
   "metadata": {},
   "outputs": [
    {
     "data": {
      "text/plain": [
       "status       int64\n",
       "seniority    int64\n",
       "home         int64\n",
       "time         int64\n",
       "age          int64\n",
       "marital      int64\n",
       "records      int64\n",
       "job          int64\n",
       "expenses     int64\n",
       "income       int64\n",
       "assets       int64\n",
       "debt         int64\n",
       "amount       int64\n",
       "price        int64\n",
       "dtype: object"
      ]
     },
     "execution_count": 5,
     "metadata": {},
     "output_type": "execute_result"
    }
   ],
   "source": [
    "df.dtypes\n",
    "# but some values despite being `int`\n",
    "# are categorical.\n",
    "# Ex: status, home, marital, records, job"
   ]
  },
  {
   "cell_type": "code",
   "execution_count": 6,
   "id": "ff9b9a65",
   "metadata": {},
   "outputs": [],
   "source": [
    "status_values = {\n",
    "    1: 'ok',\n",
    "    2: 'default',\n",
    "    0: 'unk'\n",
    "}\n",
    "\n",
    "home_values = {\n",
    "    1: 'rent',\n",
    "    2: 'owner',\n",
    "    3: 'private',\n",
    "    4: 'ignore',\n",
    "    5: 'parents',\n",
    "    6: 'other',\n",
    "    0: 'unk'\n",
    "}\n",
    "\n",
    "marital_values = {\n",
    "    1: 'single',\n",
    "    2: 'married',\n",
    "    3: 'widow',\n",
    "    4: 'separated',\n",
    "    5: 'divorced',\n",
    "    0: 'unk'\n",
    "}\n",
    "\n",
    "records_values = {\n",
    "    1: 'no',\n",
    "    2: 'yes',\n",
    "    0: 'unk'\n",
    "}\n",
    "\n",
    "job_values = {\n",
    "    1: 'fixed',\n",
    "    2: 'partime',\n",
    "    3: 'freelance',\n",
    "    4: 'others',\n",
    "    0: 'unk'\n",
    "}"
   ]
  },
  {
   "cell_type": "code",
   "execution_count": 7,
   "id": "15c9b4c2",
   "metadata": {},
   "outputs": [],
   "source": [
    "df.status = df.status.map(status_values)\n",
    "df.home = df.home.map(home_values)\n",
    "df.marital = df.marital.map(marital_values)\n",
    "df.records = df.records.map(records_values)\n",
    "df.job = df.job.map(job_values)"
   ]
  },
  {
   "cell_type": "code",
   "execution_count": 8,
   "id": "574b3ac3",
   "metadata": {},
   "outputs": [
    {
     "data": {
      "text/html": [
       "<div>\n",
       "<style scoped>\n",
       "    .dataframe tbody tr th:only-of-type {\n",
       "        vertical-align: middle;\n",
       "    }\n",
       "\n",
       "    .dataframe tbody tr th {\n",
       "        vertical-align: top;\n",
       "    }\n",
       "\n",
       "    .dataframe thead th {\n",
       "        text-align: right;\n",
       "    }\n",
       "</style>\n",
       "<table border=\"1\" class=\"dataframe\">\n",
       "  <thead>\n",
       "    <tr style=\"text-align: right;\">\n",
       "      <th></th>\n",
       "      <th>status</th>\n",
       "      <th>seniority</th>\n",
       "      <th>home</th>\n",
       "      <th>time</th>\n",
       "      <th>age</th>\n",
       "      <th>marital</th>\n",
       "      <th>records</th>\n",
       "      <th>job</th>\n",
       "      <th>expenses</th>\n",
       "      <th>income</th>\n",
       "      <th>assets</th>\n",
       "      <th>debt</th>\n",
       "      <th>amount</th>\n",
       "      <th>price</th>\n",
       "    </tr>\n",
       "  </thead>\n",
       "  <tbody>\n",
       "    <tr>\n",
       "      <th>0</th>\n",
       "      <td>ok</td>\n",
       "      <td>9</td>\n",
       "      <td>rent</td>\n",
       "      <td>60</td>\n",
       "      <td>30</td>\n",
       "      <td>married</td>\n",
       "      <td>no</td>\n",
       "      <td>freelance</td>\n",
       "      <td>73</td>\n",
       "      <td>129</td>\n",
       "      <td>0</td>\n",
       "      <td>0</td>\n",
       "      <td>800</td>\n",
       "      <td>846</td>\n",
       "    </tr>\n",
       "    <tr>\n",
       "      <th>1</th>\n",
       "      <td>ok</td>\n",
       "      <td>17</td>\n",
       "      <td>rent</td>\n",
       "      <td>60</td>\n",
       "      <td>58</td>\n",
       "      <td>widow</td>\n",
       "      <td>no</td>\n",
       "      <td>fixed</td>\n",
       "      <td>48</td>\n",
       "      <td>131</td>\n",
       "      <td>0</td>\n",
       "      <td>0</td>\n",
       "      <td>1000</td>\n",
       "      <td>1658</td>\n",
       "    </tr>\n",
       "    <tr>\n",
       "      <th>2</th>\n",
       "      <td>default</td>\n",
       "      <td>10</td>\n",
       "      <td>owner</td>\n",
       "      <td>36</td>\n",
       "      <td>46</td>\n",
       "      <td>married</td>\n",
       "      <td>yes</td>\n",
       "      <td>freelance</td>\n",
       "      <td>90</td>\n",
       "      <td>200</td>\n",
       "      <td>3000</td>\n",
       "      <td>0</td>\n",
       "      <td>2000</td>\n",
       "      <td>2985</td>\n",
       "    </tr>\n",
       "    <tr>\n",
       "      <th>3</th>\n",
       "      <td>ok</td>\n",
       "      <td>0</td>\n",
       "      <td>rent</td>\n",
       "      <td>60</td>\n",
       "      <td>24</td>\n",
       "      <td>single</td>\n",
       "      <td>no</td>\n",
       "      <td>fixed</td>\n",
       "      <td>63</td>\n",
       "      <td>182</td>\n",
       "      <td>2500</td>\n",
       "      <td>0</td>\n",
       "      <td>900</td>\n",
       "      <td>1325</td>\n",
       "    </tr>\n",
       "    <tr>\n",
       "      <th>4</th>\n",
       "      <td>ok</td>\n",
       "      <td>0</td>\n",
       "      <td>rent</td>\n",
       "      <td>36</td>\n",
       "      <td>26</td>\n",
       "      <td>single</td>\n",
       "      <td>no</td>\n",
       "      <td>fixed</td>\n",
       "      <td>46</td>\n",
       "      <td>107</td>\n",
       "      <td>0</td>\n",
       "      <td>0</td>\n",
       "      <td>310</td>\n",
       "      <td>910</td>\n",
       "    </tr>\n",
       "  </tbody>\n",
       "</table>\n",
       "</div>"
      ],
      "text/plain": [
       "    status  seniority   home  time  age  marital records        job  expenses  \\\n",
       "0       ok          9   rent    60   30  married      no  freelance        73   \n",
       "1       ok         17   rent    60   58    widow      no      fixed        48   \n",
       "2  default         10  owner    36   46  married     yes  freelance        90   \n",
       "3       ok          0   rent    60   24   single      no      fixed        63   \n",
       "4       ok          0   rent    36   26   single      no      fixed        46   \n",
       "\n",
       "   income  assets  debt  amount  price  \n",
       "0     129       0     0     800    846  \n",
       "1     131       0     0    1000   1658  \n",
       "2     200    3000     0    2000   2985  \n",
       "3     182    2500     0     900   1325  \n",
       "4     107       0     0     310    910  "
      ]
     },
     "execution_count": 8,
     "metadata": {},
     "output_type": "execute_result"
    }
   ],
   "source": [
    "df.head(5)"
   ]
  },
  {
   "cell_type": "code",
   "execution_count": 9,
   "id": "5ceea718",
   "metadata": {},
   "outputs": [
    {
     "data": {
      "text/html": [
       "<div>\n",
       "<style scoped>\n",
       "    .dataframe tbody tr th:only-of-type {\n",
       "        vertical-align: middle;\n",
       "    }\n",
       "\n",
       "    .dataframe tbody tr th {\n",
       "        vertical-align: top;\n",
       "    }\n",
       "\n",
       "    .dataframe thead th {\n",
       "        text-align: right;\n",
       "    }\n",
       "</style>\n",
       "<table border=\"1\" class=\"dataframe\">\n",
       "  <thead>\n",
       "    <tr style=\"text-align: right;\">\n",
       "      <th></th>\n",
       "      <th>seniority</th>\n",
       "      <th>time</th>\n",
       "      <th>age</th>\n",
       "      <th>expenses</th>\n",
       "      <th>income</th>\n",
       "      <th>assets</th>\n",
       "      <th>debt</th>\n",
       "      <th>amount</th>\n",
       "      <th>price</th>\n",
       "    </tr>\n",
       "  </thead>\n",
       "  <tbody>\n",
       "    <tr>\n",
       "      <th>count</th>\n",
       "      <td>4455.0</td>\n",
       "      <td>4455.0</td>\n",
       "      <td>4455.0</td>\n",
       "      <td>4455.0</td>\n",
       "      <td>4455.0</td>\n",
       "      <td>4455.0</td>\n",
       "      <td>4455.0</td>\n",
       "      <td>4455.0</td>\n",
       "      <td>4455.0</td>\n",
       "    </tr>\n",
       "    <tr>\n",
       "      <th>mean</th>\n",
       "      <td>8.0</td>\n",
       "      <td>46.0</td>\n",
       "      <td>37.0</td>\n",
       "      <td>56.0</td>\n",
       "      <td>763317.0</td>\n",
       "      <td>1060341.0</td>\n",
       "      <td>404382.0</td>\n",
       "      <td>1039.0</td>\n",
       "      <td>1463.0</td>\n",
       "    </tr>\n",
       "    <tr>\n",
       "      <th>std</th>\n",
       "      <td>8.0</td>\n",
       "      <td>15.0</td>\n",
       "      <td>11.0</td>\n",
       "      <td>20.0</td>\n",
       "      <td>8703625.0</td>\n",
       "      <td>10217569.0</td>\n",
       "      <td>6344253.0</td>\n",
       "      <td>475.0</td>\n",
       "      <td>628.0</td>\n",
       "    </tr>\n",
       "    <tr>\n",
       "      <th>min</th>\n",
       "      <td>0.0</td>\n",
       "      <td>6.0</td>\n",
       "      <td>18.0</td>\n",
       "      <td>35.0</td>\n",
       "      <td>0.0</td>\n",
       "      <td>0.0</td>\n",
       "      <td>0.0</td>\n",
       "      <td>100.0</td>\n",
       "      <td>105.0</td>\n",
       "    </tr>\n",
       "    <tr>\n",
       "      <th>25%</th>\n",
       "      <td>2.0</td>\n",
       "      <td>36.0</td>\n",
       "      <td>28.0</td>\n",
       "      <td>35.0</td>\n",
       "      <td>80.0</td>\n",
       "      <td>0.0</td>\n",
       "      <td>0.0</td>\n",
       "      <td>700.0</td>\n",
       "      <td>1118.0</td>\n",
       "    </tr>\n",
       "    <tr>\n",
       "      <th>50%</th>\n",
       "      <td>5.0</td>\n",
       "      <td>48.0</td>\n",
       "      <td>36.0</td>\n",
       "      <td>51.0</td>\n",
       "      <td>120.0</td>\n",
       "      <td>3500.0</td>\n",
       "      <td>0.0</td>\n",
       "      <td>1000.0</td>\n",
       "      <td>1400.0</td>\n",
       "    </tr>\n",
       "    <tr>\n",
       "      <th>75%</th>\n",
       "      <td>12.0</td>\n",
       "      <td>60.0</td>\n",
       "      <td>45.0</td>\n",
       "      <td>72.0</td>\n",
       "      <td>166.0</td>\n",
       "      <td>6000.0</td>\n",
       "      <td>0.0</td>\n",
       "      <td>1300.0</td>\n",
       "      <td>1692.0</td>\n",
       "    </tr>\n",
       "    <tr>\n",
       "      <th>max</th>\n",
       "      <td>48.0</td>\n",
       "      <td>72.0</td>\n",
       "      <td>68.0</td>\n",
       "      <td>180.0</td>\n",
       "      <td>99999999.0</td>\n",
       "      <td>99999999.0</td>\n",
       "      <td>99999999.0</td>\n",
       "      <td>5000.0</td>\n",
       "      <td>11140.0</td>\n",
       "    </tr>\n",
       "  </tbody>\n",
       "</table>\n",
       "</div>"
      ],
      "text/plain": [
       "       seniority    time     age  expenses      income      assets  \\\n",
       "count     4455.0  4455.0  4455.0    4455.0      4455.0      4455.0   \n",
       "mean         8.0    46.0    37.0      56.0    763317.0   1060341.0   \n",
       "std          8.0    15.0    11.0      20.0   8703625.0  10217569.0   \n",
       "min          0.0     6.0    18.0      35.0         0.0         0.0   \n",
       "25%          2.0    36.0    28.0      35.0        80.0         0.0   \n",
       "50%          5.0    48.0    36.0      51.0       120.0      3500.0   \n",
       "75%         12.0    60.0    45.0      72.0       166.0      6000.0   \n",
       "max         48.0    72.0    68.0     180.0  99999999.0  99999999.0   \n",
       "\n",
       "             debt  amount    price  \n",
       "count      4455.0  4455.0   4455.0  \n",
       "mean     404382.0  1039.0   1463.0  \n",
       "std     6344253.0   475.0    628.0  \n",
       "min           0.0   100.0    105.0  \n",
       "25%           0.0   700.0   1118.0  \n",
       "50%           0.0  1000.0   1400.0  \n",
       "75%           0.0  1300.0   1692.0  \n",
       "max    99999999.0  5000.0  11140.0  "
      ]
     },
     "execution_count": 9,
     "metadata": {},
     "output_type": "execute_result"
    }
   ],
   "source": [
    "df.describe().round()"
   ]
  },
  {
   "cell_type": "raw",
   "id": "a79b3332",
   "metadata": {},
   "source": [
    "We see that `income`, `assets`, `debt` have strange big values. It's an artificial value -> special encoding in this dataset to replace missing values"
   ]
  },
  {
   "cell_type": "code",
   "execution_count": 10,
   "id": "18629d92",
   "metadata": {},
   "outputs": [],
   "source": [
    "for col in ['income', 'assets', 'debt']:\n",
    "    df[col] = df[col].replace(to_replace=99999999, value=np.nan)"
   ]
  },
  {
   "cell_type": "code",
   "execution_count": 11,
   "id": "e0ee0f3a",
   "metadata": {},
   "outputs": [
    {
     "data": {
      "text/html": [
       "<div>\n",
       "<style scoped>\n",
       "    .dataframe tbody tr th:only-of-type {\n",
       "        vertical-align: middle;\n",
       "    }\n",
       "\n",
       "    .dataframe tbody tr th {\n",
       "        vertical-align: top;\n",
       "    }\n",
       "\n",
       "    .dataframe thead th {\n",
       "        text-align: right;\n",
       "    }\n",
       "</style>\n",
       "<table border=\"1\" class=\"dataframe\">\n",
       "  <thead>\n",
       "    <tr style=\"text-align: right;\">\n",
       "      <th></th>\n",
       "      <th>seniority</th>\n",
       "      <th>time</th>\n",
       "      <th>age</th>\n",
       "      <th>expenses</th>\n",
       "      <th>income</th>\n",
       "      <th>assets</th>\n",
       "      <th>debt</th>\n",
       "      <th>amount</th>\n",
       "      <th>price</th>\n",
       "    </tr>\n",
       "  </thead>\n",
       "  <tbody>\n",
       "    <tr>\n",
       "      <th>count</th>\n",
       "      <td>4455.0</td>\n",
       "      <td>4455.0</td>\n",
       "      <td>4455.0</td>\n",
       "      <td>4455.0</td>\n",
       "      <td>4421.0</td>\n",
       "      <td>4408.0</td>\n",
       "      <td>4437.0</td>\n",
       "      <td>4455.0</td>\n",
       "      <td>4455.0</td>\n",
       "    </tr>\n",
       "    <tr>\n",
       "      <th>mean</th>\n",
       "      <td>8.0</td>\n",
       "      <td>46.0</td>\n",
       "      <td>37.0</td>\n",
       "      <td>56.0</td>\n",
       "      <td>131.0</td>\n",
       "      <td>5403.0</td>\n",
       "      <td>343.0</td>\n",
       "      <td>1039.0</td>\n",
       "      <td>1463.0</td>\n",
       "    </tr>\n",
       "    <tr>\n",
       "      <th>std</th>\n",
       "      <td>8.0</td>\n",
       "      <td>15.0</td>\n",
       "      <td>11.0</td>\n",
       "      <td>20.0</td>\n",
       "      <td>86.0</td>\n",
       "      <td>11573.0</td>\n",
       "      <td>1246.0</td>\n",
       "      <td>475.0</td>\n",
       "      <td>628.0</td>\n",
       "    </tr>\n",
       "    <tr>\n",
       "      <th>min</th>\n",
       "      <td>0.0</td>\n",
       "      <td>6.0</td>\n",
       "      <td>18.0</td>\n",
       "      <td>35.0</td>\n",
       "      <td>0.0</td>\n",
       "      <td>0.0</td>\n",
       "      <td>0.0</td>\n",
       "      <td>100.0</td>\n",
       "      <td>105.0</td>\n",
       "    </tr>\n",
       "    <tr>\n",
       "      <th>25%</th>\n",
       "      <td>2.0</td>\n",
       "      <td>36.0</td>\n",
       "      <td>28.0</td>\n",
       "      <td>35.0</td>\n",
       "      <td>80.0</td>\n",
       "      <td>0.0</td>\n",
       "      <td>0.0</td>\n",
       "      <td>700.0</td>\n",
       "      <td>1118.0</td>\n",
       "    </tr>\n",
       "    <tr>\n",
       "      <th>50%</th>\n",
       "      <td>5.0</td>\n",
       "      <td>48.0</td>\n",
       "      <td>36.0</td>\n",
       "      <td>51.0</td>\n",
       "      <td>120.0</td>\n",
       "      <td>3000.0</td>\n",
       "      <td>0.0</td>\n",
       "      <td>1000.0</td>\n",
       "      <td>1400.0</td>\n",
       "    </tr>\n",
       "    <tr>\n",
       "      <th>75%</th>\n",
       "      <td>12.0</td>\n",
       "      <td>60.0</td>\n",
       "      <td>45.0</td>\n",
       "      <td>72.0</td>\n",
       "      <td>165.0</td>\n",
       "      <td>6000.0</td>\n",
       "      <td>0.0</td>\n",
       "      <td>1300.0</td>\n",
       "      <td>1692.0</td>\n",
       "    </tr>\n",
       "    <tr>\n",
       "      <th>max</th>\n",
       "      <td>48.0</td>\n",
       "      <td>72.0</td>\n",
       "      <td>68.0</td>\n",
       "      <td>180.0</td>\n",
       "      <td>959.0</td>\n",
       "      <td>300000.0</td>\n",
       "      <td>30000.0</td>\n",
       "      <td>5000.0</td>\n",
       "      <td>11140.0</td>\n",
       "    </tr>\n",
       "  </tbody>\n",
       "</table>\n",
       "</div>"
      ],
      "text/plain": [
       "       seniority    time     age  expenses  income    assets     debt  amount  \\\n",
       "count     4455.0  4455.0  4455.0    4455.0  4421.0    4408.0   4437.0  4455.0   \n",
       "mean         8.0    46.0    37.0      56.0   131.0    5403.0    343.0  1039.0   \n",
       "std          8.0    15.0    11.0      20.0    86.0   11573.0   1246.0   475.0   \n",
       "min          0.0     6.0    18.0      35.0     0.0       0.0      0.0   100.0   \n",
       "25%          2.0    36.0    28.0      35.0    80.0       0.0      0.0   700.0   \n",
       "50%          5.0    48.0    36.0      51.0   120.0    3000.0      0.0  1000.0   \n",
       "75%         12.0    60.0    45.0      72.0   165.0    6000.0      0.0  1300.0   \n",
       "max         48.0    72.0    68.0     180.0   959.0  300000.0  30000.0  5000.0   \n",
       "\n",
       "         price  \n",
       "count   4455.0  \n",
       "mean    1463.0  \n",
       "std      628.0  \n",
       "min      105.0  \n",
       "25%     1118.0  \n",
       "50%     1400.0  \n",
       "75%     1692.0  \n",
       "max    11140.0  "
      ]
     },
     "execution_count": 11,
     "metadata": {},
     "output_type": "execute_result"
    }
   ],
   "source": [
    "df.describe().round()"
   ]
  },
  {
   "cell_type": "code",
   "execution_count": 12,
   "id": "6583a1a5",
   "metadata": {},
   "outputs": [
    {
     "data": {
      "text/plain": [
       "ok         3200\n",
       "default    1254\n",
       "unk           1\n",
       "Name: status, dtype: int64"
      ]
     },
     "execution_count": 12,
     "metadata": {},
     "output_type": "execute_result"
    }
   ],
   "source": [
    "# status is our target value\n",
    "df.status.value_counts()"
   ]
  },
  {
   "cell_type": "code",
   "execution_count": 13,
   "id": "f6d86330",
   "metadata": {},
   "outputs": [],
   "source": [
    "# Let's remove row `unk` as it's useless for us.\n",
    "# But we don't want to actually delete its \n",
    "df = df[df.status != 'unk']"
   ]
  },
  {
   "cell_type": "code",
   "execution_count": 14,
   "id": "237219c7",
   "metadata": {
    "scrolled": true
   },
   "outputs": [
    {
     "data": {
      "text/plain": [
       "status        0\n",
       "seniority     0\n",
       "home          0\n",
       "time          0\n",
       "age           0\n",
       "marital       0\n",
       "records       0\n",
       "job           0\n",
       "expenses      0\n",
       "income       34\n",
       "assets       47\n",
       "debt         18\n",
       "amount        0\n",
       "price         0\n",
       "dtype: int64"
      ]
     },
     "execution_count": 14,
     "metadata": {},
     "output_type": "execute_result"
    }
   ],
   "source": [
    "df.isnull().sum()\n",
    "# we'll need to replace those `isnull` with something"
   ]
  },
  {
   "cell_type": "code",
   "execution_count": 15,
   "id": "b9bff056",
   "metadata": {},
   "outputs": [],
   "source": [
    "from sklearn.model_selection import train_test_split\n",
    "\n",
    "# 20 % - test; 20% - validation; 60% - training\n",
    "full_train, df_test = train_test_split(df, random_state=11, test_size=0.2)\n",
    "df_train, df_valid = train_test_split(full_train, random_state=11, test_size=0.25)\n",
    "# why 0.25? `full_train` has 80% of initial data. 20 % from 80% is 0.25"
   ]
  },
  {
   "cell_type": "raw",
   "id": "a22ee263",
   "metadata": {},
   "source": [
    "80 % - 100 %\n",
    "20 %  - x %\n",
    "\n",
    "80*x = 2000\n",
    "x = 2000 / 80\n",
    "x = 25"
   ]
  },
  {
   "cell_type": "code",
   "execution_count": 16,
   "id": "5f5b3c3d",
   "metadata": {},
   "outputs": [
    {
     "data": {
      "text/plain": [
       "(891, 2672, 891)"
      ]
     },
     "execution_count": 16,
     "metadata": {},
     "output_type": "execute_result"
    }
   ],
   "source": [
    "len(df_test), len(df_train), len(df_valid)"
   ]
  },
  {
   "cell_type": "code",
   "execution_count": 17,
   "id": "73ddeb3f",
   "metadata": {},
   "outputs": [],
   "source": [
    "# `1` - client defaulted\n",
    "# `0` - not defaulted\n",
    "y_train = (df_train.status == 'default').values\n",
    "y_valid = (df_valid.status == 'default').values\n",
    "\n",
    "del df_train['status']\n",
    "del df_valid['status']"
   ]
  },
  {
   "cell_type": "code",
   "execution_count": 18,
   "id": "fb4df6d2",
   "metadata": {},
   "outputs": [],
   "source": [
    "df_train = df_train.fillna(0)\n",
    "df_valid = df_valid.fillna(0)"
   ]
  },
  {
   "cell_type": "code",
   "execution_count": 19,
   "id": "b7fcb2df",
   "metadata": {},
   "outputs": [],
   "source": [
    "from sklearn.feature_extraction import DictVectorizer\n",
    "\n",
    "dict_train = df_train.to_dict(orient='records')\n",
    "dict_valid = df_valid.to_dict(orient='records')\n",
    "\n",
    "dv = DictVectorizer(sparse=False)\n",
    "# instead of 1) dv.fit(dict_train) 2) dv.transform(dict_train)\n",
    "X_train = dv.fit_transform(dict_train)\n",
    "X_valid = dv.transform(dict_valid)"
   ]
  },
  {
   "cell_type": "markdown",
   "id": "1d0996d1",
   "metadata": {},
   "source": [
    "# Decision Trees\n",
    "\n",
    "consisits of nodes with conditions. If condition is satisfied -> go right else go left"
   ]
  },
  {
   "cell_type": "code",
   "execution_count": 20,
   "id": "2242e85b",
   "metadata": {},
   "outputs": [],
   "source": [
    "from sklearn.tree import DecisionTreeClassifier\n",
    "from sklearn.metrics import roc_auc_score"
   ]
  },
  {
   "cell_type": "code",
   "execution_count": 21,
   "id": "2af43e51",
   "metadata": {},
   "outputs": [
    {
     "data": {
      "text/plain": [
       "DecisionTreeClassifier()"
      ]
     },
     "execution_count": 21,
     "metadata": {},
     "output_type": "execute_result"
    }
   ],
   "source": [
    "dt = DecisionTreeClassifier()\n",
    "dt.fit(X_train, y_train)"
   ]
  },
  {
   "cell_type": "raw",
   "id": "c453f47e",
   "metadata": {},
   "source": [
    "To evaluate how well model separates pos. and neg. examples, we'll use AUC. Ideally, all positive (with 1 score) should be ranked higher than all negative (with 0 score). In our case all with risk of default should be higher than the ones without risk of default."
   ]
  },
  {
   "cell_type": "code",
   "execution_count": 22,
   "id": "3537ffa6",
   "metadata": {},
   "outputs": [
    {
     "data": {
      "text/plain": [
       "1.0"
      ]
     },
     "execution_count": 22,
     "metadata": {},
     "output_type": "execute_result"
    }
   ],
   "source": [
    "y_pred = dt.predict_proba(X_train)[:, 1]\n",
    "roc_auc_score(y_train, y_pred)\n",
    "# Does 1.0 mean that we can predict default without errors?\n",
    "# Let's analyze it."
   ]
  },
  {
   "cell_type": "code",
   "execution_count": 23,
   "id": "39557e79",
   "metadata": {},
   "outputs": [
    {
     "data": {
      "text/plain": [
       "0.6510377564118088"
      ]
     },
     "execution_count": 23,
     "metadata": {},
     "output_type": "execute_result"
    }
   ],
   "source": [
    "y_pred_valid = dt.predict_proba(X_valid)[:, 1]\n",
    "roc_auc_score(y_valid, y_pred_valid)"
   ]
  },
  {
   "cell_type": "markdown",
   "id": "8d4d9c40",
   "metadata": {},
   "source": [
    "<h3>1.0 from above is called `overfitting` when our model literally memorizes the results for each customer.\n",
    "    <br>\n",
    "    In such cases we say: model can't <ins>generalize</ins>\n",
    "</h3>\n",
    "\n",
    "Why does that happen? The model is too complex with enough power to remember all the training data. \n",
    "**Solution:** make the model simpler to make it less powerful which will improve model's ability to generalize.\n",
    "There're multiple ways to make the tree simpler:\n",
    "1. The more levels in the tree the more powerful it is, hence\n",
    "   lowering the size will make it simpler and less prone to    overfitting. `max_depth` parameter by default is None -> tree can grow as large as it can. So, restricting params. will make it simpler"
   ]
  },
  {
   "cell_type": "code",
   "execution_count": 24,
   "id": "c633631a",
   "metadata": {},
   "outputs": [
    {
     "data": {
      "text/plain": [
       "DecisionTreeClassifier(max_depth=2)"
      ]
     },
     "execution_count": 24,
     "metadata": {},
     "output_type": "execute_result"
    }
   ],
   "source": [
    "dt = DecisionTreeClassifier(max_depth=2)\n",
    "dt.fit(X_train, y_train)"
   ]
  },
  {
   "cell_type": "code",
   "execution_count": 25,
   "id": "ae7500bc",
   "metadata": {
    "scrolled": true
   },
   "outputs": [
    {
     "name": "stdout",
     "output_type": "stream",
     "text": [
      "|--- records=yes <= 0.50\n",
      "|   |--- job=partime <= 0.50\n",
      "|   |   |--- class: False\n",
      "|   |--- job=partime >  0.50\n",
      "|   |   |--- class: True\n",
      "|--- records=yes >  0.50\n",
      "|   |--- seniority <= 6.50\n",
      "|   |   |--- class: True\n",
      "|   |--- seniority >  6.50\n",
      "|   |   |--- class: False\n",
      "\n"
     ]
    }
   ],
   "source": [
    "from sklearn.tree import export_text\n",
    "\n",
    "tree_text = export_text(dt, feature_names=dv.feature_names_)\n",
    "print(tree_text)\n",
    "# True == deafult (1)\n",
    "# False == no default (0)"
   ]
  },
  {
   "cell_type": "raw",
   "id": "528d8389",
   "metadata": {},
   "source": [
    "`records=no <= 0.50`  is a categorical feature (one-hot encoded).\n",
    "It does mean that customer has less than 50% of NO records => more than 50% that he has records. Initially we have one-hot encoding: `records=yes` & `records=no`.\n",
    "!! But. if we place `max_depth = 3` there will be cases when you can see `records=yes` & `records=no`. They're the same.\n",
    "A customer with NO RECORDS: `records=no` is 1 and `records=yes` is 0.\n",
    "`records=no > 0.50` is true when the value for “records” is “no”\n",
    "`records=no < 0.50` is true when the value for “records” is “yes”"
   ]
  },
  {
   "cell_type": "code",
   "execution_count": 26,
   "id": "d0e5b18f",
   "metadata": {},
   "outputs": [
    {
     "name": "stdout",
     "output_type": "stream",
     "text": [
      "train auc: 0.7054989859726213\n",
      "valid auc: 0.6685264343319367\n"
     ]
    }
   ],
   "source": [
    "y_pred = dt.predict_proba(X_train)[:, 1]\n",
    "auc = roc_auc_score(y_train, y_pred)\n",
    "print(f\"train auc: {auc}\")\n",
    "\n",
    "y_pred = dt.predict_proba(X_valid)[:, 1]\n",
    "auc = roc_auc_score(y_valid, y_pred)\n",
    "print(f\"valid auc: {auc}\")"
   ]
  },
  {
   "cell_type": "raw",
   "id": "534ced68",
   "metadata": {},
   "source": [
    "Now model can generalize better as we make it less complex.\n",
    "But it's too simple. We can \"tune\" the model by trying various params and see which lead to better auc."
   ]
  },
  {
   "cell_type": "markdown",
   "id": "0433bfd8",
   "metadata": {},
   "source": [
    "# Parameter tuning for dec. tree\n",
    "\n",
    "It's a process of finding the best set of params."
   ]
  },
  {
   "cell_type": "raw",
   "id": "eea02bb9",
   "metadata": {},
   "source": [
    "There're 2 params that we can tune: max_depth and min_leaf_size.\n",
    "We change models and check their scores on the validation datasets."
   ]
  },
  {
   "cell_type": "code",
   "execution_count": 27,
   "id": "74059e72",
   "metadata": {},
   "outputs": [
    {
     "name": "stdout",
     "output_type": "stream",
     "text": [
      "1, 0.606\n",
      "2, 0.669\n",
      "3, 0.739\n",
      "4, 0.761\n",
      "5, 0.767\n",
      "6, 0.758\n",
      "10, 0.685\n",
      "15, 0.663\n",
      "20, 0.657\n",
      "No depth, 0.648\n"
     ]
    }
   ],
   "source": [
    "for depth in [1, 2, 3, 4, 5, 6, 10, 15, 20, None]:\n",
    "    dt = DecisionTreeClassifier(max_depth=depth)\n",
    "    dt.fit(X_train, y_train)\n",
    "    y_pred = dt.predict_proba(X_valid)[:, 1]\n",
    "    auc = roc_auc_score(y_valid, y_pred)\n",
    "    if depth is not None:\n",
    "        print(f\"{round(depth, 3)}, {round(auc, 3)}\")\n",
    "    else:\n",
    "        print(f\"No depth, {round(auc, 3)}\")"
   ]
  },
  {
   "cell_type": "code",
   "execution_count": 28,
   "id": "c74a237c",
   "metadata": {
    "scrolled": true
   },
   "outputs": [
    {
     "name": "stdout",
     "output_type": "stream",
     "text": [
      "Depth: 4\n",
      "1, 0.7612827250490422\n",
      "5, 0.7612827250490422\n",
      "10, 0.7612827250490422\n",
      "15, 0.7637257513743916\n",
      "20, 0.760910367876777\n",
      "50, 0.7534571698433072\n",
      "100, 0.7559365236976581\n",
      "200, 0.7472602988544719\n",
      "break\n",
      "Depth: 5\n",
      "1, 0.7664957254607541\n",
      "5, 0.7681728463829891\n",
      "10, 0.7618094742195636\n",
      "15, 0.7724050035116611\n",
      "20, 0.7740276331403937\n",
      "50, 0.7681970647356566\n",
      "100, 0.7633836671429609\n",
      "200, 0.7590728003681189\n",
      "break\n",
      "Depth: 6\n",
      "1, 0.7533148870213848\n",
      "5, 0.7626510619747644\n",
      "10, 0.7782991450921508\n",
      "15, 0.785470804775859\n",
      "20, 0.7739822237291418\n",
      "50, 0.770288924947325\n",
      "100, 0.7764343319367417\n",
      "200, 0.7682666924995762\n",
      "break\n"
     ]
    }
   ],
   "source": [
    "# from above we see that best 3 depths are: 4/5/6\n",
    "values = []\n",
    "\n",
    "for d in [4, 5, 6]:\n",
    "    print(f\"Depth: {d}\")\n",
    "    \n",
    "    for leaf in [1, 5, 10, 15, 20, 50, 100, 200]:\n",
    "        dt = DecisionTreeClassifier(max_depth=d, min_samples_leaf=leaf)\n",
    "        dt.fit(X_train, y_train)\n",
    "        y_pred = dt.predict_proba(X_valid)[:, 1]\n",
    "        auc = roc_auc_score(y_valid, y_pred)\n",
    "        values.append([d, leaf, auc])\n",
    "        print(f\"{leaf}, {auc}\")\n",
    "    \n",
    "    print('break')"
   ]
  },
  {
   "cell_type": "code",
   "execution_count": 29,
   "id": "f90a16e1",
   "metadata": {
    "scrolled": true
   },
   "outputs": [
    {
     "data": {
      "text/plain": [
       "[[4, 1, 0.7612827250490422],\n",
       " [4, 5, 0.7612827250490422],\n",
       " [4, 10, 0.7612827250490422],\n",
       " [4, 15, 0.7637257513743916],\n",
       " [4, 20, 0.760910367876777],\n",
       " [4, 50, 0.7534571698433072],\n",
       " [4, 100, 0.7559365236976581],\n",
       " [4, 200, 0.7472602988544719],\n",
       " [5, 1, 0.7664957254607541],\n",
       " [5, 5, 0.7681728463829891],\n",
       " [5, 10, 0.7618094742195636],\n",
       " [5, 15, 0.7724050035116611],\n",
       " [5, 20, 0.7740276331403937],\n",
       " [5, 50, 0.7681970647356566],\n",
       " [5, 100, 0.7633836671429609],\n",
       " [5, 200, 0.7590728003681189],\n",
       " [6, 1, 0.7533148870213848],\n",
       " [6, 5, 0.7626510619747644],\n",
       " [6, 10, 0.7782991450921508],\n",
       " [6, 15, 0.785470804775859],\n",
       " [6, 20, 0.7739822237291418],\n",
       " [6, 50, 0.770288924947325],\n",
       " [6, 100, 0.7764343319367417],\n",
       " [6, 200, 0.7682666924995762]]"
      ]
     },
     "execution_count": 29,
     "metadata": {},
     "output_type": "execute_result"
    }
   ],
   "source": [
    "values"
   ]
  },
  {
   "cell_type": "code",
   "execution_count": 30,
   "id": "5c6580b9",
   "metadata": {},
   "outputs": [
    {
     "data": {
      "text/plain": [
       "0.7850954203095104"
      ]
     },
     "execution_count": 30,
     "metadata": {},
     "output_type": "execute_result"
    }
   ],
   "source": [
    "# best decision tree is depth = 6, min_sample_leaf = 15\n",
    "\n",
    "dt = DecisionTreeClassifier(max_depth=6, min_samples_leaf=15)\n",
    "dt.fit(X_train, y_train)\n",
    "\n",
    "y_pred_dt = dt.predict_proba(X_valid)[:, 1]\n",
    "roc_auc_score(y_valid, y_pred_dt)"
   ]
  },
  {
   "cell_type": "code",
   "execution_count": 31,
   "id": "823240ea",
   "metadata": {},
   "outputs": [
    {
     "data": {
      "image/png": "[encoded data removed]",
      "text/plain": [
       "<Figure size 432x432 with 1 Axes>"
      ]
     },
     "metadata": {
      "needs_background": "light"
     },
     "output_type": "display_data"
    }
   ],
   "source": [
    "from sklearn.metrics import roc_curve\n",
    "\n",
    "fpr, tpr, threshold = roc_curve(y_valid, y_pred_dt)\n",
    "\n",
    "plt.figure(figsize=(6, 6))\n",
    "plt.plot(fpr, tpr, color='red')\n",
    "plt.plot([0, 1], [0, 1], color='green', alpha=0.8)\n",
    "# `alpha` regulates transparency\n",
    "\n",
    "plt.xlim([-0.5, 1.08])\n",
    "plt.ylim([-0.2, 1.2])\n",
    "plt.xlabel('False Positive Rate (FPR)')\n",
    "plt.ylabel('True Positive Rate (TPR)')\n",
    "plt.title('ROC Curve')\n",
    "\n",
    "plt.show()"
   ]
  },
  {
   "cell_type": "markdown",
   "id": "abc6cc19",
   "metadata": {},
   "source": [
    "# Ensemble learning - Random Forest"
   ]
  },
  {
   "cell_type": "raw",
   "id": "b1dfa824",
   "metadata": {},
   "source": [
    "combination of models - ensemble. The concept - ensemble learning.\n",
    "We make different models (because the same ones will give us similar result) by combining various set of features. \n",
    "    \n",
    "Ex: `assets`, `debts`, `price`. 1st model: assets & debts; 2nd model: assets & price; 3rd model: debts & price.\n",
    "\n",
    "As a result we combine decisions of every tree and their mistakes are averaged out => more predictive power.\n",
    "\n",
    "This way of putting together multiple decision trees into an ensemble is called random forest."
   ]
  },
  {
   "cell_type": "code",
   "execution_count": 32,
   "id": "4d1a502d",
   "metadata": {},
   "outputs": [
    {
     "name": "stdout",
     "output_type": "stream",
     "text": [
      "0.784 += 0.009\n",
      "0.775 -- 0.793\n"
     ]
    }
   ],
   "source": [
    "# without `random_state`\n",
    "from sklearn.ensemble import RandomForestClassifier\n",
    "\n",
    "aucs = []\n",
    "\n",
    "for i in range(100):\n",
    "    rf = RandomForestClassifier(n_estimators=10)\n",
    "    rf.fit(X_train, y_train)\n",
    "    y_pred = rf.predict_proba(X_valid)[:, 1]\n",
    "    auc = roc_auc_score(y_valid, y_pred)\n",
    "    aucs.append(auc)\n",
    "\n",
    "auc_mean = np.mean(aucs)\n",
    "auc_std = np.std(aucs)\n",
    "\n",
    "print(f\"{round(auc_mean, 3)} += {round(auc_std, 3)}\")\n",
    "print(f\"{round(auc_mean - auc_std, 3)} -- {round(auc_mean + auc_std, 3)}\")"
   ]
  },
  {
   "cell_type": "code",
   "execution_count": 33,
   "id": "6ad08c15",
   "metadata": {},
   "outputs": [
    {
     "data": {
      "text/plain": [
       "RandomForestClassifier(n_estimators=10, random_state=3)"
      ]
     },
     "execution_count": 33,
     "metadata": {},
     "output_type": "execute_result"
    }
   ],
   "source": [
    "# n_estimators = № of trees to include\n",
    "rf = RandomForestClassifier(n_estimators=10, random_state=3)\n",
    "rf.fit(X_train, y_train)"
   ]
  },
  {
   "cell_type": "code",
   "execution_count": 34,
   "id": "82cab71e",
   "metadata": {},
   "outputs": [
    {
     "data": {
      "text/plain": [
       "0.7811145285897654"
      ]
     },
     "execution_count": 34,
     "metadata": {},
     "output_type": "execute_result"
    }
   ],
   "source": [
    "y_pred = rf.predict_proba(X_valid)[:, 1]\n",
    "roc_auc_score(y_valid, y_pred)\n",
    "# we'll see a slightly different result every time\n",
    "# as `random_state` isn't set -> model geenrates\n",
    "# random set of features every time"
   ]
  },
  {
   "cell_type": "code",
   "execution_count": 35,
   "id": "b5849127",
   "metadata": {
    "scrolled": false
   },
   "outputs": [
    {
     "name": "stdout",
     "output_type": "stream",
     "text": [
      "№ trees: 10; auc: 0.781\n",
      "№ trees: 20; auc: 0.801\n",
      "№ trees: 30; auc: 0.813\n",
      "№ trees: 40; auc: 0.815\n",
      "№ trees: 50; auc: 0.816\n",
      "№ trees: 60; auc: 0.817\n",
      "№ trees: 70; auc: 0.818\n",
      "№ trees: 80; auc: 0.818\n",
      "№ trees: 90; auc: 0.82\n",
      "№ trees: 100; auc: 0.819\n",
      "№ trees: 110; auc: 0.819\n",
      "№ trees: 120; auc: 0.821\n",
      "№ trees: 130; auc: 0.822\n",
      "№ trees: 140; auc: 0.822\n",
      "№ trees: 150; auc: 0.82\n",
      "№ trees: 160; auc: 0.82\n",
      "№ trees: 170; auc: 0.819\n",
      "№ trees: 180; auc: 0.82\n",
      "№ trees: 190; auc: 0.82\n",
      "№ trees: 200; auc: 0.82\n"
     ]
    }
   ],
   "source": [
    "# but too many trees is bad -> let's find best number\n",
    "\n",
    "aucs = []\n",
    "\n",
    "for i in range(10, 201, 10):\n",
    "    rf = RandomForestClassifier(n_estimators=i, random_state=3)\n",
    "    rf.fit(X_train, y_train)\n",
    "    \n",
    "    y_pred = rf.predict_proba(X_valid)[:, 1]\n",
    "    auc = roc_auc_score(y_valid, y_pred)\n",
    "    print(f\"№ trees: {round(i, 3)}; auc: {round(auc, 3)}\")\n",
    "    \n",
    "    aucs.append(auc)"
   ]
  },
  {
   "cell_type": "code",
   "execution_count": 36,
   "id": "1318b4d4",
   "metadata": {
    "scrolled": true
   },
   "outputs": [
    {
     "data": {
      "text/plain": [
       "[0.7811145285897654,\n",
       " 0.80073744883873,\n",
       " 0.8134339202247464,\n",
       " 0.8154198251434936,\n",
       " 0.8159617107844324,\n",
       " 0.8168426533627182,\n",
       " 0.8184895013441186,\n",
       " 0.8178628514688431,\n",
       " 0.8198275653290064,\n",
       " 0.819043496161391,\n",
       " 0.8192856796880676,\n",
       " 0.8211353563730595,\n",
       " 0.8221283088324333,\n",
       " 0.8218770434235063,\n",
       " 0.8204663243806156,\n",
       " 0.8198941657988423,\n",
       " 0.8193310890993194,\n",
       " 0.8195460269792448,\n",
       " 0.8201726768545202,\n",
       " 0.8202241408539391]"
      ]
     },
     "execution_count": 36,
     "metadata": {},
     "output_type": "execute_result"
    }
   ],
   "source": [
    "aucs"
   ]
  },
  {
   "cell_type": "code",
   "execution_count": 37,
   "id": "5557addf",
   "metadata": {},
   "outputs": [
    {
     "data": {
      "image/png": "[encoded data removed]",
      "text/plain": [
       "<Figure size 360x360 with 1 Axes>"
      ]
     },
     "metadata": {
      "needs_background": "light"
     },
     "output_type": "display_data"
    }
   ],
   "source": [
    "trees = list(map(lambda x: x, range(10, 201)))\n",
    "plt.figure(figsize=(5,5))\n",
    "plt.plot(range(10, 201, 10), aucs, color='red')\n",
    "# plt.plot(trees[::10], aucs, color='red')\n",
    "\n",
    "plt.title('№ of trees vs AUC')\n",
    "plt.xlabel('№ of trees')\n",
    "plt.ylabel('AUC')\n",
    "plt.xticks(range(0, 201, 50))\n",
    "plt.show()"
   ]
  },
  {
   "cell_type": "markdown",
   "id": "704d7faf",
   "metadata": {},
   "source": [
    "# Parameter tuning for random forest\n",
    "\n",
    "as RF consists of multiple decision trees we'll have the same params: max_depth & min_leaf_size"
   ]
  },
  {
   "cell_type": "code",
   "execution_count": 38,
   "id": "a5e69974",
   "metadata": {
    "scrolled": true
   },
   "outputs": [
    {
     "name": "stdout",
     "output_type": "stream",
     "text": [
      "depth: 5\n",
      "№ trees: 10; depth: 5\n",
      "№ trees: 20; depth: 5\n",
      "№ trees: 30; depth: 5\n",
      "№ trees: 40; depth: 5\n",
      "№ trees: 50; depth: 5\n",
      "№ trees: 60; depth: 5\n",
      "№ trees: 70; depth: 5\n",
      "№ trees: 80; depth: 5\n",
      "№ trees: 90; depth: 5\n",
      "№ trees: 100; depth: 5\n",
      "№ trees: 110; depth: 5\n",
      "№ trees: 120; depth: 5\n",
      "№ trees: 130; depth: 5\n",
      "№ trees: 140; depth: 5\n",
      "№ trees: 150; depth: 5\n",
      "№ trees: 160; depth: 5\n",
      "№ trees: 170; depth: 5\n",
      "№ trees: 180; depth: 5\n",
      "№ trees: 190; depth: 5\n",
      "№ trees: 200; depth: 5\n",
      "Break\n",
      "depth: 10\n",
      "№ trees: 10; depth: 10\n",
      "№ trees: 20; depth: 10\n",
      "№ trees: 30; depth: 10\n",
      "№ trees: 40; depth: 10\n",
      "№ trees: 50; depth: 10\n",
      "№ trees: 60; depth: 10\n",
      "№ trees: 70; depth: 10\n",
      "№ trees: 80; depth: 10\n",
      "№ trees: 90; depth: 10\n",
      "№ trees: 100; depth: 10\n",
      "№ trees: 110; depth: 10\n",
      "№ trees: 120; depth: 10\n",
      "№ trees: 130; depth: 10\n",
      "№ trees: 140; depth: 10\n",
      "№ trees: 150; depth: 10\n",
      "№ trees: 160; depth: 10\n",
      "№ trees: 170; depth: 10\n",
      "№ trees: 180; depth: 10\n",
      "№ trees: 190; depth: 10\n",
      "№ trees: 200; depth: 10\n",
      "Break\n",
      "depth: 20\n",
      "№ trees: 10; depth: 20\n",
      "№ trees: 20; depth: 20\n",
      "№ trees: 30; depth: 20\n",
      "№ trees: 40; depth: 20\n",
      "№ trees: 50; depth: 20\n",
      "№ trees: 60; depth: 20\n",
      "№ trees: 70; depth: 20\n",
      "№ trees: 80; depth: 20\n",
      "№ trees: 90; depth: 20\n",
      "№ trees: 100; depth: 20\n",
      "№ trees: 110; depth: 20\n",
      "№ trees: 120; depth: 20\n",
      "№ trees: 130; depth: 20\n",
      "№ trees: 140; depth: 20\n",
      "№ trees: 150; depth: 20\n",
      "№ trees: 160; depth: 20\n",
      "№ trees: 170; depth: 20\n",
      "№ trees: 180; depth: 20\n",
      "№ trees: 190; depth: 20\n",
      "№ trees: 200; depth: 20\n",
      "Break\n"
     ]
    }
   ],
   "source": [
    "all_aucs = {}\n",
    "\n",
    "for d in [5, 10, 20]:\n",
    "    print(f\"depth: {d}\")\n",
    "    aucs = []\n",
    "    \n",
    "    for i in range(10, 201, 10):\n",
    "        rf = RandomForestClassifier(n_estimators=i, max_depth=d,\n",
    "                                   random_state=1)\n",
    "        rf.fit(X_train, y_train)\n",
    "        y_pred = rf.predict_proba(X_valid)[:, 1]\n",
    "        auc = roc_auc_score(y_valid, y_pred)\n",
    "        print(f\"№ trees: {i}; depth: {d}\")\n",
    "        aucs.append(auc)\n",
    "    \n",
    "    all_aucs[d] = aucs\n",
    "    print('Break')"
   ]
  },
  {
   "cell_type": "code",
   "execution_count": 411,
   "id": "eaed272f",
   "metadata": {},
   "outputs": [
    {
     "data": {
      "image/png": "[encoded data removed]",
      "text/plain": [
       "<Figure size 432x288 with 1 Axes>"
      ]
     },
     "metadata": {
      "needs_background": "light"
     },
     "output_type": "display_data"
    }
   ],
   "source": [
    "trees = list(range(10, 201, 10))\n",
    "\n",
    "plt.plot(trees, all_aucs[5], label='depth: 5')\n",
    "plt.plot(trees, all_aucs[10], label='depth: 10')\n",
    "plt.plot(trees, all_aucs[20], label='depth: 20')\n",
    "\n",
    "plt.xticks(range(0, 201, 50))\n",
    "plt.title('№ of trees vs AUC')\n",
    "plt.xlabel('№ of trees')\n",
    "plt.ylabel('AUC')\n",
    "\n",
    "plt.legend()\n",
    "plt.show()"
   ]
  },
  {
   "cell_type": "code",
   "execution_count": 412,
   "id": "14af7096",
   "metadata": {
    "scrolled": true
   },
   "outputs": [
    {
     "name": "stdout",
     "output_type": "stream",
     "text": [
      "min_leaf: 3\n",
      "№ trees: 10; auc: 0.8107577922549707\n",
      "№ trees: 30; auc: 0.822530938945533\n",
      "№ trees: 50; auc: 0.8229365963527162\n",
      "№ trees: 70; auc: 0.8215379864861592\n",
      "№ trees: 90; auc: 0.8232817078782301\n",
      "№ trees: 110; auc: 0.8234027996415685\n",
      "№ trees: 130; auc: 0.8244139158654429\n",
      "№ trees: 150; auc: 0.8248498462134606\n",
      "№ trees: 170; auc: 0.8249588288004649\n",
      "№ trees: 190; auc: 0.8251465210336393\n",
      "Break\n",
      "min_leaf: 5\n",
      "№ trees: 10; auc: 0.8129465258773099\n",
      "№ trees: 30; auc: 0.817802305587174\n",
      "№ trees: 50; auc: 0.821265530018648\n",
      "№ trees: 70; auc: 0.8221979365963527\n",
      "№ trees: 90; auc: 0.8224703930638638\n",
      "№ trees: 110; auc: 0.8245471168051149\n",
      "№ trees: 130; auc: 0.8252857765614783\n",
      "№ trees: 150; auc: 0.825031483858468\n",
      "№ trees: 170; auc: 0.8248680099779613\n",
      "№ trees: 190; auc: 0.8259517812598386\n",
      "Break\n",
      "min_leaf: 10\n",
      "№ trees: 10; auc: 0.809664939090843\n",
      "№ trees: 30; auc: 0.822319028359691\n",
      "№ trees: 50; auc: 0.8223795742413602\n",
      "№ trees: 70; auc: 0.8193825530987382\n",
      "№ trees: 90; auc: 0.820369450969945\n",
      "№ trees: 110; auc: 0.8198305926230898\n",
      "№ trees: 130; auc: 0.820514761085951\n",
      "№ trees: 150; auc: 0.8203391780291106\n",
      "№ trees: 170; auc: 0.8199032476810927\n",
      "№ trees: 190; auc: 0.8197579375650867\n",
      "Break\n"
     ]
    }
   ],
   "source": [
    "# from previous analysis we see that depth: 10 is the best\n",
    "# Now let's tune min_samples_leaf parameter\n",
    "all_aucs = {}\n",
    "\n",
    "for m in [3, 5, 10]:\n",
    "    print(f\"min_leaf: {m}\")\n",
    "    aucs = []\n",
    "    \n",
    "    for i in range(10, 201, 20):\n",
    "        rf = RandomForestClassifier(n_estimators=i, max_depth=10, random_state=1, min_samples_leaf=m)\n",
    "        rf.fit(X_train, y_train)\n",
    "        y_pred = rf.predict_proba(X_valid)[:, 1]\n",
    "        auc = roc_auc_score(y_valid, y_pred)\n",
    "        print(f\"№ trees: {i}; auc: {auc}\")\n",
    "        aucs.append(auc)\n",
    "    \n",
    "    all_aucs[m] = aucs\n",
    "    print('Break')"
   ]
  },
  {
   "cell_type": "code",
   "execution_count": 413,
   "id": "60fd6e57",
   "metadata": {},
   "outputs": [
    {
     "data": {
      "image/png": "[encoded data removed]",
      "text/plain": [
       "<Figure size 432x288 with 1 Axes>"
      ]
     },
     "metadata": {
      "needs_background": "light"
     },
     "output_type": "display_data"
    }
   ],
   "source": [
    "trees = list(range(10, 201, 20))\n",
    "\n",
    "plt.plot(trees, all_aucs[3], label='min_samples_leaf: 3')\n",
    "plt.plot(trees, all_aucs[5], label='min_samples_leaf: 5')\n",
    "plt.plot(trees, all_aucs[10], label='min_samples_leaf: 10')\n",
    "\n",
    "plt.xticks(range(0, 201, 50))\n",
    "\n",
    "plt.title('№ of trees vs AUC')\n",
    "plt.xlabel('№ of trees')\n",
    "plt.ylabel('AUC')\n",
    "plt.legend()\n",
    "plt.show()"
   ]
  },
  {
   "cell_type": "raw",
   "id": "f8fa5e72",
   "metadata": {},
   "source": [
    "Best params: max_depth=10, min_samples_leaf=5, n_estimators=200 (number of trees)"
   ]
  },
  {
   "cell_type": "code",
   "execution_count": 414,
   "id": "30bc13c9",
   "metadata": {},
   "outputs": [
    {
     "data": {
      "text/plain": [
       "0.8253826499721489"
      ]
     },
     "execution_count": 414,
     "metadata": {},
     "output_type": "execute_result"
    }
   ],
   "source": [
    "rf = RandomForestClassifier(n_estimators=200, max_depth=10,\n",
    "                            min_samples_leaf=5, random_state=1)\n",
    "\n",
    "rf.fit(X_train, y_train)\n",
    "y_pred_rf = rf.predict_proba(X_valid)[:, 1]\n",
    "roc_auc_score(y_valid, y_pred_rf)"
   ]
  },
  {
   "cell_type": "code",
   "execution_count": 415,
   "id": "b23b5ee0",
   "metadata": {},
   "outputs": [
    {
     "data": {
      "image/png": "[encoded data removed]",
      "text/plain": [
       "<Figure size 360x360 with 1 Axes>"
      ]
     },
     "metadata": {
      "needs_background": "light"
     },
     "output_type": "display_data"
    }
   ],
   "source": [
    "plt.figure(figsize=(5, 5))\n",
    "\n",
    "fpr, tpr, thresholds = roc_curve(y_valid, y_pred_rf)\n",
    "plt.plot(fpr, tpr, color='red')\n",
    "\n",
    "fpr, tpr, threshold = roc_curve(y_valid, y_pred_dt)\n",
    "plt.plot(fpr, tpr, color='black', linestyle='dashed')\n",
    "\n",
    "plt.plot([0, 1], [0, 1], color='green', alpha=0.8)\n",
    "\n",
    "plt.xlim([-0.1, 1.08])\n",
    "plt.ylim([-0.1, 1.08])\n",
    "\n",
    "plt.xlabel('False Positive Rate')\n",
    "plt.ylabel('True Positive Rate')\n",
    "plt.title('ROC Curve')\n",
    "\n",
    "plt.show()"
   ]
  },
  {
   "cell_type": "markdown",
   "id": "5962f272",
   "metadata": {},
   "source": [
    "# Gradient boosting\n",
    "\n",
    "In `random forest` every tree is independent where we combine results of every tree.\n",
    "But `ensemble` has other methods. We can train trees sequentially: each next tree fixes the errors of the previous one. => `boosting`"
   ]
  },
  {
   "cell_type": "code",
   "execution_count": 118,
   "id": "b28e7f5e",
   "metadata": {},
   "outputs": [
    {
     "name": "stdout",
     "output_type": "stream",
     "text": [
      "Requirement already satisfied: xgboost in /Users/daniilslobodenuk/opt/anaconda3/lib/python3.8/site-packages (1.4.2)\r\n",
      "Requirement already satisfied: scipy in /Users/daniilslobodenuk/opt/anaconda3/lib/python3.8/site-packages (from xgboost) (1.6.2)\r\n",
      "Requirement already satisfied: numpy in /Users/daniilslobodenuk/opt/anaconda3/lib/python3.8/site-packages (from xgboost) (1.20.2)\r\n"
     ]
    }
   ],
   "source": [
    "!pip install xgboost\n",
    "# gradient boosting model has various implementations:\n",
    "# GradientBoostingClassifier from Scikit-Learn,\n",
    "# XGBoost, LightGBM and CatBoost"
   ]
  },
  {
   "cell_type": "code",
   "execution_count": 416,
   "id": "feddea5c",
   "metadata": {},
   "outputs": [],
   "source": [
    "import xgboost as xgb"
   ]
  },
  {
   "cell_type": "code",
   "execution_count": 417,
   "id": "c4aab0a4",
   "metadata": {},
   "outputs": [],
   "source": [
    "dtrain = xgb.DMatrix(X_train, label=y_train,\n",
    "                     feature_names=dv.feature_names_)"
   ]
  },
  {
   "cell_type": "code",
   "execution_count": 418,
   "id": "ba8f6fb3",
   "metadata": {},
   "outputs": [],
   "source": [
    "dvalid = xgb.DMatrix(X_valid, label=y_valid,\n",
    "                     feature_names=dv.feature_names_)"
   ]
  },
  {
   "cell_type": "code",
   "execution_count": 419,
   "id": "4f5093fc",
   "metadata": {},
   "outputs": [],
   "source": [
    "xgb_params = {\n",
    "    'eta': 0.3,\n",
    "    'max_depth': 6,\n",
    "    'min_child_weight': 1,\n",
    "    'objective': 'binary:logistic',\n",
    "    'nthread': 8,\n",
    "    'seed': 1\n",
    "}"
   ]
  },
  {
   "cell_type": "code",
   "execution_count": 420,
   "id": "c2e1cea3",
   "metadata": {},
   "outputs": [
    {
     "name": "stdout",
     "output_type": "stream",
     "text": [
      "[10:24:12] WARNING: /opt/concourse/worker/volumes/live/7a2b9f41-3287-451b-6691-43e9a6c0910f/volume/xgboost-split_1619728204606/work/src/learner.cc:1061: Starting in XGBoost 1.3.0, the default evaluation metric used with the objective 'binary:logistic' was changed from 'error' to 'logloss'. Explicitly set eval_metric if you'd like to restore the old behavior.\n"
     ]
    }
   ],
   "source": [
    "model = xgb.train(xgb_params, dtrain, num_boost_round=10)\n",
    "# `num_boost_round=10` - number of trees"
   ]
  },
  {
   "cell_type": "code",
   "execution_count": 421,
   "id": "511b9e37",
   "metadata": {},
   "outputs": [
    {
     "data": {
      "text/plain": [
       "array([0.08926772, 0.0468099 , 0.09692743, 0.17261842, 0.05435968,\n",
       "       0.12576081, 0.08033007, 0.61870354, 0.486538  , 0.04056795],\n",
       "      dtype=float32)"
      ]
     },
     "execution_count": 421,
     "metadata": {},
     "output_type": "execute_result"
    }
   ],
   "source": [
    "# let's evaluate the model\n",
    "y_pred = model.predict(dvalid)\n",
    "y_pred[:10]"
   ]
  },
  {
   "cell_type": "code",
   "execution_count": 422,
   "id": "b8c78eee",
   "metadata": {},
   "outputs": [
    {
     "data": {
      "text/plain": [
       "0.8152745150274878"
      ]
     },
     "execution_count": 422,
     "metadata": {},
     "output_type": "execute_result"
    }
   ],
   "source": [
    "roc_auc_score(y_valid, y_pred)"
   ]
  },
  {
   "cell_type": "markdown",
   "id": "c9a221c4",
   "metadata": {},
   "source": [
    "<h3>Model performance monitoring</h3>"
   ]
  },
  {
   "cell_type": "code",
   "execution_count": 423,
   "id": "08bcdeba",
   "metadata": {
    "scrolled": true
   },
   "outputs": [],
   "source": [
    "# to observe model behaviour over various `auc`\n",
    "# 1. add 1 additional param. to xgb_params: 'eval_metric': 'auc'\n",
    "# 2. add 2 additional params. to xgb.train: evals, verbose_eval\n",
    "watchlist = [(dtrain, 'train'), (dvalid, 'valid')]\n",
    "\n",
    "xgb_params = {\n",
    "    'eta': 0.3,\n",
    "    'max_depth': 6,\n",
    "    'min_child_weight': 1,\n",
    "\n",
    "    'objective': 'binary:logistic',\n",
    "    'eval_metric': 'auc',\n",
    "    'nthread': 8,\n",
    "    'seed': 1\n",
    "}"
   ]
  },
  {
   "cell_type": "code",
   "execution_count": 424,
   "id": "d065d458",
   "metadata": {},
   "outputs": [
    {
     "name": "stdout",
     "output_type": "stream",
     "text": [
      "[0]\ttrain-auc:0.86300\tvalid-auc:0.76818\n",
      "[10]\ttrain-auc:0.95002\tvalid-auc:0.81558\n",
      "[20]\ttrain-auc:0.97316\tvalid-auc:0.81775\n",
      "[30]\ttrain-auc:0.98772\tvalid-auc:0.81788\n",
      "[40]\ttrain-auc:0.99456\tvalid-auc:0.81387\n",
      "[50]\ttrain-auc:0.99688\tvalid-auc:0.81128\n",
      "[60]\ttrain-auc:0.99889\tvalid-auc:0.80801\n",
      "[70]\ttrain-auc:0.99944\tvalid-auc:0.80732\n",
      "[80]\ttrain-auc:0.99985\tvalid-auc:0.80677\n",
      "[90]\ttrain-auc:0.99991\tvalid-auc:0.80637\n",
      "[99]\ttrain-auc:0.99997\tvalid-auc:0.80546\n"
     ]
    }
   ],
   "source": [
    "model = xgb.train(xgb_params, dtrain,\n",
    "                  num_boost_round=100,\n",
    "                  evals=watchlist, verbose_eval=10)"
   ]
  },
  {
   "cell_type": "code",
   "execution_count": 425,
   "id": "50d6774b",
   "metadata": {},
   "outputs": [],
   "source": [
    "%%capture output\n",
    "\n",
    "model = xgb.train(xgb_params, dtrain,\n",
    "                  num_boost_round=100,\n",
    "                  evals=watchlist, verbose_eval=5)"
   ]
  },
  {
   "cell_type": "code",
   "execution_count": 426,
   "id": "0ea4ea61",
   "metadata": {},
   "outputs": [],
   "source": [
    "def parse_xgb_output(ouput):\n",
    "    tree = []\n",
    "    aucs_train = []\n",
    "    aucs_val = []\n",
    "\n",
    "    for line in output.stdout.strip().split('\\n'):\n",
    "        it_line, train_line, val_line = line.split('\\t')\n",
    "        it = int(it_line.strip('[]'))\n",
    "        train = float(train_line.split(':')[1])\n",
    "        val = float(val_line.split(':')[1])\n",
    "\n",
    "        tree.append(it)\n",
    "        aucs_train.append(train)\n",
    "        aucs_val.append(val)\n",
    "\n",
    "    return tree, aucs_train, aucs_val"
   ]
  },
  {
   "cell_type": "code",
   "execution_count": 427,
   "id": "011724b5",
   "metadata": {},
   "outputs": [],
   "source": [
    "tree, aucs_train, aucs_valid = parse_xgb_output(output)"
   ]
  },
  {
   "cell_type": "code",
   "execution_count": 428,
   "id": "6bcae084",
   "metadata": {
    "scrolled": true
   },
   "outputs": [
    {
     "data": {
      "image/png": "[encoded data removed]",
      "text/plain": [
       "<Figure size 360x360 with 1 Axes>"
      ]
     },
     "metadata": {
      "needs_background": "light"
     },
     "output_type": "display_data"
    }
   ],
   "source": [
    "plt.figure(figsize=(5,5))\n",
    "plt.plot(tree, aucs_train, label='Train AUC')\n",
    "plt.plot(tree, aucs_valid, label='Validation AUC')\n",
    "plt.xticks(range(0, 101, 25))\n",
    "\n",
    "plt.title('№ of trees vs AUC')\n",
    "plt.xlabel('№ of trees')\n",
    "plt.ylabel('AUC')\n",
    "plt.legend()\n",
    "\n",
    "plt.show()"
   ]
  },
  {
   "cell_type": "raw",
   "id": "1e272530",
   "metadata": {},
   "source": [
    "After plotting we see that training period goes up as model fixes all the previous errors. However, validation score goes down after short period of time. Why? -> Overfitting. As before with decision trees, model becomes more & more complex until eventually it memorizes all the training set.\n",
    "=> parameter tuning is required."
   ]
  },
  {
   "cell_type": "markdown",
   "id": "cc4e8777",
   "metadata": {},
   "source": [
    "# Parameter tuning for XGBoost\n",
    "\n",
    "1. eta - learning rate\n",
    "2. max_depth - depth of each tree\n",
    "3. min_child_weight - similar to min_leaf_size\n",
    "\n",
    "About eta: in boosting every new tree corrects the mistakes of the previous, hence if eta is too big -> model overweights the prev. predicitons, but if it's small -> only small fraction is corrected. I.e. eta too big -> overfit early, eta too small -> too many trees required to produce good result.\n",
    "\n",
    "Large datasets: 0.3\n",
    "Small datasets: 0.1 or 0.05"
   ]
  },
  {
   "cell_type": "code",
   "execution_count": 429,
   "id": "ed051896",
   "metadata": {
    "scrolled": true
   },
   "outputs": [],
   "source": [
    "%%capture output\n",
    "# in all 4 rounds below we'll use 500 trees\n",
    "xgb_params = {\n",
    "    'eta': 0.3,\n",
    "    'max_depth': 6,\n",
    "    'min_child_weight': 1,\n",
    "\n",
    "    'objective': 'binary:logistic',\n",
    "    'eval_metric': 'auc',\n",
    "    'nthread': 8,\n",
    "    'seed': 1,\n",
    "}\n",
    "\n",
    "model = xgb.train(xgb_params, dtrain,\n",
    "                  num_boost_round=500, verbose_eval=10,\n",
    "                  evals=watchlist)"
   ]
  },
  {
   "cell_type": "code",
   "execution_count": 430,
   "id": "964eea71",
   "metadata": {},
   "outputs": [
    {
     "name": "stdout",
     "output_type": "stream",
     "text": [
      "max AUC: 0.81788\n",
      "(0.81788, 30)\n"
     ]
    }
   ],
   "source": [
    "tree, aucs_train, aucs_valid_03 = parse_xgb_output(output)\n",
    "print(f\"max AUC: {max(aucs_valid_03)}\")\n",
    "print(max(zip(aucs_valid_03, tree)))"
   ]
  },
  {
   "cell_type": "code",
   "execution_count": 431,
   "id": "94d59513",
   "metadata": {},
   "outputs": [],
   "source": [
    "%%capture output\n",
    "\n",
    "xgb_params = {\n",
    "    'eta': 0.1,\n",
    "    'max_depth': 6,\n",
    "    'min_child_weight': 1,\n",
    "\n",
    "    'objective': 'binary:logistic',\n",
    "    'eval_metric': 'auc',\n",
    "    'nthread': 8,\n",
    "    'seed': 1\n",
    "}\n",
    "\n",
    "\n",
    "model = xgb.train(xgb_params, dtrain,\n",
    "                  num_boost_round=500, verbose_eval=10,\n",
    "                  evals=watchlist)"
   ]
  },
  {
   "cell_type": "code",
   "execution_count": 432,
   "id": "a138fd97",
   "metadata": {},
   "outputs": [
    {
     "name": "stdout",
     "output_type": "stream",
     "text": [
      "max AUC: 0.82476\n",
      "(0.82476, 70)\n"
     ]
    }
   ],
   "source": [
    "tree, aucs_train, aucs_valid_01 = parse_xgb_output(output)\n",
    "print(f\"max AUC: {max(aucs_valid_01)}\")\n",
    "print(max(zip(aucs_valid_01, tree)))"
   ]
  },
  {
   "cell_type": "raw",
   "id": "c270b15b",
   "metadata": {},
   "source": [
    "max AUC: 0.82476\n",
    "(0.82476, 70)\n",
    "-> first number is AUC and second number is how many trees (iterations) it took to reach such value. And AUC here is the best one from all the model."
   ]
  },
  {
   "cell_type": "code",
   "execution_count": 433,
   "id": "f66fa57e",
   "metadata": {},
   "outputs": [],
   "source": [
    "%%capture output\n",
    "\n",
    "xgb_params = {\n",
    "    'eta': 0.05,\n",
    "    'max_depth': 6,\n",
    "    'min_child_weight': 1,\n",
    "\n",
    "    'objective': 'binary:logistic',\n",
    "    'eval_metric': 'auc',\n",
    "    'nthread': 8,\n",
    "    'seed': 1\n",
    "}\n",
    "\n",
    "\n",
    "model = xgb.train(xgb_params, dtrain,\n",
    "                  num_boost_round=500, verbose_eval=10,\n",
    "                  evals=watchlist)"
   ]
  },
  {
   "cell_type": "code",
   "execution_count": 434,
   "id": "092ebad7",
   "metadata": {},
   "outputs": [
    {
     "name": "stdout",
     "output_type": "stream",
     "text": [
      "max AUC: 0.82297\n",
      "(0.82297, 120)\n"
     ]
    }
   ],
   "source": [
    "tree, aucs_train, aucs_valid_005 = parse_xgb_output(output)\n",
    "print(f\"max AUC: {max(aucs_valid_005)}\")\n",
    "print(max(zip(aucs_valid_005, tree)))"
   ]
  },
  {
   "cell_type": "code",
   "execution_count": 435,
   "id": "2677c626",
   "metadata": {},
   "outputs": [],
   "source": [
    "%%capture output\n",
    "\n",
    "xgb_params = {\n",
    "    'eta': 0.01,\n",
    "    'max_depth': 6,\n",
    "    'min_child_weight': 1,\n",
    "\n",
    "    'objective': 'binary:logistic',\n",
    "    'eval_metric': 'auc',\n",
    "    'nthread': 8,\n",
    "    'seed': 1\n",
    "}\n",
    "\n",
    "\n",
    "model = xgb.train(xgb_params, dtrain,\n",
    "                  num_boost_round=500, verbose_eval=10,\n",
    "                  evals=watchlist)"
   ]
  },
  {
   "cell_type": "code",
   "execution_count": 436,
   "id": "07e93e4f",
   "metadata": {},
   "outputs": [
    {
     "name": "stdout",
     "output_type": "stream",
     "text": [
      "max AUC: 0.82168\n",
      "(0.82168, 499)\n"
     ]
    }
   ],
   "source": [
    "tree, aucs_train, aucs_valid_001 = parse_xgb_output(output)\n",
    "print(f\"max AUC: {max(aucs_valid_001)}\")\n",
    "print(max(zip(aucs_valid_001, tree)))"
   ]
  },
  {
   "cell_type": "code",
   "execution_count": 437,
   "id": "3f60bca6",
   "metadata": {},
   "outputs": [
    {
     "data": {
      "image/png": "[encoded data removed]",
      "text/plain": [
       "<Figure size 432x288 with 1 Axes>"
      ]
     },
     "metadata": {
      "needs_background": "light"
     },
     "output_type": "display_data"
    }
   ],
   "source": [
    "plt.plot(tree, aucs_valid_03, label='eta_03')\n",
    "plt.plot(tree, aucs_valid_005, label='eta_005')\n",
    "plt.plot(tree, aucs_valid_01, label='eta_01')\n",
    "plt.plot(tree, aucs_valid_001, label='eta_001')\n",
    "plt.xlabel('№ of trees')\n",
    "plt.title('Impact of eta on model')\n",
    "plt.ylabel('AUC (validation)')\n",
    "plt.xticks(range(0, 501, 100))\n",
    "\n",
    "plt.legend()\n",
    "plt.show()"
   ]
  },
  {
   "cell_type": "raw",
   "id": "68ccf733",
   "metadata": {},
   "source": [
    "We see that `eta_01` has the best AUC. `eta_005` also has similar result, but it takes it much more trees to reach it.\n",
    "\n",
    "`001` grows TOO SLOWLY => if we add more trees, then it may at some moment reach good AUC, but it's computationally expensive"
   ]
  },
  {
   "cell_type": "markdown",
   "id": "2d0d1e0a",
   "metadata": {},
   "source": [
    "<h4>Next param. is `max_depth`. Default is 6, so we'll\n",
    "try lower & upper values to figure out the direction</h4>"
   ]
  },
  {
   "cell_type": "code",
   "execution_count": 438,
   "id": "73d97dcb",
   "metadata": {},
   "outputs": [],
   "source": [
    "%%capture output\n",
    "\n",
    "xgb_params = {\n",
    "    'eta': 0.1,\n",
    "    'max_depth': 3,\n",
    "    'min_child_weight': 1,\n",
    " \n",
    "    'objective': 'binary:logistic',\n",
    "    'eval_metric': 'auc',\n",
    "    'nthread': 8,\n",
    "    'seed': 1\n",
    "}\n",
    "\n",
    "model = xgb.train(xgb_params, dtrain,\n",
    "                    num_boost_round=500,\n",
    "                    verbose_eval=10, evals=watchlist)"
   ]
  },
  {
   "cell_type": "code",
   "execution_count": 439,
   "id": "df4e58ea",
   "metadata": {},
   "outputs": [
    {
     "name": "stdout",
     "output_type": "stream",
     "text": [
      "0.83657\n",
      "(0.83657, 180)\n"
     ]
    }
   ],
   "source": [
    "tree, _, aucs_val_depth_3 = parse_xgb_output(output)\n",
    "print(max(aucs_val_depth_3))\n",
    "print(max(zip(aucs_val_depth_3, tree)))"
   ]
  },
  {
   "cell_type": "code",
   "execution_count": 440,
   "id": "65ca5ed7",
   "metadata": {},
   "outputs": [],
   "source": [
    "%%capture output\n",
    "\n",
    "xgb_params = {\n",
    "    'eta': 0.1,\n",
    "    'max_depth': 10,\n",
    "    'min_child_weight': 1,\n",
    " \n",
    "    'objective': 'binary:logistic',\n",
    "    'eval_metric': 'auc',\n",
    "    'nthread': 8,\n",
    "    'seed': 1 \n",
    "}\n",
    "\n",
    "model = xgb.train(xgb_params, dtrain,\n",
    "                    num_boost_round=500,\n",
    "                    verbose_eval=10, evals=watchlist)"
   ]
  },
  {
   "cell_type": "code",
   "execution_count": 441,
   "id": "49069c83",
   "metadata": {},
   "outputs": [
    {
     "name": "stdout",
     "output_type": "stream",
     "text": [
      "0.81169\n",
      "(0.81169, 100)\n"
     ]
    }
   ],
   "source": [
    "tree, _, aucs_val_depth_10 = parse_xgb_output(output)\n",
    "print(max(aucs_val_depth_10))\n",
    "print(max(zip(aucs_val_depth_10, tree)))"
   ]
  },
  {
   "cell_type": "code",
   "execution_count": 442,
   "id": "1e756bb2",
   "metadata": {},
   "outputs": [],
   "source": [
    "%%capture output\n",
    "\n",
    "xgb_params = {\n",
    "    'eta': 0.1,\n",
    "    'max_depth': 4,\n",
    "    'min_child_weight': 1,\n",
    " \n",
    "    'objective': 'binary:logistic',\n",
    "    'eval_metric': 'auc',\n",
    "    'nthread': 8,\n",
    "    'seed': 1 \n",
    "}\n",
    "\n",
    "model = xgb.train(xgb_params, dtrain,\n",
    "                    num_boost_round=500,\n",
    "                    verbose_eval=10, evals=watchlist)"
   ]
  },
  {
   "cell_type": "code",
   "execution_count": 443,
   "id": "d1b86dfd",
   "metadata": {},
   "outputs": [
    {
     "name": "stdout",
     "output_type": "stream",
     "text": [
      "0.83014\n",
      "(0.83014, 80)\n"
     ]
    }
   ],
   "source": [
    "tree, _, aucs_val_depth_4 = parse_xgb_output(output)\n",
    "print(max(aucs_val_depth_4))\n",
    "print(max(zip(aucs_val_depth_4, tree)))"
   ]
  },
  {
   "cell_type": "code",
   "execution_count": 444,
   "id": "22ac2493",
   "metadata": {},
   "outputs": [
    {
     "data": {
      "image/png": "[encoded data removed]",
      "text/plain": [
       "<Figure size 432x432 with 1 Axes>"
      ]
     },
     "metadata": {
      "needs_background": "light"
     },
     "output_type": "display_data"
    }
   ],
   "source": [
    "plt.figure(figsize=(6, 6))\n",
    "plt.plot(tree, aucs_val_depth_3, label='max_depth=3')\n",
    "plt.plot(tree, aucs_val_depth_10, label='max_depth=10')\n",
    "plt.plot(tree, aucs_valid_01, label='max_depth=6')\n",
    "plt.plot(tree, aucs_val_depth_4, label='max_depth=4')\n",
    "\n",
    "plt.xlabel('№ of trees')\n",
    "plt.ylabel('AUC (validation)')\n",
    "plt.title('Max_depth impact on the model')\n",
    "plt.xticks(range(0, 501, 100))\n",
    "\n",
    "plt.legend()\n",
    "plt.show()"
   ]
  },
  {
   "cell_type": "raw",
   "id": "f29d662a",
   "metadata": {},
   "source": [
    "3 is the optimal parameter for `max_depth`.\n",
    "0.1 is the optimal for `eta`.\n",
    "Next is `min_child_weight`. It's equal to `min_leaf_size`.\n",
    "\n",
    "PS: default for `max_depth` = 6; default for `min_child_weight` = 1"
   ]
  },
  {
   "cell_type": "code",
   "execution_count": 445,
   "id": "598b99fb",
   "metadata": {},
   "outputs": [],
   "source": [
    "%%capture output\n",
    "\n",
    "xgb_params = {\n",
    "    'eta': 0.1,\n",
    "    'max_depth': 3,\n",
    "    'min_child_weight': 10,\n",
    " \n",
    "    'objective': 'binary:logistic',\n",
    "    'eval_metric': 'auc',\n",
    "    'nthread': 8,\n",
    "    'seed': 1\n",
    "}\n",
    "\n",
    "model = xgb.train(xgb_params, dtrain, verbose_eval=10,\n",
    "                  num_boost_round=500,\n",
    "                  evals=watchlist)"
   ]
  },
  {
   "cell_type": "code",
   "execution_count": 446,
   "id": "2c59d341",
   "metadata": {},
   "outputs": [
    {
     "name": "stdout",
     "output_type": "stream",
     "text": [
      "0.83336\n",
      "(0.83336, 150)\n"
     ]
    }
   ],
   "source": [
    "tree, _, aucs_val_minLeaf_10 = parse_xgb_output(output)\n",
    "print(max(aucs_val_minLeaf_10))\n",
    "print(max(zip(aucs_val_minLeaf_10, tree)))"
   ]
  },
  {
   "cell_type": "code",
   "execution_count": 447,
   "id": "c19f0a73",
   "metadata": {},
   "outputs": [],
   "source": [
    "%%capture output\n",
    "\n",
    "xgb_params = {\n",
    "    'eta': 0.1,\n",
    "    'max_depth': 3,\n",
    "    'min_child_weight': 30,\n",
    " \n",
    "    'objective': 'binary:logistic',\n",
    "    'eval_metric': 'auc',\n",
    "    'nthread': 8,\n",
    "    'seed': 1\n",
    "}\n",
    "\n",
    "model = xgb.train(xgb_params, dtrain, verbose_eval=10,\n",
    "                  num_boost_round=500,\n",
    "                  evals=watchlist)"
   ]
  },
  {
   "cell_type": "code",
   "execution_count": 448,
   "id": "7a33fbc7",
   "metadata": {},
   "outputs": [
    {
     "name": "stdout",
     "output_type": "stream",
     "text": [
      "0.83543\n",
      "(0.83543, 160)\n"
     ]
    }
   ],
   "source": [
    "tree, _, aucs_val_minLeaf_30 = parse_xgb_output(output)\n",
    "print(max(aucs_val_minLeaf_30))\n",
    "print(max(zip(aucs_val_minLeaf_30, tree)))"
   ]
  },
  {
   "cell_type": "code",
   "execution_count": 449,
   "id": "5eb91104",
   "metadata": {},
   "outputs": [
    {
     "data": {
      "image/png": "[encoded data removed]",
      "text/plain": [
       "<Figure size 432x432 with 1 Axes>"
      ]
     },
     "metadata": {
      "needs_background": "light"
     },
     "output_type": "display_data"
    }
   ],
   "source": [
    "plt.figure(figsize=(6, 6))\n",
    "plt.plot(tree, aucs_val_minLeaf_10, label='min_child_weight=10')\n",
    "plt.plot(tree, aucs_val_minLeaf_30, label='min_child_weight=30')\n",
    "plt.plot(tree, aucs_val_depth_3, label='min_child_weight=1')\n",
    "\n",
    "plt.ylim(0.82, 0.84)\n",
    "plt.xlim(0, 510)\n",
    "\n",
    "plt.title('Min_weight_leaf impact on the model')\n",
    "plt.xlabel('№ of trees')\n",
    "plt.ylabel('AUC (validation)')\n",
    "\n",
    "plt.xticks(range(0, 501, 100))\n",
    "plt.yticks(np.linspace(0.82, 0.84, 5))\n",
    "\n",
    "plt.legend()\n",
    "plt.show()"
   ]
  },
  {
   "cell_type": "raw",
   "id": "a97da4bd",
   "metadata": {},
   "source": [
    "As the difference is meagre, we'll proceed with default params"
   ]
  },
  {
   "cell_type": "markdown",
   "id": "c72a1e26",
   "metadata": {},
   "source": [
    "<h4>But how do we select the best number of trees?</h4>\n",
    "\n",
    "**Look at the best model and there you'll see the number of trees at which that model gives top params. In our case - 180**"
   ]
  },
  {
   "cell_type": "code",
   "execution_count": 450,
   "id": "cb696375",
   "metadata": {},
   "outputs": [],
   "source": [
    "%%capture output\n",
    "\n",
    "xgb_params = {\n",
    "    'eta': 0.1,\n",
    "    'max_depth': 3,\n",
    "    'min_child_weight': 1,\n",
    "    'objective': 'binary:logistic',\n",
    "    'eval_metric': 'auc',\n",
    "    'nthread': 8,\n",
    "    'seed': 1\n",
    "}\n",
    "\n",
    "model = xgb.train(xgb_params, dtrain, \n",
    "                  evals=watchlist, num_boost_round=500,\n",
    "                  verbose_eval=10)"
   ]
  },
  {
   "cell_type": "code",
   "execution_count": 451,
   "id": "d02a7489",
   "metadata": {},
   "outputs": [
    {
     "name": "stdout",
     "output_type": "stream",
     "text": [
      "0.83657\n",
      "(0.83657, 180)\n"
     ]
    }
   ],
   "source": [
    "tree, _, aucs_final = parse_xgb_output(output)\n",
    "print(max(aucs_final))\n",
    "print(max(zip(aucs_final, tree)))"
   ]
  },
  {
   "cell_type": "code",
   "execution_count": 452,
   "id": "84acef9e",
   "metadata": {
    "scrolled": true
   },
   "outputs": [
    {
     "data": {
      "image/png": "[encoded data removed]",
      "text/plain": [
       "<Figure size 432x432 with 1 Axes>"
      ]
     },
     "metadata": {
      "needs_background": "light"
     },
     "output_type": "display_data"
    }
   ],
   "source": [
    "plt.figure(figsize=(6, 6))\n",
    "\n",
    "plt.plot(tree, aucs_final, color='red')\n",
    "\n",
    "plt.ylim(0.80, 0.84)\n",
    "plt.xlim(0, 510)\n",
    "\n",
    "plt.title('Observing № of trees & model behaviour')\n",
    "plt.xlabel('№ of trees')\n",
    "plt.ylabel('AUC (validation)')\n",
    "\n",
    "plt.vlines(180, 0, 1, color='black', linewidth=0.8,\n",
    "           linestyle='dashed')\n",
    "\n",
    "plt.xticks(range(0, 501, 100))\n",
    "plt.yticks(np.linspace(0.80, 0.84, 9))\n",
    "\n",
    "plt.show()"
   ]
  },
  {
   "cell_type": "markdown",
   "id": "0a1599c3",
   "metadata": {},
   "source": [
    "# Final model"
   ]
  },
  {
   "cell_type": "code",
   "execution_count": 453,
   "id": "d6053205",
   "metadata": {},
   "outputs": [
    {
     "name": "stdout",
     "output_type": "stream",
     "text": [
      "[0]\ttrain-auc:0.77424\tvalid-auc:0.73571\n",
      "[10]\ttrain-auc:0.84733\tvalid-auc:0.78964\n",
      "[20]\ttrain-auc:0.86359\tvalid-auc:0.80617\n",
      "[30]\ttrain-auc:0.87855\tvalid-auc:0.81478\n",
      "[40]\ttrain-auc:0.88701\tvalid-auc:0.81990\n",
      "[50]\ttrain-auc:0.89458\tvalid-auc:0.82595\n",
      "[60]\ttrain-auc:0.90159\tvalid-auc:0.82807\n",
      "[70]\ttrain-auc:0.90650\tvalid-auc:0.82801\n",
      "[80]\ttrain-auc:0.91110\tvalid-auc:0.82940\n",
      "[90]\ttrain-auc:0.91428\tvalid-auc:0.82997\n",
      "[100]\ttrain-auc:0.91801\tvalid-auc:0.83221\n",
      "[110]\ttrain-auc:0.92205\tvalid-auc:0.83290\n",
      "[120]\ttrain-auc:0.92460\tvalid-auc:0.83285\n",
      "[130]\ttrain-auc:0.92843\tvalid-auc:0.83414\n",
      "[140]\ttrain-auc:0.93100\tvalid-auc:0.83463\n",
      "[150]\ttrain-auc:0.93296\tvalid-auc:0.83525\n",
      "[160]\ttrain-auc:0.93551\tvalid-auc:0.83554\n",
      "[170]\ttrain-auc:0.93788\tvalid-auc:0.83638\n",
      "[179]\ttrain-auc:0.93962\tvalid-auc:0.83648\n"
     ]
    }
   ],
   "source": [
    "xgb_params = {\n",
    "    'eta': 0.1,\n",
    "    'max_depth': 3,\n",
    "    'min_child_weight': 1,\n",
    "    'objective': 'binary:logistic',\n",
    "    'eval_metric': 'auc',\n",
    "    'nthread': 8,\n",
    "    'seed': 1\n",
    "}\n",
    "\n",
    "model = xgb.train(xgb_params, dtrain, \n",
    "                  evals=watchlist, num_boost_round=180,\n",
    "                  verbose_eval=10)"
   ]
  },
  {
   "cell_type": "code",
   "execution_count": 454,
   "id": "01cf3cb3",
   "metadata": {},
   "outputs": [],
   "source": [
    "y_pred_xgb = model.predict(dvalid)"
   ]
  },
  {
   "cell_type": "code",
   "execution_count": 455,
   "id": "80e1287d",
   "metadata": {},
   "outputs": [
    {
     "name": "stdout",
     "output_type": "stream",
     "text": [
      "0.7853194400716863\n",
      "0.8253826499721489\n",
      "0.8364807100821002\n"
     ]
    }
   ],
   "source": [
    "print(roc_auc_score(y_valid, y_pred_dt))\n",
    "print(roc_auc_score(y_valid, y_pred_rf))\n",
    "print(roc_auc_score(y_valid, y_pred_xgb))\n",
    "# gradient boosting model is the best one\n",
    "# among all three"
   ]
  },
  {
   "cell_type": "code",
   "execution_count": 456,
   "id": "685d50e7",
   "metadata": {},
   "outputs": [
    {
     "data": {
      "image/png": "[encoded data removed]",
      "text/plain": [
       "<Figure size 360x360 with 1 Axes>"
      ]
     },
     "metadata": {
      "needs_background": "light"
     },
     "output_type": "display_data"
    }
   ],
   "source": [
    "plt.figure(figsize=(5, 5))\n",
    "\n",
    "fpr, tpr, thresholds = roc_curve(y_valid, y_pred_xgb)\n",
    "plt.plot(fpr, tpr, color='red')\n",
    "\n",
    "fpr, tpr, thresholds = roc_curve(y_valid, y_pred_rf)\n",
    "plt.plot(fpr, tpr, color='green')\n",
    "\n",
    "fpr, tpr, thresholds = roc_curve(y_valid, y_pred_dt)\n",
    "plt.plot(fpr, tpr, color='blue')\n",
    "\n",
    "plt.plot([0, 1], [0, 1], color='black', alpha=0.8, linestyle='dashed')\n",
    "\n",
    "plt.xlim([-0.08, 1.08])\n",
    "plt.ylim([-0.08, 1.08])\n",
    "\n",
    "plt.xlabel('False Positive Rate')\n",
    "plt.ylabel('True Positive Rate')\n",
    "\n",
    "plt.title('ROC Curve')\n",
    "plt.show()"
   ]
  },
  {
   "cell_type": "markdown",
   "id": "11d30340",
   "metadata": {},
   "source": [
    "# Using model"
   ]
  },
  {
   "cell_type": "code",
   "execution_count": 457,
   "id": "48d33a28",
   "metadata": {},
   "outputs": [],
   "source": [
    "y_train = (full_train.status == 'default').values\n",
    "y_test = (df_test.status == 'default').values\n",
    "\n",
    "del full_train['status']\n",
    "del df_test['status']"
   ]
  },
  {
   "cell_type": "code",
   "execution_count": 458,
   "id": "c34636a6",
   "metadata": {},
   "outputs": [
    {
     "data": {
      "text/plain": [
       "seniority     0\n",
       "home          0\n",
       "time          0\n",
       "age           0\n",
       "marital       0\n",
       "records       0\n",
       "job           0\n",
       "expenses      0\n",
       "income       30\n",
       "assets       38\n",
       "debt         14\n",
       "amount        0\n",
       "price         0\n",
       "dtype: int64"
      ]
     },
     "execution_count": 458,
     "metadata": {},
     "output_type": "execute_result"
    }
   ],
   "source": [
    "full_train.isnull().sum()"
   ]
  },
  {
   "cell_type": "code",
   "execution_count": 459,
   "id": "7a9f779a",
   "metadata": {},
   "outputs": [
    {
     "data": {
      "text/plain": [
       "seniority    0\n",
       "home         0\n",
       "time         0\n",
       "age          0\n",
       "marital      0\n",
       "records      0\n",
       "job          0\n",
       "expenses     0\n",
       "income       4\n",
       "assets       9\n",
       "debt         4\n",
       "amount       0\n",
       "price        0\n",
       "dtype: int64"
      ]
     },
     "execution_count": 459,
     "metadata": {},
     "output_type": "execute_result"
    }
   ],
   "source": [
    "df_test.isnull().sum()"
   ]
  },
  {
   "cell_type": "code",
   "execution_count": 460,
   "id": "74d7b610",
   "metadata": {},
   "outputs": [],
   "source": [
    "df_test = df_test.fillna(0)\n",
    "full_train = full_train.fillna(0)"
   ]
  },
  {
   "cell_type": "code",
   "execution_count": 461,
   "id": "bdff6780",
   "metadata": {},
   "outputs": [],
   "source": [
    "dict_full_train = full_train.to_dict(orient='records')\n",
    "dict_test = df_test.to_dict(orient='records')\n",
    "\n",
    "dv = DictVectorizer(sparse=False)\n",
    "X_full_train = dv.fit_transform(dict_full_train)\n",
    "X_test = dv.transform(dict_test)"
   ]
  },
  {
   "cell_type": "code",
   "execution_count": 462,
   "id": "449940f3",
   "metadata": {},
   "outputs": [],
   "source": [
    "# random forest\n",
    "rf = RandomForestClassifier(n_estimators=200, max_depth=10,\n",
    "                            min_samples_leaf=5, random_state=1)\n",
    "\n",
    "rf.fit(X_full_train, y_train)\n",
    "y_rf_final = rf.predict_proba(X_test)[:, 1]"
   ]
  },
  {
   "cell_type": "code",
   "execution_count": 463,
   "id": "961a6967",
   "metadata": {
    "scrolled": true
   },
   "outputs": [],
   "source": [
    "# XGB Boost\n",
    "d_fulltrain = xgb.DMatrix(X_full_train, label=y_train,\n",
    "                          feature_names=dv.feature_names_)\n",
    "d_test = xgb.DMatrix(X_test, label=y_test,\n",
    "                     feature_names=dv.feature_names_)\n",
    "\n",
    "xgb_params = {\n",
    "    'eta': 0.1,\n",
    "    'max_depth': 3,\n",
    "    'min_child_weight': 1,\n",
    "    \n",
    "    'objective': 'binary:logistic',\n",
    "    'eval_metric': 'auc',\n",
    "    'nthread': 8,\n",
    "    'seed': 1,\n",
    "}\n",
    "\n",
    "trees = 180\n",
    "\n",
    "model_final = xgb.train(xgb_params, d_fulltrain, num_boost_round=trees)"
   ]
  },
  {
   "cell_type": "code",
   "execution_count": 464,
   "id": "129d0266",
   "metadata": {},
   "outputs": [],
   "source": [
    "y_xgb_final = model_final.predict(d_test)"
   ]
  },
  {
   "cell_type": "code",
   "execution_count": 465,
   "id": "c92adda6",
   "metadata": {},
   "outputs": [
    {
     "name": "stdout",
     "output_type": "stream",
     "text": [
      "83.11%\n",
      "83.27%\n"
     ]
    }
   ],
   "source": [
    "print(f\"{round(roc_auc_score(y_test, y_rf_final), 4) * 100}%\") \n",
    "print(f\"{round(roc_auc_score(y_test, y_xgb_final), 4) * 100}%\") "
   ]
  },
  {
   "cell_type": "raw",
   "id": "15591037",
   "metadata": {},
   "source": [
    "Next, to understand whether our model overfits, we need to look at validation dataset results.\n",
    "For Random Forest:\n",
    "    validation: 0.8253826499721489 or 82.54%\n",
    "\n",
    "For XGB Boost:\n",
    "    validation: 0.8364807100821002 or 83.65%\n",
    "   \n",
    "=> both models don't overfit"
   ]
  },
  {
   "cell_type": "markdown",
   "id": "f8990fe8",
   "metadata": {},
   "source": [
    "# About Feature importance"
   ]
  },
  {
   "cell_type": "markdown",
   "id": "44016889",
   "metadata": {},
   "source": [
    "<h3>Decision Trees</h3>"
   ]
  },
  {
   "cell_type": "code",
   "execution_count": 314,
   "id": "27bcfec0",
   "metadata": {},
   "outputs": [
    {
     "data": {
      "text/plain": [
       "array([0.01387723, 0.04970444, 0.1226385 , 0.00833288, 0.0250906 ,\n",
       "       0.        , 0.        , 0.        , 0.        , 0.        ,\n",
       "       0.        , 0.        , 0.18548089, 0.00699145, 0.        ,\n",
       "       0.        , 0.17292753, 0.        , 0.        , 0.        ,\n",
       "       0.        , 0.        , 0.        , 0.        , 0.0302163 ,\n",
       "       0.24421676, 0.        , 0.12658146, 0.01394197])"
      ]
     },
     "execution_count": 314,
     "metadata": {},
     "output_type": "execute_result"
    }
   ],
   "source": [
    "# Decision Trees\n",
    "dt.feature_importances_"
   ]
  },
  {
   "cell_type": "code",
   "execution_count": 315,
   "id": "f06794da",
   "metadata": {
    "scrolled": true
   },
   "outputs": [
    {
     "data": {
      "text/plain": [
       "[('age', 0.013877231876069155),\n",
       " ('amount', 0.04970443671934234),\n",
       " ('assets', 0.1226385042392285),\n",
       " ('debt', 0.008332876385504904),\n",
       " ('expenses', 0.02509060257588133),\n",
       " ('home=ignore', 0.0),\n",
       " ('home=other', 0.0),\n",
       " ('home=owner', 0.0),\n",
       " ('home=parents', 0.0),\n",
       " ('home=private', 0.0),\n",
       " ('home=rent', 0.0),\n",
       " ('home=unk', 0.0),\n",
       " ('income', 0.185480885992072),\n",
       " ('job=fixed', 0.006991445659436668),\n",
       " ('job=freelance', 0.0),\n",
       " ('job=others', 0.0),\n",
       " ('job=partime', 0.17292752964348088),\n",
       " ('job=unk', 0.0),\n",
       " ('marital=divorced', 0.0),\n",
       " ('marital=married', 0.0),\n",
       " ('marital=separated', 0.0),\n",
       " ('marital=single', 0.0),\n",
       " ('marital=unk', 0.0),\n",
       " ('marital=widow', 0.0),\n",
       " ('price', 0.030216298419676546),\n",
       " ('records=no', 0.2442167576209344),\n",
       " ('records=yes', 0.0),\n",
       " ('seniority', 0.12658145602795504),\n",
       " ('time', 0.013941974840418335)]"
      ]
     },
     "execution_count": 315,
     "metadata": {},
     "output_type": "execute_result"
    }
   ],
   "source": [
    "list(zip(dv.feature_names_, dt.feature_importances_))"
   ]
  },
  {
   "cell_type": "code",
   "execution_count": 319,
   "id": "712ccbc1",
   "metadata": {
    "scrolled": true
   },
   "outputs": [
    {
     "data": {
      "text/html": [
       "<div>\n",
       "<style scoped>\n",
       "    .dataframe tbody tr th:only-of-type {\n",
       "        vertical-align: middle;\n",
       "    }\n",
       "\n",
       "    .dataframe tbody tr th {\n",
       "        vertical-align: top;\n",
       "    }\n",
       "\n",
       "    .dataframe thead th {\n",
       "        text-align: right;\n",
       "    }\n",
       "</style>\n",
       "<table border=\"1\" class=\"dataframe\">\n",
       "  <thead>\n",
       "    <tr style=\"text-align: right;\">\n",
       "      <th></th>\n",
       "      <th>feature</th>\n",
       "      <th>importance</th>\n",
       "    </tr>\n",
       "  </thead>\n",
       "  <tbody>\n",
       "    <tr>\n",
       "      <th>25</th>\n",
       "      <td>records=no</td>\n",
       "      <td>0.244217</td>\n",
       "    </tr>\n",
       "    <tr>\n",
       "      <th>12</th>\n",
       "      <td>income</td>\n",
       "      <td>0.185481</td>\n",
       "    </tr>\n",
       "    <tr>\n",
       "      <th>16</th>\n",
       "      <td>job=partime</td>\n",
       "      <td>0.172928</td>\n",
       "    </tr>\n",
       "    <tr>\n",
       "      <th>27</th>\n",
       "      <td>seniority</td>\n",
       "      <td>0.126581</td>\n",
       "    </tr>\n",
       "    <tr>\n",
       "      <th>2</th>\n",
       "      <td>assets</td>\n",
       "      <td>0.122639</td>\n",
       "    </tr>\n",
       "    <tr>\n",
       "      <th>1</th>\n",
       "      <td>amount</td>\n",
       "      <td>0.049704</td>\n",
       "    </tr>\n",
       "    <tr>\n",
       "      <th>24</th>\n",
       "      <td>price</td>\n",
       "      <td>0.030216</td>\n",
       "    </tr>\n",
       "    <tr>\n",
       "      <th>4</th>\n",
       "      <td>expenses</td>\n",
       "      <td>0.025091</td>\n",
       "    </tr>\n",
       "    <tr>\n",
       "      <th>28</th>\n",
       "      <td>time</td>\n",
       "      <td>0.013942</td>\n",
       "    </tr>\n",
       "    <tr>\n",
       "      <th>0</th>\n",
       "      <td>age</td>\n",
       "      <td>0.013877</td>\n",
       "    </tr>\n",
       "    <tr>\n",
       "      <th>3</th>\n",
       "      <td>debt</td>\n",
       "      <td>0.008333</td>\n",
       "    </tr>\n",
       "    <tr>\n",
       "      <th>13</th>\n",
       "      <td>job=fixed</td>\n",
       "      <td>0.006991</td>\n",
       "    </tr>\n",
       "    <tr>\n",
       "      <th>10</th>\n",
       "      <td>home=rent</td>\n",
       "      <td>0.000000</td>\n",
       "    </tr>\n",
       "    <tr>\n",
       "      <th>20</th>\n",
       "      <td>marital=separated</td>\n",
       "      <td>0.000000</td>\n",
       "    </tr>\n",
       "    <tr>\n",
       "      <th>26</th>\n",
       "      <td>records=yes</td>\n",
       "      <td>0.000000</td>\n",
       "    </tr>\n",
       "    <tr>\n",
       "      <th>5</th>\n",
       "      <td>home=ignore</td>\n",
       "      <td>0.000000</td>\n",
       "    </tr>\n",
       "    <tr>\n",
       "      <th>6</th>\n",
       "      <td>home=other</td>\n",
       "      <td>0.000000</td>\n",
       "    </tr>\n",
       "    <tr>\n",
       "      <th>23</th>\n",
       "      <td>marital=widow</td>\n",
       "      <td>0.000000</td>\n",
       "    </tr>\n",
       "    <tr>\n",
       "      <th>22</th>\n",
       "      <td>marital=unk</td>\n",
       "      <td>0.000000</td>\n",
       "    </tr>\n",
       "    <tr>\n",
       "      <th>21</th>\n",
       "      <td>marital=single</td>\n",
       "      <td>0.000000</td>\n",
       "    </tr>\n",
       "    <tr>\n",
       "      <th>19</th>\n",
       "      <td>marital=married</td>\n",
       "      <td>0.000000</td>\n",
       "    </tr>\n",
       "    <tr>\n",
       "      <th>11</th>\n",
       "      <td>home=unk</td>\n",
       "      <td>0.000000</td>\n",
       "    </tr>\n",
       "    <tr>\n",
       "      <th>18</th>\n",
       "      <td>marital=divorced</td>\n",
       "      <td>0.000000</td>\n",
       "    </tr>\n",
       "    <tr>\n",
       "      <th>17</th>\n",
       "      <td>job=unk</td>\n",
       "      <td>0.000000</td>\n",
       "    </tr>\n",
       "    <tr>\n",
       "      <th>7</th>\n",
       "      <td>home=owner</td>\n",
       "      <td>0.000000</td>\n",
       "    </tr>\n",
       "    <tr>\n",
       "      <th>15</th>\n",
       "      <td>job=others</td>\n",
       "      <td>0.000000</td>\n",
       "    </tr>\n",
       "    <tr>\n",
       "      <th>8</th>\n",
       "      <td>home=parents</td>\n",
       "      <td>0.000000</td>\n",
       "    </tr>\n",
       "    <tr>\n",
       "      <th>9</th>\n",
       "      <td>home=private</td>\n",
       "      <td>0.000000</td>\n",
       "    </tr>\n",
       "    <tr>\n",
       "      <th>14</th>\n",
       "      <td>job=freelance</td>\n",
       "      <td>0.000000</td>\n",
       "    </tr>\n",
       "  </tbody>\n",
       "</table>\n",
       "</div>"
      ],
      "text/plain": [
       "              feature  importance\n",
       "25         records=no    0.244217\n",
       "12             income    0.185481\n",
       "16        job=partime    0.172928\n",
       "27          seniority    0.126581\n",
       "2              assets    0.122639\n",
       "1              amount    0.049704\n",
       "24              price    0.030216\n",
       "4            expenses    0.025091\n",
       "28               time    0.013942\n",
       "0                 age    0.013877\n",
       "3                debt    0.008333\n",
       "13          job=fixed    0.006991\n",
       "10          home=rent    0.000000\n",
       "20  marital=separated    0.000000\n",
       "26        records=yes    0.000000\n",
       "5         home=ignore    0.000000\n",
       "6          home=other    0.000000\n",
       "23      marital=widow    0.000000\n",
       "22        marital=unk    0.000000\n",
       "21     marital=single    0.000000\n",
       "19    marital=married    0.000000\n",
       "11           home=unk    0.000000\n",
       "18   marital=divorced    0.000000\n",
       "17            job=unk    0.000000\n",
       "7          home=owner    0.000000\n",
       "15         job=others    0.000000\n",
       "8        home=parents    0.000000\n",
       "9        home=private    0.000000\n",
       "14      job=freelance    0.000000"
      ]
     },
     "execution_count": 319,
     "metadata": {},
     "output_type": "execute_result"
    }
   ],
   "source": [
    "df_imp = pd.DataFrame(list(zip(dv.feature_names_,\n",
    "                            dt.feature_importances_)),\n",
    "                   columns=['feature', 'importance'])\n",
    "df_imp = df_imp.sort_values(by='importance', ascending=False)\n",
    "df_imp"
   ]
  },
  {
   "cell_type": "code",
   "execution_count": 320,
   "id": "cdcd141b",
   "metadata": {},
   "outputs": [],
   "source": [
    "# let's trim the ones with 0\n",
    "df_imp = df_imp[df_imp.importance > 0]"
   ]
  },
  {
   "cell_type": "code",
   "execution_count": 323,
   "id": "1c3541e7",
   "metadata": {},
   "outputs": [
    {
     "data": {
      "image/png": "[encoded data removed]",
      "text/plain": [
       "<Figure size 432x288 with 1 Axes>"
      ]
     },
     "metadata": {
      "needs_background": "light"
     },
     "output_type": "display_data"
    }
   ],
   "source": [
    "num = len(df_imp)\n",
    "\n",
    "plt.barh(range(num), df_imp.importance[::-1])\n",
    "plt.yticks(range(num), df_imp.feature[::-1])\n",
    "\n",
    "plt.show()"
   ]
  },
  {
   "cell_type": "markdown",
   "id": "ad2c2be7",
   "metadata": {},
   "source": [
    "# Random Forest"
   ]
  },
  {
   "cell_type": "code",
   "execution_count": 324,
   "id": "7762ac30",
   "metadata": {},
   "outputs": [
    {
     "data": {
      "text/plain": [
       "array([4.06791244e-02, 7.83730317e-02, 8.34285747e-02, 8.46789628e-03,\n",
       "       2.77231622e-02, 0.00000000e+00, 4.35332029e-03, 2.72283027e-02,\n",
       "       7.43385067e-03, 1.72100569e-03, 1.27067800e-02, 0.00000000e+00,\n",
       "       1.53974865e-01, 5.44227630e-02, 8.55356969e-03, 2.20799115e-03,\n",
       "       7.11524725e-02, 0.00000000e+00, 0.00000000e+00, 5.48155167e-03,\n",
       "       5.82599168e-04, 4.68070697e-03, 0.00000000e+00, 4.39436900e-07,\n",
       "       5.32275128e-02, 1.11491232e-01, 8.84744931e-02, 1.28101753e-01,\n",
       "       2.55330019e-02])"
      ]
     },
     "execution_count": 324,
     "metadata": {},
     "output_type": "execute_result"
    }
   ],
   "source": [
    "rf.feature_importances_"
   ]
  },
  {
   "cell_type": "code",
   "execution_count": 327,
   "id": "3221c098",
   "metadata": {
    "scrolled": true
   },
   "outputs": [
    {
     "data": {
      "text/html": [
       "<div>\n",
       "<style scoped>\n",
       "    .dataframe tbody tr th:only-of-type {\n",
       "        vertical-align: middle;\n",
       "    }\n",
       "\n",
       "    .dataframe tbody tr th {\n",
       "        vertical-align: top;\n",
       "    }\n",
       "\n",
       "    .dataframe thead th {\n",
       "        text-align: right;\n",
       "    }\n",
       "</style>\n",
       "<table border=\"1\" class=\"dataframe\">\n",
       "  <thead>\n",
       "    <tr style=\"text-align: right;\">\n",
       "      <th></th>\n",
       "      <th>feature</th>\n",
       "      <th>importance</th>\n",
       "    </tr>\n",
       "  </thead>\n",
       "  <tbody>\n",
       "    <tr>\n",
       "      <th>12</th>\n",
       "      <td>income</td>\n",
       "      <td>1.539749e-01</td>\n",
       "    </tr>\n",
       "    <tr>\n",
       "      <th>27</th>\n",
       "      <td>seniority</td>\n",
       "      <td>1.281018e-01</td>\n",
       "    </tr>\n",
       "    <tr>\n",
       "      <th>25</th>\n",
       "      <td>records=no</td>\n",
       "      <td>1.114912e-01</td>\n",
       "    </tr>\n",
       "    <tr>\n",
       "      <th>26</th>\n",
       "      <td>records=yes</td>\n",
       "      <td>8.847449e-02</td>\n",
       "    </tr>\n",
       "    <tr>\n",
       "      <th>2</th>\n",
       "      <td>assets</td>\n",
       "      <td>8.342857e-02</td>\n",
       "    </tr>\n",
       "    <tr>\n",
       "      <th>1</th>\n",
       "      <td>amount</td>\n",
       "      <td>7.837303e-02</td>\n",
       "    </tr>\n",
       "    <tr>\n",
       "      <th>16</th>\n",
       "      <td>job=partime</td>\n",
       "      <td>7.115247e-02</td>\n",
       "    </tr>\n",
       "    <tr>\n",
       "      <th>13</th>\n",
       "      <td>job=fixed</td>\n",
       "      <td>5.442276e-02</td>\n",
       "    </tr>\n",
       "    <tr>\n",
       "      <th>24</th>\n",
       "      <td>price</td>\n",
       "      <td>5.322751e-02</td>\n",
       "    </tr>\n",
       "    <tr>\n",
       "      <th>0</th>\n",
       "      <td>age</td>\n",
       "      <td>4.067912e-02</td>\n",
       "    </tr>\n",
       "    <tr>\n",
       "      <th>4</th>\n",
       "      <td>expenses</td>\n",
       "      <td>2.772316e-02</td>\n",
       "    </tr>\n",
       "    <tr>\n",
       "      <th>7</th>\n",
       "      <td>home=owner</td>\n",
       "      <td>2.722830e-02</td>\n",
       "    </tr>\n",
       "    <tr>\n",
       "      <th>28</th>\n",
       "      <td>time</td>\n",
       "      <td>2.553300e-02</td>\n",
       "    </tr>\n",
       "    <tr>\n",
       "      <th>10</th>\n",
       "      <td>home=rent</td>\n",
       "      <td>1.270678e-02</td>\n",
       "    </tr>\n",
       "    <tr>\n",
       "      <th>14</th>\n",
       "      <td>job=freelance</td>\n",
       "      <td>8.553570e-03</td>\n",
       "    </tr>\n",
       "    <tr>\n",
       "      <th>3</th>\n",
       "      <td>debt</td>\n",
       "      <td>8.467896e-03</td>\n",
       "    </tr>\n",
       "    <tr>\n",
       "      <th>8</th>\n",
       "      <td>home=parents</td>\n",
       "      <td>7.433851e-03</td>\n",
       "    </tr>\n",
       "    <tr>\n",
       "      <th>19</th>\n",
       "      <td>marital=married</td>\n",
       "      <td>5.481552e-03</td>\n",
       "    </tr>\n",
       "    <tr>\n",
       "      <th>21</th>\n",
       "      <td>marital=single</td>\n",
       "      <td>4.680707e-03</td>\n",
       "    </tr>\n",
       "    <tr>\n",
       "      <th>6</th>\n",
       "      <td>home=other</td>\n",
       "      <td>4.353320e-03</td>\n",
       "    </tr>\n",
       "    <tr>\n",
       "      <th>15</th>\n",
       "      <td>job=others</td>\n",
       "      <td>2.207991e-03</td>\n",
       "    </tr>\n",
       "    <tr>\n",
       "      <th>9</th>\n",
       "      <td>home=private</td>\n",
       "      <td>1.721006e-03</td>\n",
       "    </tr>\n",
       "    <tr>\n",
       "      <th>20</th>\n",
       "      <td>marital=separated</td>\n",
       "      <td>5.825992e-04</td>\n",
       "    </tr>\n",
       "    <tr>\n",
       "      <th>23</th>\n",
       "      <td>marital=widow</td>\n",
       "      <td>4.394369e-07</td>\n",
       "    </tr>\n",
       "    <tr>\n",
       "      <th>11</th>\n",
       "      <td>home=unk</td>\n",
       "      <td>0.000000e+00</td>\n",
       "    </tr>\n",
       "    <tr>\n",
       "      <th>17</th>\n",
       "      <td>job=unk</td>\n",
       "      <td>0.000000e+00</td>\n",
       "    </tr>\n",
       "    <tr>\n",
       "      <th>18</th>\n",
       "      <td>marital=divorced</td>\n",
       "      <td>0.000000e+00</td>\n",
       "    </tr>\n",
       "    <tr>\n",
       "      <th>22</th>\n",
       "      <td>marital=unk</td>\n",
       "      <td>0.000000e+00</td>\n",
       "    </tr>\n",
       "    <tr>\n",
       "      <th>5</th>\n",
       "      <td>home=ignore</td>\n",
       "      <td>0.000000e+00</td>\n",
       "    </tr>\n",
       "  </tbody>\n",
       "</table>\n",
       "</div>"
      ],
      "text/plain": [
       "              feature    importance\n",
       "12             income  1.539749e-01\n",
       "27          seniority  1.281018e-01\n",
       "25         records=no  1.114912e-01\n",
       "26        records=yes  8.847449e-02\n",
       "2              assets  8.342857e-02\n",
       "1              amount  7.837303e-02\n",
       "16        job=partime  7.115247e-02\n",
       "13          job=fixed  5.442276e-02\n",
       "24              price  5.322751e-02\n",
       "0                 age  4.067912e-02\n",
       "4            expenses  2.772316e-02\n",
       "7          home=owner  2.722830e-02\n",
       "28               time  2.553300e-02\n",
       "10          home=rent  1.270678e-02\n",
       "14      job=freelance  8.553570e-03\n",
       "3                debt  8.467896e-03\n",
       "8        home=parents  7.433851e-03\n",
       "19    marital=married  5.481552e-03\n",
       "21     marital=single  4.680707e-03\n",
       "6          home=other  4.353320e-03\n",
       "15         job=others  2.207991e-03\n",
       "9        home=private  1.721006e-03\n",
       "20  marital=separated  5.825992e-04\n",
       "23      marital=widow  4.394369e-07\n",
       "11           home=unk  0.000000e+00\n",
       "17            job=unk  0.000000e+00\n",
       "18   marital=divorced  0.000000e+00\n",
       "22        marital=unk  0.000000e+00\n",
       "5         home=ignore  0.000000e+00"
      ]
     },
     "execution_count": 327,
     "metadata": {},
     "output_type": "execute_result"
    }
   ],
   "source": [
    "df_imp_rf = pd.DataFrame(list(zip(dv.feature_names_, \n",
    "                         rf.feature_importances_)),\n",
    "                         columns=['feature', 'importance'])\n",
    "df_imp_rf = df_imp_rf.sort_values(by='importance', ascending=False)\n",
    "df_imp_rf"
   ]
  },
  {
   "cell_type": "code",
   "execution_count": 330,
   "id": "8b90c5fe",
   "metadata": {},
   "outputs": [
    {
     "data": {
      "image/png": "[encoded data removed]",
      "text/plain": [
       "<Figure size 432x288 with 1 Axes>"
      ]
     },
     "metadata": {
      "needs_background": "light"
     },
     "output_type": "display_data"
    }
   ],
   "source": [
    "df_imp_rf = df_imp_rf[df_imp_rf.importance > 0.01]\n",
    "\n",
    "num = len(df_imp_rf)\n",
    "plt.barh(range(num), df_imp_rf.importance[::-1])\n",
    "plt.yticks(range(num), df_imp_rf.feature[::-1])\n",
    "\n",
    "plt.show()"
   ]
  },
  {
   "cell_type": "markdown",
   "id": "9993981f",
   "metadata": {},
   "source": [
    "# XGBoost"
   ]
  },
  {
   "cell_type": "raw",
   "id": "e4c88ecb",
   "metadata": {},
   "source": [
    "https://stackoverflow.com/questions/37627923/how-to-get-feature-importance-in-xgboost"
   ]
  },
  {
   "cell_type": "code",
   "execution_count": 343,
   "id": "f728235a",
   "metadata": {},
   "outputs": [
    {
     "data": {
      "text/plain": [
       "[('records=no', 26.31951763216363),\n",
       " ('job=partime', 23.727298970681826),\n",
       " ('job=fixed', 23.242334534285714),\n",
       " ('seniority', 12.569803596550008),\n",
       " ('income', 10.226509355553322),\n",
       " ('home=owner', 8.77446153888889),\n",
       " ('assets', 7.979409969931147),\n",
       " ('amount', 6.636730347614459),\n",
       " ('time', 5.8198804727999995),\n",
       " ('home=parents', 5.473167305680001),\n",
       " ('home=rent', 5.32601094),\n",
       " ('expenses', 4.598659150814814),\n",
       " ('debt', 4.429378920499999),\n",
       " ('price', 4.298747235866309),\n",
       " ('home=other', 4.106519452750001),\n",
       " ('marital=separated', 3.8035560748750004),\n",
       " ('age', 3.304868339672727),\n",
       " ('home=private', 3.2902822034000003),\n",
       " ('job=freelance', 3.0049305),\n",
       " ('marital=married', 2.73327298625),\n",
       " ('job=others', 2.2390782849999997),\n",
       " ('marital=widow', 1.3263796206),\n",
       " ('home=ignore', 0.694909334)]"
      ]
     },
     "execution_count": 343,
     "metadata": {},
     "output_type": "execute_result"
    }
   ],
   "source": [
    "scores = model_final.get_score(importance_type='gain')\n",
    "# scores = sorted(scores.items(), key=lambda x: x[1])\n",
    "scores = sorted(scores.items(), key=lambda x: x[1])\n",
    "list(reversed(scores))"
   ]
  },
  {
   "cell_type": "code",
   "execution_count": 357,
   "id": "98a2660e",
   "metadata": {},
   "outputs": [
    {
     "data": {
      "text/plain": [
       "[('price', 165),\n",
       " ('amount', 162),\n",
       " ('assets', 142),\n",
       " ('income', 133),\n",
       " ('seniority', 119),\n",
       " ('age', 109),\n",
       " ('expenses', 92),\n",
       " ('debt', 63),\n",
       " ('records=no', 60),\n",
       " ('time', 29),\n",
       " ('home=parents', 22),\n",
       " ('job=partime', 21),\n",
       " ('job=fixed', 19),\n",
       " ('marital=separated', 13),\n",
       " ('home=private', 12),\n",
       " ('marital=married', 11),\n",
       " ('home=rent', 8),\n",
       " ('home=owner', 6),\n",
       " ('home=ignore', 5),\n",
       " ('job=freelance', 4),\n",
       " ('home=other', 3),\n",
       " ('job=others', 1)]"
      ]
     },
     "execution_count": 357,
     "metadata": {},
     "output_type": "execute_result"
    }
   ],
   "source": [
    "scores = model.get_score(importance_type='weight')\n",
    "scores = sorted(scores.items(), key=lambda x: x[1])\n",
    "list(reversed(scores))"
   ]
  },
  {
   "cell_type": "code",
   "execution_count": 358,
   "id": "f57e8d2e",
   "metadata": {},
   "outputs": [],
   "source": [
    "names = list(map(lambda x: x[0], scores))\n",
    "scores = [score for _, score in scores]"
   ]
  },
  {
   "cell_type": "code",
   "execution_count": 360,
   "id": "d16c322b",
   "metadata": {},
   "outputs": [
    {
     "data": {
      "image/png": "[encoded data removed]",
      "text/plain": [
       "<Figure size 432x432 with 1 Axes>"
      ]
     },
     "metadata": {
      "needs_background": "light"
     },
     "output_type": "display_data"
    }
   ],
   "source": [
    "plt.figure(figsize=(6, 6))\n",
    "\n",
    "plt.barh(np.arange(len(scores)), scores)\n",
    "plt.yticks(np.arange(len(names)), names)\n",
    "\n",
    "plt.show()"
   ]
  },
  {
   "cell_type": "markdown",
   "id": "90e7cfa2",
   "metadata": {},
   "source": [
    "# Extremely randomized trees"
   ]
  },
  {
   "cell_type": "code",
   "execution_count": 361,
   "id": "79152887",
   "metadata": {},
   "outputs": [],
   "source": [
    "from sklearn.ensemble import ExtraTreesClassifier"
   ]
  },
  {
   "cell_type": "code",
   "execution_count": 363,
   "id": "45f40662",
   "metadata": {
    "scrolled": true
   },
   "outputs": [
    {
     "name": "stdout",
     "output_type": "stream",
     "text": [
      "10, 0.7573\n",
      "20, 0.7767\n",
      "30, 0.7905\n",
      "40, 0.7882\n",
      "50, 0.7914\n",
      "60, 0.8017\n",
      "70, 0.7926\n",
      "80, 0.7893\n",
      "90, 0.7931\n",
      "100, 0.7959\n",
      "110, 0.7919\n",
      "120, 0.7913\n",
      "130, 0.7943\n",
      "140, 0.7919\n",
      "150, 0.7931\n",
      "160, 0.7993\n",
      "170, 0.7969\n",
      "180, 0.7967\n",
      "190, 0.7946\n",
      "200, 0.7998\n"
     ]
    }
   ],
   "source": [
    "aucs = []\n",
    "\n",
    "for i in range(10, 201, 10):\n",
    "    rf = ExtraTreesClassifier(n_estimators=i, max_depth=30)\n",
    "    rf.fit(X_train, y_train)\n",
    "    y_pred = rf.predict_proba(X_valid)[:, 1]\n",
    "    auc = roc_auc_score(y_valid, y_pred)\n",
    "    print(f\"{i}, {round(auc, 4)}\")\n",
    "    aucs.append(auc)"
   ]
  },
  {
   "cell_type": "code",
   "execution_count": null,
   "id": "b6c7e09f",
   "metadata": {},
   "outputs": [],
   "source": []
  }
 ],
 "metadata": {
  "kernelspec": {
   "display_name": "Python 3",
   "language": "python",
   "name": "python3"
  },
  "language_info": {
   "codemirror_mode": {
    "name": "ipython",
    "version": 3
   },
   "file_extension": ".py",
   "mimetype": "text/x-python",
   "name": "python",
   "nbconvert_exporter": "python",
   "pygments_lexer": "ipython3",
   "version": "3.8.10"
  }
 },
 "nbformat": 4,
 "nbformat_minor": 5
}
