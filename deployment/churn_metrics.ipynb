{
 "cells": [
  {
   "cell_type": "raw",
   "id": "aa082b93",
   "metadata": {},
   "source": [
    "Metrics allow us to compare 2 models and find out which one\n",
    "is better. RMSE in `linear_regression` analysis isn't suited\n",
    "for classification model.\n",
    "Here I'll use various metrics for BINARY classification models"
   ]
  },
  {
   "cell_type": "code",
   "execution_count": 204,
   "id": "3b66ebf3",
   "metadata": {},
   "outputs": [],
   "source": [
    "import pandas as pd\n",
    "import numpy as np\n",
    "import seaborn as sns\n",
    "from matplotlib import pyplot as plt\n",
    "%matplotlib inline\n",
    "\n",
    "from sklearn.model_selection import train_test_split\n",
    "from sklearn.feature_extraction import DictVectorizer\n",
    "from sklearn.linear_model import LogisticRegression"
   ]
  },
  {
   "cell_type": "code",
   "execution_count": 205,
   "id": "b51c6155",
   "metadata": {},
   "outputs": [],
   "source": [
    "df = pd.read_csv('customers_data.csv')\n",
    "\n",
    "df['TotalCharges'] = pd.to_numeric(df['TotalCharges'], errors='coerce')\n",
    "df['TotalCharges'] = df['TotalCharges'].fillna(0)\n",
    "\n",
    "df.columns = df.columns.str.lower().str.replace(' ', '_')\n",
    "\n",
    "cols = df.dtypes[df.dtypes == 'object'].index.to_list()\n",
    "\n",
    "for i in cols:\n",
    "    df[i] = df[i].str.lower().str.replace(' ', '_')\n",
    "\n",
    "df.churn = (df.churn == 'yes').astype(int)"
   ]
  },
  {
   "cell_type": "code",
   "execution_count": 206,
   "id": "df30544e",
   "metadata": {},
   "outputs": [],
   "source": [
    "full_train, df_test = train_test_split(df, test_size=0.2, random_state=1)\n",
    "train_data, valid = train_test_split(df, test_size=0.33, random_state=11)\n",
    "\n",
    "y_train = train_data.churn.values\n",
    "y_valid = valid.churn.values\n",
    "\n",
    "del train_data['churn']\n",
    "del valid['churn']"
   ]
  },
  {
   "cell_type": "code",
   "execution_count": 207,
   "id": "833ca3db",
   "metadata": {},
   "outputs": [],
   "source": [
    "categorical = ['gender', 'seniorcitizen', 'partner', 'dependents',\n",
    "               'phoneservice', 'multiplelines', 'internetservice',\n",
    "               'onlinesecurity', 'onlinebackup', 'deviceprotection',\n",
    "               'techsupport', 'streamingtv', 'streamingmovies',\n",
    "               'contract', 'paperlessbilling', 'paymentmethod']\n",
    "numerical = ['tenure', 'monthlycharges', 'totalcharges']"
   ]
  },
  {
   "cell_type": "code",
   "execution_count": 208,
   "id": "e6519e99",
   "metadata": {},
   "outputs": [],
   "source": [
    "train_dict = train_data[categorical + numerical].to_dict(orient='records')\n",
    "dv = DictVectorizer(sparse=False)\n",
    "dv.fit(train_dict)\n",
    "X_train = dv.transform(train_dict)"
   ]
  },
  {
   "cell_type": "code",
   "execution_count": 209,
   "id": "ed3124bf",
   "metadata": {},
   "outputs": [
    {
     "data": {
      "text/plain": [
       "LogisticRegression(random_state=1, solver='liblinear')"
      ]
     },
     "execution_count": 209,
     "metadata": {},
     "output_type": "execute_result"
    }
   ],
   "source": [
    "model = LogisticRegression(solver='liblinear', random_state=1)\n",
    "model.fit(X_train, y_train)"
   ]
  },
  {
   "cell_type": "code",
   "execution_count": 210,
   "id": "83dde857",
   "metadata": {},
   "outputs": [],
   "source": [
    "valid_dict = valid[categorical + numerical].to_dict(orient='records')\n",
    "X_valid = dv.transform(valid_dict)"
   ]
  },
  {
   "cell_type": "raw",
   "id": "86ed3afb",
   "metadata": {},
   "source": [
    "smaller model below"
   ]
  },
  {
   "cell_type": "code",
   "execution_count": 211,
   "id": "25b2c184",
   "metadata": {},
   "outputs": [],
   "source": [
    "small_subset = ['contract', 'tenure', 'totalcharges']\n",
    "small_set = train_data[small_subset].to_dict(orient='records')\n",
    "dv_small = DictVectorizer(sparse=False)\n",
    "dv_small.fit(small_set)\n",
    "X_smallTrain = dv_small.transform(small_set)"
   ]
  },
  {
   "cell_type": "code",
   "execution_count": 212,
   "id": "2a47a74f",
   "metadata": {},
   "outputs": [
    {
     "data": {
      "text/plain": [
       "LogisticRegression(random_state=1, solver='liblinear')"
      ]
     },
     "execution_count": 212,
     "metadata": {},
     "output_type": "execute_result"
    }
   ],
   "source": [
    "model_small = LogisticRegression(solver='liblinear', random_state=1)\n",
    "model_small.fit(X_smallTrain, y_train)"
   ]
  },
  {
   "cell_type": "code",
   "execution_count": 213,
   "id": "8fcef962",
   "metadata": {},
   "outputs": [],
   "source": [
    "small_valid = valid[small_subset].to_dict(orient='records')\n",
    "X_smallValid = dv.transform(small_valid)"
   ]
  },
  {
   "cell_type": "markdown",
   "id": "0d6bae41",
   "metadata": {},
   "source": [
    "# Accuracy"
   ]
  },
  {
   "cell_type": "raw",
   "id": "360f129e",
   "metadata": {},
   "source": [
    "accuracy = correct/total\n",
    "I did it in `churn`. We opted for 0.5 arbitrary, but any other figure can be chosen. Then we compare predicted values with\n",
    "initial in y_valid/y_test and take `.mean()`."
   ]
  },
  {
   "cell_type": "code",
   "execution_count": 264,
   "id": "39d82251",
   "metadata": {},
   "outputs": [],
   "source": [
    "y_plot = model.predict_proba(X_valid)\n",
    "y_pred = model.predict_proba(X_valid)[:, 1]"
   ]
  },
  {
   "cell_type": "code",
   "execution_count": 215,
   "id": "6229dcb7",
   "metadata": {},
   "outputs": [
    {
     "data": {
      "text/plain": [
       "0.79"
      ]
     },
     "execution_count": 215,
     "metadata": {},
     "output_type": "execute_result"
    }
   ],
   "source": [
    "y_churn = y_pred >= 0.5\n",
    "round((y_valid == y_churn).mean(), 2)"
   ]
  },
  {
   "cell_type": "code",
   "execution_count": 41,
   "id": "669c9fa4",
   "metadata": {},
   "outputs": [],
   "source": [
    "# However we can do accuracy with the help of Sklearn\n",
    "from sklearn.metrics import accuracy_score"
   ]
  },
  {
   "cell_type": "code",
   "execution_count": 42,
   "id": "12c7430b",
   "metadata": {},
   "outputs": [
    {
     "data": {
      "text/plain": [
       "0.79"
      ]
     },
     "execution_count": 42,
     "metadata": {},
     "output_type": "execute_result"
    }
   ],
   "source": [
    "round(accuracy_score(y_pred >= 0.5, y_valid), 2)"
   ]
  },
  {
   "cell_type": "code",
   "execution_count": 43,
   "id": "40e8c74f",
   "metadata": {},
   "outputs": [
    {
     "data": {
      "text/plain": [
       "array([0. , 0.1, 0.2, 0.3, 0.4, 0.5, 0.6, 0.7, 0.8, 0.9, 1. ])"
      ]
     },
     "execution_count": 43,
     "metadata": {},
     "output_type": "execute_result"
    }
   ],
   "source": [
    "# np.linspace(start, stop, num)\n",
    "threshold_one = np.linspace(0, 1, 11)\n",
    "threshold_two = np.linspace(0, 1, 21)\n",
    "threshold_one"
   ]
  },
  {
   "cell_type": "code",
   "execution_count": 44,
   "id": "4b41445c",
   "metadata": {},
   "outputs": [
    {
     "name": "stdout",
     "output_type": "stream",
     "text": [
      "0.00 0.271\n",
      "0.10 0.614\n",
      "0.20 0.705\n",
      "0.30 0.770\n",
      "0.40 0.792\n",
      "0.50 0.794\n",
      "0.60 0.791\n",
      "0.70 0.766\n",
      "0.80 0.735\n",
      "0.90 0.729\n",
      "1.00 0.729\n",
      "End of first\n",
      "0.00 0.271\n",
      "0.05 0.526\n",
      "0.10 0.614\n",
      "0.15 0.668\n",
      "0.20 0.705\n",
      "0.25 0.744\n",
      "0.30 0.770\n",
      "0.35 0.782\n",
      "0.40 0.792\n",
      "0.45 0.796\n",
      "0.50 0.794\n",
      "0.55 0.801\n",
      "0.60 0.791\n",
      "0.65 0.782\n",
      "0.70 0.766\n",
      "0.75 0.748\n",
      "0.80 0.735\n",
      "0.85 0.729\n",
      "0.90 0.729\n",
      "0.95 0.729\n",
      "1.00 0.729\n",
      "End of first\n"
     ]
    }
   ],
   "source": [
    "# generally, 0.5 is good enough, but we need to check\n",
    "# for possible better accuracy\n",
    "res = []\n",
    "\n",
    "for t in [threshold_one, threshold_two]:\n",
    "    for i in t:\n",
    "        y_ch = y_pred >= i\n",
    "        accuracy = accuracy_score(y_ch, y_valid)\n",
    "        res.append(accuracy)\n",
    "        print('%0.2f %0.3f' %(i, accuracy))\n",
    "    \n",
    "    print('End of first')"
   ]
  },
  {
   "cell_type": "code",
   "execution_count": 45,
   "id": "a991c5b6",
   "metadata": {},
   "outputs": [
    {
     "data": {
      "image/png": "[encoded data removed]",
      "text/plain": [
       "<Figure size 432x288 with 1 Axes>"
      ]
     },
     "metadata": {
      "needs_background": "light"
     },
     "output_type": "display_data"
    }
   ],
   "source": [
    "plt.figure(figsize=(6, 4))\n",
    "plt.plot(threshold_one, res[0:11], color='red')\n",
    "plt.title('Threshold & Accuracy')\n",
    "plt.xlabel('threshold')\n",
    "plt.ylabel('accuracy')\n",
    "\n",
    "plt.xticks(np.linspace(0, 1, 11))\n",
    "plt.show()"
   ]
  },
  {
   "cell_type": "code",
   "execution_count": 46,
   "id": "1ee544a1",
   "metadata": {},
   "outputs": [],
   "source": [
    "y_predictSmall = model.predict_proba(X_smallValid)[:, 1]\n",
    "y_churn_small = y_predictSmall >= 0.5\n",
    "# `y_churn_small` is True/False values"
   ]
  },
  {
   "cell_type": "code",
   "execution_count": 47,
   "id": "13c0c0ee",
   "metadata": {},
   "outputs": [
    {
     "data": {
      "text/plain": [
       "0.76"
      ]
     },
     "execution_count": 47,
     "metadata": {},
     "output_type": "execute_result"
    }
   ],
   "source": [
    "round((y_valid == y_churn_small).mean(), 2)"
   ]
  },
  {
   "cell_type": "code",
   "execution_count": 48,
   "id": "18a04ed9",
   "metadata": {},
   "outputs": [
    {
     "data": {
      "text/plain": [
       "0.76"
      ]
     },
     "execution_count": 48,
     "metadata": {},
     "output_type": "execute_result"
    }
   ],
   "source": [
    "round(accuracy_score(y_valid, y_churn_small), 2)"
   ]
  },
  {
   "cell_type": "raw",
   "id": "01c5887f",
   "metadata": {},
   "source": [
    "We see that small model accuracy is roughly the same"
   ]
  },
  {
   "cell_type": "markdown",
   "id": "04728289",
   "metadata": {},
   "source": [
    "# Dummy Baseline"
   ]
  },
  {
   "cell_type": "raw",
   "id": "1ca94bc1",
   "metadata": {},
   "source": [
    "we need to understand whether 80% and 76% are great numbers.\n",
    "Hence we need to relate them to something.\n",
    "Dummy Baseline - always predicts the same value (actaully, not predicts, but has/possesses in our case).\n",
    "As our dataset is imbalanced and there're much more 'no-churn' rather than 'churn' => we'll do a model (baseline) that has only False (as if we predicted it and now we check against y_valid)"
   ]
  },
  {
   "cell_type": "code",
   "execution_count": 49,
   "id": "1ae082e8",
   "metadata": {},
   "outputs": [
    {
     "data": {
      "text/plain": [
       "array([False, False, False, ..., False, False, False])"
      ]
     },
     "execution_count": 49,
     "metadata": {},
     "output_type": "execute_result"
    }
   ],
   "source": [
    "length = len(y_valid)\n",
    "baseline = np.repeat(False, length)\n",
    "baseline"
   ]
  },
  {
   "cell_type": "code",
   "execution_count": 50,
   "id": "7d6f672e",
   "metadata": {},
   "outputs": [
    {
     "data": {
      "text/plain": [
       "0.73"
      ]
     },
     "execution_count": 50,
     "metadata": {},
     "output_type": "execute_result"
    }
   ],
   "source": [
    "round(accuracy_score(baseline, y_valid), 2)"
   ]
  },
  {
   "cell_type": "raw",
   "id": "58b53f07",
   "metadata": {},
   "source": [
    "What does it mean? Model & small model better than our naive 'model' (baseline with False) by 6% and 3% respectively. At first sight it may seem marginal and insignificant, but churn problem is a pretty difficult => maybe this improvement is crucial and very good.\n",
    "\n",
    "Result: we need another metrics to measure the quality of the model."
   ]
  },
  {
   "cell_type": "markdown",
   "id": "80ca830f",
   "metadata": {},
   "source": [
    "# Confusion table"
   ]
  },
  {
   "cell_type": "raw",
   "id": "a2bb4942",
   "metadata": {},
   "source": [
    "in binary classification we have 2 REAL outcomes: True & False (churn and not churn).\n",
    "But both of them can be divided into two more groups: prediction was right or wrong => 4 possible outcomes.\n",
    "2 - good result, 2 - bad result.\n",
    "True negative/True positive/False negative/False positive"
   ]
  },
  {
   "cell_type": "code",
   "execution_count": 51,
   "id": "83b9ef0c",
   "metadata": {},
   "outputs": [],
   "source": [
    "# () inside () are essential\n",
    "true_pos = ((y_pred >= 0.5) & (y_valid == 1)).sum()\n",
    "true_neg = ((y_pred < 0.5) & (y_valid == 0)).sum()\n",
    "false_pos = ((y_pred >= 0.5) & (y_valid == 0)).sum()\n",
    "false_neg = ((y_pred < 0.5) & (y_valid == 1)).sum()\n",
    "# `sum()` casts False & True to bool, then sum 1.\n",
    "# Similar behaviour is seen in `mean()`"
   ]
  },
  {
   "cell_type": "code",
   "execution_count": 52,
   "id": "f307cb09",
   "metadata": {},
   "outputs": [],
   "source": [
    "conf_table = np.array(\n",
    "    # pred. pos. pred. neg. \n",
    "    [\n",
    "    [true_pos, false_neg], # actual positive\n",
    "    [false_pos, true_neg]  # actual negative\n",
    "    ])"
   ]
  },
  {
   "cell_type": "code",
   "execution_count": 53,
   "id": "4be06a8a",
   "metadata": {},
   "outputs": [
    {
     "data": {
      "text/plain": [
       "array([[ 330,  301],\n",
       "       [ 177, 1517]])"
      ]
     },
     "execution_count": 53,
     "metadata": {},
     "output_type": "execute_result"
    }
   ],
   "source": [
    "conf_table"
   ]
  },
  {
   "cell_type": "code",
   "execution_count": 54,
   "id": "032a848b",
   "metadata": {},
   "outputs": [
    {
     "data": {
      "text/plain": [
       "array([[14.19354839, 12.94623656],\n",
       "       [ 7.61290323, 65.24731183]])"
      ]
     },
     "execution_count": 54,
     "metadata": {},
     "output_type": "execute_result"
    }
   ],
   "source": [
    "conf_table * 100 / conf_table.sum()\n",
    "# false_neg & false_pos are the errors of our model.\n",
    "# We see that approx. 12.95% wrong when customer was positive\n",
    "# but model decided negative. Approx. 7.61% when customer was\n",
    "# negative but model decides positive"
   ]
  },
  {
   "cell_type": "code",
   "execution_count": 55,
   "id": "bd79d56a",
   "metadata": {},
   "outputs": [
    {
     "data": {
      "text/plain": [
       "0.7944205579442056"
      ]
     },
     "execution_count": 55,
     "metadata": {},
     "output_type": "execute_result"
    }
   ],
   "source": [
    "# if we take true_positive & true_negative / all data\n",
    "# from the table -> we receive model\n",
    "(65.25 + 14.2)/(14.2 + 12.95 + 7.61 + 65.25)"
   ]
  },
  {
   "cell_type": "raw",
   "id": "cc1dab2a",
   "metadata": {},
   "source": [
    "Let's look at our small model"
   ]
  },
  {
   "cell_type": "code",
   "execution_count": 56,
   "id": "a64fb6ba",
   "metadata": {},
   "outputs": [],
   "source": [
    "true_pos_s = ((y_predictSmall >= 0.5) & (y_valid == 1)).sum()\n",
    "true_neg_s = ((y_predictSmall < 0.5) & (y_valid == 0)).sum()\n",
    "false_pos_s = ((y_predictSmall >= 0.5) & (y_valid == 0)).sum()\n",
    "false_neg_s = ((y_predictSmall < 0.5) & (y_valid == 1)).sum()"
   ]
  },
  {
   "cell_type": "code",
   "execution_count": 57,
   "id": "8c20fddd",
   "metadata": {},
   "outputs": [],
   "source": [
    "conf_table_s = np.array(\n",
    "     # pred. pos. pred. neg. \n",
    "    [\n",
    "    [true_pos_s, false_neg_s],   # actual positive\n",
    "    [false_pos_s, true_neg_s]    # actual negative\n",
    "    ]\n",
    ")"
   ]
  },
  {
   "cell_type": "code",
   "execution_count": 58,
   "id": "e14b3bf0",
   "metadata": {},
   "outputs": [
    {
     "data": {
      "text/plain": [
       "array([[ 338,  293],\n",
       "       [ 264, 1430]])"
      ]
     },
     "execution_count": 58,
     "metadata": {},
     "output_type": "execute_result"
    }
   ],
   "source": [
    "conf_table_s"
   ]
  },
  {
   "cell_type": "code",
   "execution_count": 59,
   "id": "b7a4378e",
   "metadata": {},
   "outputs": [
    {
     "data": {
      "text/plain": [
       "array([[14.53763441, 12.60215054],\n",
       "       [11.35483871, 61.50537634]])"
      ]
     },
     "execution_count": 59,
     "metadata": {},
     "output_type": "execute_result"
    }
   ],
   "source": [
    "conf_table_s * 100 / conf_table.sum()"
   ]
  },
  {
   "cell_type": "raw",
   "id": "b7d818b5",
   "metadata": {},
   "source": [
    "As we see based on two examples, it's difficult for model to predict CHURNING customers. And it was obfuscated by ACCURACY check"
   ]
  },
  {
   "cell_type": "code",
   "execution_count": 60,
   "id": "cc51dac2",
   "metadata": {},
   "outputs": [
    {
     "data": {
      "text/plain": [
       "0.7604760476047605"
      ]
     },
     "execution_count": 60,
     "metadata": {},
     "output_type": "execute_result"
    }
   ],
   "source": [
    "(61.5 + 14.54) / (61.5 + 14.54 + 12.6 + 11.35)"
   ]
  },
  {
   "cell_type": "code",
   "execution_count": 61,
   "id": "482a90bb",
   "metadata": {},
   "outputs": [
    {
     "data": {
      "text/plain": [
       "3.3978494700000024"
      ]
     },
     "execution_count": 61,
     "metadata": {},
     "output_type": "execute_result"
    }
   ],
   "source": [
    "(65.24731183 - 61.50537634) + (14.19354839 - 14.53763441)\n",
    "# is the difference in the two models: 76 vs 73.\n",
    "# Small model predicts worse when we deal with\n",
    "# users who've actually not churned.\n",
    "# We need to look at true_pos/neg and\n",
    "# see that the difference is there"
   ]
  },
  {
   "cell_type": "markdown",
   "id": "ec6ce5cf",
   "metadata": {},
   "source": [
    "# Precision and Recall"
   ]
  },
  {
   "cell_type": "raw",
   "id": "fd58b533",
   "metadata": {},
   "source": [
    "We can base other metrics on confusion table. Also, you need to keep in mind that accuracy can be misleading when dealing with imbalanced datasets.\n",
    "\n",
    "Precision and recall are calculated from the confusion table\n",
    "and helpful when dataset is imbalanced"
   ]
  },
  {
   "cell_type": "code",
   "execution_count": 62,
   "id": "89a8ed5e",
   "metadata": {},
   "outputs": [
    {
     "data": {
      "text/plain": [
       "0.650887573964497"
      ]
     },
     "execution_count": 62,
     "metadata": {},
     "output_type": "execute_result"
    }
   ],
   "source": [
    "# Precision.\n",
    "# P = TP / (TP + FP)\n",
    "# i.e. fraction of positive predictions to be correct\n",
    "330 / (330 + 177) # denominator is: predicted positive"
   ]
  },
  {
   "cell_type": "code",
   "execution_count": 63,
   "id": "e283d9d8",
   "metadata": {},
   "outputs": [
    {
     "data": {
      "text/plain": [
       "0.5229793977812995"
      ]
     },
     "execution_count": 63,
     "metadata": {},
     "output_type": "execute_result"
    }
   ],
   "source": [
    "# Recall\n",
    "# R = TP / (TP + FN). False Negative - pred. no-churn actual churn\n",
    "330 / (330 + 301) # denominator is: actual positive"
   ]
  },
  {
   "cell_type": "markdown",
   "id": "016607a6",
   "metadata": {},
   "source": [
    "# Precision & Recall for various thresholds\n",
    "<h3>\n",
    "   As we have intersection between prec. & recall,\n",
    "    we'll calc. f1 score to see the best threshold.\n",
    "    Best - maximizes it.\n",
    "    We'll incorporate it in our function\n",
    "</h3>"
   ]
  },
  {
   "cell_type": "code",
   "execution_count": 220,
   "id": "4485bc92",
   "metadata": {},
   "outputs": [],
   "source": [
    "def calc_prec_rec(y_vl, y_pred):\n",
    "    thresholds = np.linspace(0, 1, 11)\n",
    "    \n",
    "    scores = []\n",
    "    for t in thresholds:\n",
    "        true_positive = ((y_pred >= t) & (y_vl == 1)).sum()\n",
    "        true_negative = ((y_pred < t) & (y_vl == 0)).sum()\n",
    "        false_positive = ((y_pred >= t) & (y_vl == 0)).sum()\n",
    "        false_negative = ((y_pred < t) & (y_vl == 1)).sum()\n",
    "        scores.append([t, true_positive, true_negative,\n",
    "                         false_positive, false_negative])\n",
    "    \n",
    "    df_scores = pd.DataFrame(scores)\n",
    "    df_scores.columns = ['threshold', 'tp', 'tn', 'fp', 'fn']\n",
    "    df_scores['precision'] = df_scores['tp'] / (df_scores['tp'] + df_scores['fp'])\n",
    "    df_scores['recall'] = df_scores['tp'] / (df_scores['tp'] + df_scores['fn'])\n",
    "    df_scores['f1'] = (2 * df_pr_r['precision'] * df_pr_r['recall'])\\\n",
    "                        / (df_pr_r['precision'] + df_pr_r['recall'])\n",
    "    \n",
    "    return df_scores"
   ]
  },
  {
   "cell_type": "code",
   "execution_count": 221,
   "id": "986b22f3",
   "metadata": {},
   "outputs": [
    {
     "data": {
      "text/html": [
       "<div>\n",
       "<style scoped>\n",
       "    .dataframe tbody tr th:only-of-type {\n",
       "        vertical-align: middle;\n",
       "    }\n",
       "\n",
       "    .dataframe tbody tr th {\n",
       "        vertical-align: top;\n",
       "    }\n",
       "\n",
       "    .dataframe thead th {\n",
       "        text-align: right;\n",
       "    }\n",
       "</style>\n",
       "<table border=\"1\" class=\"dataframe\">\n",
       "  <thead>\n",
       "    <tr style=\"text-align: right;\">\n",
       "      <th></th>\n",
       "      <th>threshold</th>\n",
       "      <th>tp</th>\n",
       "      <th>tn</th>\n",
       "      <th>fp</th>\n",
       "      <th>fn</th>\n",
       "      <th>precision</th>\n",
       "      <th>recall</th>\n",
       "      <th>f1</th>\n",
       "    </tr>\n",
       "  </thead>\n",
       "  <tbody>\n",
       "    <tr>\n",
       "      <th>0</th>\n",
       "      <td>0.0</td>\n",
       "      <td>631</td>\n",
       "      <td>0</td>\n",
       "      <td>1694</td>\n",
       "      <td>0</td>\n",
       "      <td>0.271398</td>\n",
       "      <td>1.000000</td>\n",
       "      <td>0.400568</td>\n",
       "    </tr>\n",
       "    <tr>\n",
       "      <th>1</th>\n",
       "      <td>0.1</td>\n",
       "      <td>593</td>\n",
       "      <td>834</td>\n",
       "      <td>860</td>\n",
       "      <td>38</td>\n",
       "      <td>0.408121</td>\n",
       "      <td>0.939778</td>\n",
       "      <td>0.548780</td>\n",
       "    </tr>\n",
       "    <tr>\n",
       "      <th>2</th>\n",
       "      <td>0.2</td>\n",
       "      <td>537</td>\n",
       "      <td>1103</td>\n",
       "      <td>591</td>\n",
       "      <td>94</td>\n",
       "      <td>0.476064</td>\n",
       "      <td>0.851030</td>\n",
       "      <td>0.609337</td>\n",
       "    </tr>\n",
       "    <tr>\n",
       "      <th>3</th>\n",
       "      <td>0.3</td>\n",
       "      <td>474</td>\n",
       "      <td>1317</td>\n",
       "      <td>377</td>\n",
       "      <td>157</td>\n",
       "      <td>0.556992</td>\n",
       "      <td>0.751189</td>\n",
       "      <td>0.660920</td>\n",
       "    </tr>\n",
       "    <tr>\n",
       "      <th>4</th>\n",
       "      <td>0.4</td>\n",
       "      <td>405</td>\n",
       "      <td>1436</td>\n",
       "      <td>258</td>\n",
       "      <td>226</td>\n",
       "      <td>0.610860</td>\n",
       "      <td>0.641838</td>\n",
       "      <td>0.636066</td>\n",
       "    </tr>\n",
       "    <tr>\n",
       "      <th>5</th>\n",
       "      <td>0.5</td>\n",
       "      <td>330</td>\n",
       "      <td>1517</td>\n",
       "      <td>177</td>\n",
       "      <td>301</td>\n",
       "      <td>0.650888</td>\n",
       "      <td>0.522979</td>\n",
       "      <td>0.601504</td>\n",
       "    </tr>\n",
       "    <tr>\n",
       "      <th>6</th>\n",
       "      <td>0.6</td>\n",
       "      <td>246</td>\n",
       "      <td>1593</td>\n",
       "      <td>101</td>\n",
       "      <td>385</td>\n",
       "      <td>0.708934</td>\n",
       "      <td>0.389857</td>\n",
       "      <td>0.493023</td>\n",
       "    </tr>\n",
       "    <tr>\n",
       "      <th>7</th>\n",
       "      <td>0.7</td>\n",
       "      <td>117</td>\n",
       "      <td>1665</td>\n",
       "      <td>29</td>\n",
       "      <td>514</td>\n",
       "      <td>0.801370</td>\n",
       "      <td>0.185420</td>\n",
       "      <td>0.325581</td>\n",
       "    </tr>\n",
       "    <tr>\n",
       "      <th>8</th>\n",
       "      <td>0.8</td>\n",
       "      <td>15</td>\n",
       "      <td>1694</td>\n",
       "      <td>0</td>\n",
       "      <td>616</td>\n",
       "      <td>1.000000</td>\n",
       "      <td>0.023772</td>\n",
       "      <td>0.041667</td>\n",
       "    </tr>\n",
       "    <tr>\n",
       "      <th>9</th>\n",
       "      <td>0.9</td>\n",
       "      <td>0</td>\n",
       "      <td>1694</td>\n",
       "      <td>0</td>\n",
       "      <td>631</td>\n",
       "      <td>NaN</td>\n",
       "      <td>0.000000</td>\n",
       "      <td>NaN</td>\n",
       "    </tr>\n",
       "    <tr>\n",
       "      <th>10</th>\n",
       "      <td>1.0</td>\n",
       "      <td>0</td>\n",
       "      <td>1694</td>\n",
       "      <td>0</td>\n",
       "      <td>631</td>\n",
       "      <td>NaN</td>\n",
       "      <td>0.000000</td>\n",
       "      <td>NaN</td>\n",
       "    </tr>\n",
       "  </tbody>\n",
       "</table>\n",
       "</div>"
      ],
      "text/plain": [
       "    threshold   tp    tn    fp   fn  precision    recall        f1\n",
       "0         0.0  631     0  1694    0   0.271398  1.000000  0.400568\n",
       "1         0.1  593   834   860   38   0.408121  0.939778  0.548780\n",
       "2         0.2  537  1103   591   94   0.476064  0.851030  0.609337\n",
       "3         0.3  474  1317   377  157   0.556992  0.751189  0.660920\n",
       "4         0.4  405  1436   258  226   0.610860  0.641838  0.636066\n",
       "5         0.5  330  1517   177  301   0.650888  0.522979  0.601504\n",
       "6         0.6  246  1593   101  385   0.708934  0.389857  0.493023\n",
       "7         0.7  117  1665    29  514   0.801370  0.185420  0.325581\n",
       "8         0.8   15  1694     0  616   1.000000  0.023772  0.041667\n",
       "9         0.9    0  1694     0  631        NaN  0.000000       NaN\n",
       "10        1.0    0  1694     0  631        NaN  0.000000       NaN"
      ]
     },
     "execution_count": 221,
     "metadata": {},
     "output_type": "execute_result"
    }
   ],
   "source": [
    "df_pr_r = calc_prec_rec(y_valid, y_pred)\n",
    "df_pr_r"
   ]
  },
  {
   "cell_type": "code",
   "execution_count": 226,
   "id": "8d739d62",
   "metadata": {},
   "outputs": [
    {
     "name": "stdout",
     "output_type": "stream",
     "text": [
      "Best threshold:  0.30000000000000004\n",
      "Best F1-Score:  0.6609195402298851\n"
     ]
    }
   ],
   "source": [
    "print('Best threshold: ', df_pr_r['threshold'][np.argmax(f1)])\n",
    "print('Best F1-Score: ', np.max(f1))"
   ]
  },
  {
   "cell_type": "code",
   "execution_count": 222,
   "id": "5588d495",
   "metadata": {
    "scrolled": true
   },
   "outputs": [
    {
     "data": {
      "image/png": "[encoded data removed]",
      "text/plain": [
       "<Figure size 432x288 with 1 Axes>"
      ]
     },
     "metadata": {
      "needs_background": "light"
     },
     "output_type": "display_data"
    }
   ],
   "source": [
    "plt.plot(df_pr_r['threshold'], df_pr_r['precision'], label='Prec.')\n",
    "plt.plot(df_pr_r['threshold'], df_pr_r['recall'], label='Rec.')\n",
    "plt.legend()\n",
    "plt.xticks(np.linspace(0, 1, 11))\n",
    "plt.yticks(np.linspace(0, 1, 11))\n",
    "plt.xlabel('threshold')\n",
    "plt.show()"
   ]
  },
  {
   "cell_type": "code",
   "execution_count": 283,
   "id": "54bad810",
   "metadata": {},
   "outputs": [],
   "source": [
    "# random model\n",
    "np.random.seed(1)\n",
    "y_randomModel = np.random.uniform(0, 1, len(y_valid))\n",
    "df_random = calc_prec_rec(y_valid, y_randomModel)"
   ]
  },
  {
   "cell_type": "code",
   "execution_count": 284,
   "id": "85d72c37",
   "metadata": {},
   "outputs": [],
   "source": [
    "# ideal model\n",
    "num_neg = (y_valid == 0).sum()\n",
    "num_pos = (y_valid == 1).sum()\n",
    "\n",
    "y_idealModel = np.repeat([0, 1], [num_neg, num_pos])\n",
    "y_predIdeal = np.linspace(0, 1, num_neg + num_pos)\n",
    "\n",
    "df_ideal_pr_r = calc_prec_rec(y_ideal, y_predIdeal)"
   ]
  },
  {
   "cell_type": "code",
   "execution_count": 285,
   "id": "c67846f8",
   "metadata": {},
   "outputs": [
    {
     "data": {
      "image/png": "[encoded data removed]",
      "text/plain": [
       "<Figure size 360x360 with 1 Axes>"
      ]
     },
     "metadata": {
      "needs_background": "light"
     },
     "output_type": "display_data"
    }
   ],
   "source": [
    "plt.figure(figsize=(5, 5))\n",
    "plt.plot(df_pr_r['recall'], df_pr_r['precision'], label='Model')\n",
    "plt.plot(df_random['recall'], df_random['precision'], label='Random')\n",
    "plt.plot(df_ideal_pr_r['recall'], df_ideal_pr_r['precision'], label='Ideal')\n",
    "\n",
    "plt.title('AU PR')\n",
    "plt.xlabel('Recall')\n",
    "plt.ylabel('Precision')\n",
    "plt.legend()\n",
    "plt.show()"
   ]
  },
  {
   "cell_type": "markdown",
   "id": "e23742f2",
   "metadata": {},
   "source": [
    "# Calc f1 & intersection with sklearn"
   ]
  },
  {
   "cell_type": "code",
   "execution_count": 258,
   "id": "48f53ad4",
   "metadata": {},
   "outputs": [
    {
     "data": {
      "text/plain": [
       "0.5799648506151143"
      ]
     },
     "execution_count": 258,
     "metadata": {},
     "output_type": "execute_result"
    }
   ],
   "source": [
    "from sklearn.metrics import precision_recall_curve, f1_score\n",
    "\n",
    "f1_score(y_valid, y_churn)"
   ]
  },
  {
   "cell_type": "code",
   "execution_count": 259,
   "id": "d1f1d7e4",
   "metadata": {},
   "outputs": [],
   "source": [
    "from sklearn.metrics import precision_recall_curve, plot_precision_recall_curve\n",
    "\n",
    "pr, r, th = precision_recall_curve(y_valid, y_pred)\n",
    "\n",
    "pr = pd.Series(pr[:-1])\n",
    "r = pd.Series(r[:-1])\n",
    "th = pd.Series(th)"
   ]
  },
  {
   "cell_type": "code",
   "execution_count": 262,
   "id": "565584fa",
   "metadata": {},
   "outputs": [
    {
     "data": {
      "image/png": "[encoded data removed]",
      "text/plain": [
       "<Figure size 576x360 with 1 Axes>"
      ]
     },
     "metadata": {
      "needs_background": "light"
     },
     "output_type": "display_data"
    }
   ],
   "source": [
    "fig = plt.figure(figsize= (8,5))\n",
    "plt.plot(th, pr, \"b--\", label=\"Precision\")\n",
    "plt.plot(th, r, \"g-\", label=\"Recall\")\n",
    "plt.legend()\n",
    "plt.show()"
   ]
  },
  {
   "cell_type": "code",
   "execution_count": null,
   "id": "6d70c219",
   "metadata": {},
   "outputs": [],
   "source": []
  },
  {
   "cell_type": "raw",
   "id": "c21c9a8d",
   "metadata": {},
   "source": [
    "Precision: what’s the percent of correct predictions (TP) among customers predicted as churning (TP + FP)?\n",
    "\n",
    "Recall: what’s the percent of correctly predicted as churning (TP) among all churned customers (TP + FN)?\n",
    "\n",
    "65% means that this group of people actually was going to churn and we sent them promotional message while 35% didn't intend to churn, but still received promotional message\n",
    "\n",
    "52% means that we managed to find only this number of people who want to churn and 48% were missed"
   ]
  },
  {
   "cell_type": "raw",
   "id": "41db27ca",
   "metadata": {},
   "source": [
    "From all of this we can see that although 80% at first may seem good, in reality our model makes quite a few mistakes."
   ]
  },
  {
   "cell_type": "raw",
   "id": "e3e03bd9",
   "metadata": {},
   "source": [
    "Prec./Recall don't see at `true_negatives` which in many\n",
    "cases outnumber everything else."
   ]
  },
  {
   "cell_type": "markdown",
   "id": "d9be4625",
   "metadata": {},
   "source": [
    "# ROC curve and AUC score"
   ]
  },
  {
   "cell_type": "raw",
   "id": "f128407d",
   "metadata": {},
   "source": [
    "Precision & Recall describes performance only at a certain threshold. These 2 metrics help to see performance for all possible threshold choices"
   ]
  },
  {
   "cell_type": "markdown",
   "id": "a38a84ad",
   "metadata": {},
   "source": [
    "**Roc curve** <br>\n",
    "receiver operating characteristic"
   ]
  },
  {
   "cell_type": "code",
   "execution_count": 64,
   "id": "73b6265d",
   "metadata": {},
   "outputs": [],
   "source": [
    "# FPR & TPR:\n",
    "# 1) false positive rate (false_pos/all negative)\n",
    "#   FPR = FP / (FP + TN) - out of \"actual neg\"\n",
    "# 2) true positive rate (true_pos/all positive)\n",
    "#   TPR = TP / (TP + FN) - out of \"actual pos\"\n",
    "fpr = 177 / (177 + 1517)\n",
    "tpr = 330 / (330 + 301)"
   ]
  },
  {
   "cell_type": "code",
   "execution_count": 65,
   "id": "66f1e364",
   "metadata": {},
   "outputs": [
    {
     "data": {
      "text/plain": [
       "10.448642266824084"
      ]
     },
     "execution_count": 65,
     "metadata": {},
     "output_type": "execute_result"
    }
   ],
   "source": [
    "fpr * 100\n",
    "# predicted fraction as churning when they're not\n",
    "# small number is good, few false positives"
   ]
  },
  {
   "cell_type": "code",
   "execution_count": 66,
   "id": "517593b7",
   "metadata": {},
   "outputs": [
    {
     "data": {
      "text/plain": [
       "52.29793977812995"
      ]
     },
     "execution_count": 66,
     "metadata": {},
     "output_type": "execute_result"
    }
   ],
   "source": [
    "tpr * 100\n",
    "# predicted fraction as churning among all who churned\n",
    "# !!! similar to Recall"
   ]
  },
  {
   "cell_type": "raw",
   "id": "0b0f42c7",
   "metadata": {},
   "source": [
    "Next we need to use ROC at multiple thresholds"
   ]
  },
  {
   "cell_type": "raw",
   "id": "cf4de776",
   "metadata": {},
   "source": [
    "Create function to take values"
   ]
  },
  {
   "cell_type": "code",
   "execution_count": 67,
   "id": "20481065",
   "metadata": {},
   "outputs": [],
   "source": [
    "def fpr_tpr_df(y_vl, y_pred):\n",
    "    scores = []\n",
    "\n",
    "    thresholds = np.linspace(0, 1, 101)\n",
    "\n",
    "    for t in thresholds:\n",
    "        true_positive = ((y_pred >= t) & (y_vl == 1)).sum()\n",
    "        true_negative = ((y_pred < t) & (y_vl == 0)).sum()\n",
    "        false_positive = ((y_pred >= t) & (y_vl == 0)).sum()\n",
    "        false_negative = ((y_pred < t) & (y_vl == 1)).sum()\n",
    "\n",
    "        scores.append([t, true_positive, true_negative,\n",
    "                         false_positive, false_negative])\n",
    "        \n",
    "    df_scores = pd.DataFrame(scores)\n",
    "    df_scores.columns = ['threshold', 'tp', 'tn', 'fp', 'fn']\n",
    "    df_scores['fpr'] = df_scores['fp'] / (df_scores['fp'] + df_scores['tn'])\n",
    "    df_scores['tpr'] = df_scores['tp'] / (df_scores['tp'] + df_scores['fn'])\n",
    "\n",
    "    return df_scores\n"
   ]
  },
  {
   "cell_type": "markdown",
   "id": "5b70f6f1",
   "metadata": {},
   "source": [
    "# Below is for next plot"
   ]
  },
  {
   "cell_type": "code",
   "execution_count": 68,
   "id": "49445720",
   "metadata": {},
   "outputs": [],
   "source": [
    "scores = []\n",
    "\n",
    "thresholds = np.linspace(0, 1, 101)\n",
    "\n",
    "for t in thresholds:\n",
    "    tp = ((y_pred >= t) & (y_valid == 1)).sum()\n",
    "    fp = ((y_pred >= t) & (y_valid == 0)).sum()\n",
    "    fn = ((y_pred < t) & (y_valid == 1)).sum()\n",
    "    tn = ((y_pred < t) & (y_valid == 0)).sum()\n",
    "    scores.append([t, tp, fp, fn, tn])\n",
    "\n",
    "df_scores = pd.DataFrame(scores)\n",
    "df_scores.columns = ['threshold', 'tp', 'fp', 'fn', 'tn']"
   ]
  },
  {
   "cell_type": "code",
   "execution_count": 69,
   "id": "b5d7274c",
   "metadata": {},
   "outputs": [
    {
     "data": {
      "text/html": [
       "<div>\n",
       "<style scoped>\n",
       "    .dataframe tbody tr th:only-of-type {\n",
       "        vertical-align: middle;\n",
       "    }\n",
       "\n",
       "    .dataframe tbody tr th {\n",
       "        vertical-align: top;\n",
       "    }\n",
       "\n",
       "    .dataframe thead th {\n",
       "        text-align: right;\n",
       "    }\n",
       "</style>\n",
       "<table border=\"1\" class=\"dataframe\">\n",
       "  <thead>\n",
       "    <tr style=\"text-align: right;\">\n",
       "      <th></th>\n",
       "      <th>threshold</th>\n",
       "      <th>tp</th>\n",
       "      <th>fp</th>\n",
       "      <th>fn</th>\n",
       "      <th>tn</th>\n",
       "    </tr>\n",
       "  </thead>\n",
       "  <tbody>\n",
       "    <tr>\n",
       "      <th>0</th>\n",
       "      <td>0.0</td>\n",
       "      <td>631</td>\n",
       "      <td>1694</td>\n",
       "      <td>0</td>\n",
       "      <td>0</td>\n",
       "    </tr>\n",
       "    <tr>\n",
       "      <th>10</th>\n",
       "      <td>0.1</td>\n",
       "      <td>593</td>\n",
       "      <td>860</td>\n",
       "      <td>38</td>\n",
       "      <td>834</td>\n",
       "    </tr>\n",
       "    <tr>\n",
       "      <th>20</th>\n",
       "      <td>0.2</td>\n",
       "      <td>537</td>\n",
       "      <td>591</td>\n",
       "      <td>94</td>\n",
       "      <td>1103</td>\n",
       "    </tr>\n",
       "    <tr>\n",
       "      <th>30</th>\n",
       "      <td>0.3</td>\n",
       "      <td>474</td>\n",
       "      <td>377</td>\n",
       "      <td>157</td>\n",
       "      <td>1317</td>\n",
       "    </tr>\n",
       "    <tr>\n",
       "      <th>40</th>\n",
       "      <td>0.4</td>\n",
       "      <td>405</td>\n",
       "      <td>258</td>\n",
       "      <td>226</td>\n",
       "      <td>1436</td>\n",
       "    </tr>\n",
       "    <tr>\n",
       "      <th>50</th>\n",
       "      <td>0.5</td>\n",
       "      <td>330</td>\n",
       "      <td>177</td>\n",
       "      <td>301</td>\n",
       "      <td>1517</td>\n",
       "    </tr>\n",
       "    <tr>\n",
       "      <th>60</th>\n",
       "      <td>0.6</td>\n",
       "      <td>246</td>\n",
       "      <td>101</td>\n",
       "      <td>385</td>\n",
       "      <td>1593</td>\n",
       "    </tr>\n",
       "    <tr>\n",
       "      <th>70</th>\n",
       "      <td>0.7</td>\n",
       "      <td>117</td>\n",
       "      <td>29</td>\n",
       "      <td>514</td>\n",
       "      <td>1665</td>\n",
       "    </tr>\n",
       "    <tr>\n",
       "      <th>80</th>\n",
       "      <td>0.8</td>\n",
       "      <td>15</td>\n",
       "      <td>0</td>\n",
       "      <td>616</td>\n",
       "      <td>1694</td>\n",
       "    </tr>\n",
       "    <tr>\n",
       "      <th>90</th>\n",
       "      <td>0.9</td>\n",
       "      <td>0</td>\n",
       "      <td>0</td>\n",
       "      <td>631</td>\n",
       "      <td>1694</td>\n",
       "    </tr>\n",
       "    <tr>\n",
       "      <th>100</th>\n",
       "      <td>1.0</td>\n",
       "      <td>0</td>\n",
       "      <td>0</td>\n",
       "      <td>631</td>\n",
       "      <td>1694</td>\n",
       "    </tr>\n",
       "  </tbody>\n",
       "</table>\n",
       "</div>"
      ],
      "text/plain": [
       "     threshold   tp    fp   fn    tn\n",
       "0          0.0  631  1694    0     0\n",
       "10         0.1  593   860   38   834\n",
       "20         0.2  537   591   94  1103\n",
       "30         0.3  474   377  157  1317\n",
       "40         0.4  405   258  226  1436\n",
       "50         0.5  330   177  301  1517\n",
       "60         0.6  246   101  385  1593\n",
       "70         0.7  117    29  514  1665\n",
       "80         0.8   15     0  616  1694\n",
       "90         0.9    0     0  631  1694\n",
       "100        1.0    0     0  631  1694"
      ]
     },
     "execution_count": 69,
     "metadata": {},
     "output_type": "execute_result"
    }
   ],
   "source": [
    "df_scores[::10]"
   ]
  },
  {
   "cell_type": "code",
   "execution_count": 70,
   "id": "6a46bfc5",
   "metadata": {},
   "outputs": [],
   "source": [
    "df_scores['fpr'] = df_scores['fp'] / (df_scores['fp'] + df_scores['tn'])\n",
    "# FP / FP + TN\n",
    "df_scores['tpr'] = df_scores['tp'] / (df_scores['tp'] + df_scores['fn'])\n",
    "# TP / TP + FN"
   ]
  },
  {
   "cell_type": "code",
   "execution_count": 71,
   "id": "6a658012",
   "metadata": {},
   "outputs": [
    {
     "data": {
      "text/html": [
       "<div>\n",
       "<style scoped>\n",
       "    .dataframe tbody tr th:only-of-type {\n",
       "        vertical-align: middle;\n",
       "    }\n",
       "\n",
       "    .dataframe tbody tr th {\n",
       "        vertical-align: top;\n",
       "    }\n",
       "\n",
       "    .dataframe thead th {\n",
       "        text-align: right;\n",
       "    }\n",
       "</style>\n",
       "<table border=\"1\" class=\"dataframe\">\n",
       "  <thead>\n",
       "    <tr style=\"text-align: right;\">\n",
       "      <th></th>\n",
       "      <th>threshold</th>\n",
       "      <th>tp</th>\n",
       "      <th>fp</th>\n",
       "      <th>fn</th>\n",
       "      <th>tn</th>\n",
       "      <th>fpr</th>\n",
       "      <th>tpr</th>\n",
       "    </tr>\n",
       "  </thead>\n",
       "  <tbody>\n",
       "    <tr>\n",
       "      <th>0</th>\n",
       "      <td>0.0</td>\n",
       "      <td>631</td>\n",
       "      <td>1694</td>\n",
       "      <td>0</td>\n",
       "      <td>0</td>\n",
       "      <td>1.000000</td>\n",
       "      <td>1.000000</td>\n",
       "    </tr>\n",
       "    <tr>\n",
       "      <th>10</th>\n",
       "      <td>0.1</td>\n",
       "      <td>593</td>\n",
       "      <td>860</td>\n",
       "      <td>38</td>\n",
       "      <td>834</td>\n",
       "      <td>0.507674</td>\n",
       "      <td>0.939778</td>\n",
       "    </tr>\n",
       "    <tr>\n",
       "      <th>20</th>\n",
       "      <td>0.2</td>\n",
       "      <td>537</td>\n",
       "      <td>591</td>\n",
       "      <td>94</td>\n",
       "      <td>1103</td>\n",
       "      <td>0.348878</td>\n",
       "      <td>0.851030</td>\n",
       "    </tr>\n",
       "    <tr>\n",
       "      <th>30</th>\n",
       "      <td>0.3</td>\n",
       "      <td>474</td>\n",
       "      <td>377</td>\n",
       "      <td>157</td>\n",
       "      <td>1317</td>\n",
       "      <td>0.222550</td>\n",
       "      <td>0.751189</td>\n",
       "    </tr>\n",
       "    <tr>\n",
       "      <th>40</th>\n",
       "      <td>0.4</td>\n",
       "      <td>405</td>\n",
       "      <td>258</td>\n",
       "      <td>226</td>\n",
       "      <td>1436</td>\n",
       "      <td>0.152302</td>\n",
       "      <td>0.641838</td>\n",
       "    </tr>\n",
       "    <tr>\n",
       "      <th>50</th>\n",
       "      <td>0.5</td>\n",
       "      <td>330</td>\n",
       "      <td>177</td>\n",
       "      <td>301</td>\n",
       "      <td>1517</td>\n",
       "      <td>0.104486</td>\n",
       "      <td>0.522979</td>\n",
       "    </tr>\n",
       "    <tr>\n",
       "      <th>60</th>\n",
       "      <td>0.6</td>\n",
       "      <td>246</td>\n",
       "      <td>101</td>\n",
       "      <td>385</td>\n",
       "      <td>1593</td>\n",
       "      <td>0.059622</td>\n",
       "      <td>0.389857</td>\n",
       "    </tr>\n",
       "    <tr>\n",
       "      <th>70</th>\n",
       "      <td>0.7</td>\n",
       "      <td>117</td>\n",
       "      <td>29</td>\n",
       "      <td>514</td>\n",
       "      <td>1665</td>\n",
       "      <td>0.017119</td>\n",
       "      <td>0.185420</td>\n",
       "    </tr>\n",
       "    <tr>\n",
       "      <th>80</th>\n",
       "      <td>0.8</td>\n",
       "      <td>15</td>\n",
       "      <td>0</td>\n",
       "      <td>616</td>\n",
       "      <td>1694</td>\n",
       "      <td>0.000000</td>\n",
       "      <td>0.023772</td>\n",
       "    </tr>\n",
       "    <tr>\n",
       "      <th>90</th>\n",
       "      <td>0.9</td>\n",
       "      <td>0</td>\n",
       "      <td>0</td>\n",
       "      <td>631</td>\n",
       "      <td>1694</td>\n",
       "      <td>0.000000</td>\n",
       "      <td>0.000000</td>\n",
       "    </tr>\n",
       "    <tr>\n",
       "      <th>100</th>\n",
       "      <td>1.0</td>\n",
       "      <td>0</td>\n",
       "      <td>0</td>\n",
       "      <td>631</td>\n",
       "      <td>1694</td>\n",
       "      <td>0.000000</td>\n",
       "      <td>0.000000</td>\n",
       "    </tr>\n",
       "  </tbody>\n",
       "</table>\n",
       "</div>"
      ],
      "text/plain": [
       "     threshold   tp    fp   fn    tn       fpr       tpr\n",
       "0          0.0  631  1694    0     0  1.000000  1.000000\n",
       "10         0.1  593   860   38   834  0.507674  0.939778\n",
       "20         0.2  537   591   94  1103  0.348878  0.851030\n",
       "30         0.3  474   377  157  1317  0.222550  0.751189\n",
       "40         0.4  405   258  226  1436  0.152302  0.641838\n",
       "50         0.5  330   177  301  1517  0.104486  0.522979\n",
       "60         0.6  246   101  385  1593  0.059622  0.389857\n",
       "70         0.7  117    29  514  1665  0.017119  0.185420\n",
       "80         0.8   15     0  616  1694  0.000000  0.023772\n",
       "90         0.9    0     0  631  1694  0.000000  0.000000\n",
       "100        1.0    0     0  631  1694  0.000000  0.000000"
      ]
     },
     "execution_count": 71,
     "metadata": {},
     "output_type": "execute_result"
    }
   ],
   "source": [
    "df_scores[::10]"
   ]
  },
  {
   "cell_type": "code",
   "execution_count": 72,
   "id": "de952b08",
   "metadata": {},
   "outputs": [],
   "source": [
    "conf_table_s = np.array(\n",
    "     # pred. pos. pred. neg. \n",
    "    [\n",
    "    [true_pos_s, false_neg_s],   # actual positive\n",
    "    [false_pos_s, true_neg_s]    # actual negative\n",
    "    ]\n",
    ")"
   ]
  },
  {
   "cell_type": "code",
   "execution_count": 73,
   "id": "5609009c",
   "metadata": {
    "scrolled": false
   },
   "outputs": [
    {
     "data": {
      "image/png": "[encoded data removed]",
      "text/plain": [
       "<Figure size 432x288 with 1 Axes>"
      ]
     },
     "metadata": {
      "needs_background": "light"
     },
     "output_type": "display_data"
    }
   ],
   "source": [
    "plt.plot(df_scores['threshold'], df_scores['tpr'], label='TPR')\n",
    "plt.plot(df_scores['threshold'], df_scores['fpr'], label='FPR')\n",
    "plt.legend()\n",
    "plt.xticks(np.linspace(0, 1, 11))\n",
    "plt.yticks(np.linspace(0, 1, 11))\n",
    "plt.xlabel('threshold')\n",
    "plt.show()"
   ]
  },
  {
   "cell_type": "markdown",
   "id": "57c75d6d",
   "metadata": {},
   "source": [
    "# Look at threshold on X-Axis and analyze TPR/FPR by Y-Axis\n",
    "\n",
    "<h3>ideally FPR should go down very fast (fewer false positives)\n",
    "BUT ideally TPR should go down SLOWLY (more true positives)\n",
    "   </h3>"
   ]
  },
  {
   "cell_type": "raw",
   "id": "24e717a1",
   "metadata": {},
   "source": [
    "To understand better the graph we create 2 models:\n",
    "a) random baseline model\n",
    "b) ideal baseline model"
   ]
  },
  {
   "cell_type": "raw",
   "id": "e76a9bca",
   "metadata": {},
   "source": [
    "Random model"
   ]
  },
  {
   "cell_type": "code",
   "execution_count": 74,
   "id": "0a81a0fd",
   "metadata": {},
   "outputs": [
    {
     "data": {
      "text/html": [
       "<div>\n",
       "<style scoped>\n",
       "    .dataframe tbody tr th:only-of-type {\n",
       "        vertical-align: middle;\n",
       "    }\n",
       "\n",
       "    .dataframe tbody tr th {\n",
       "        vertical-align: top;\n",
       "    }\n",
       "\n",
       "    .dataframe thead th {\n",
       "        text-align: right;\n",
       "    }\n",
       "</style>\n",
       "<table border=\"1\" class=\"dataframe\">\n",
       "  <thead>\n",
       "    <tr style=\"text-align: right;\">\n",
       "      <th></th>\n",
       "      <th>threshold</th>\n",
       "      <th>tp</th>\n",
       "      <th>tn</th>\n",
       "      <th>fp</th>\n",
       "      <th>fn</th>\n",
       "      <th>fpr</th>\n",
       "      <th>tpr</th>\n",
       "    </tr>\n",
       "  </thead>\n",
       "  <tbody>\n",
       "    <tr>\n",
       "      <th>0</th>\n",
       "      <td>0.0</td>\n",
       "      <td>631</td>\n",
       "      <td>0</td>\n",
       "      <td>1694</td>\n",
       "      <td>0</td>\n",
       "      <td>1.000000</td>\n",
       "      <td>1.000000</td>\n",
       "    </tr>\n",
       "    <tr>\n",
       "      <th>10</th>\n",
       "      <td>0.1</td>\n",
       "      <td>571</td>\n",
       "      <td>156</td>\n",
       "      <td>1538</td>\n",
       "      <td>60</td>\n",
       "      <td>0.907910</td>\n",
       "      <td>0.904913</td>\n",
       "    </tr>\n",
       "    <tr>\n",
       "      <th>20</th>\n",
       "      <td>0.2</td>\n",
       "      <td>511</td>\n",
       "      <td>331</td>\n",
       "      <td>1363</td>\n",
       "      <td>120</td>\n",
       "      <td>0.804604</td>\n",
       "      <td>0.809826</td>\n",
       "    </tr>\n",
       "    <tr>\n",
       "      <th>30</th>\n",
       "      <td>0.3</td>\n",
       "      <td>445</td>\n",
       "      <td>498</td>\n",
       "      <td>1196</td>\n",
       "      <td>186</td>\n",
       "      <td>0.706021</td>\n",
       "      <td>0.705230</td>\n",
       "    </tr>\n",
       "    <tr>\n",
       "      <th>40</th>\n",
       "      <td>0.4</td>\n",
       "      <td>381</td>\n",
       "      <td>651</td>\n",
       "      <td>1043</td>\n",
       "      <td>250</td>\n",
       "      <td>0.615702</td>\n",
       "      <td>0.603803</td>\n",
       "    </tr>\n",
       "    <tr>\n",
       "      <th>50</th>\n",
       "      <td>0.5</td>\n",
       "      <td>324</td>\n",
       "      <td>824</td>\n",
       "      <td>870</td>\n",
       "      <td>307</td>\n",
       "      <td>0.513577</td>\n",
       "      <td>0.513471</td>\n",
       "    </tr>\n",
       "    <tr>\n",
       "      <th>60</th>\n",
       "      <td>0.6</td>\n",
       "      <td>263</td>\n",
       "      <td>1003</td>\n",
       "      <td>691</td>\n",
       "      <td>368</td>\n",
       "      <td>0.407910</td>\n",
       "      <td>0.416799</td>\n",
       "    </tr>\n",
       "    <tr>\n",
       "      <th>70</th>\n",
       "      <td>0.7</td>\n",
       "      <td>188</td>\n",
       "      <td>1181</td>\n",
       "      <td>513</td>\n",
       "      <td>443</td>\n",
       "      <td>0.302834</td>\n",
       "      <td>0.297940</td>\n",
       "    </tr>\n",
       "    <tr>\n",
       "      <th>80</th>\n",
       "      <td>0.8</td>\n",
       "      <td>126</td>\n",
       "      <td>1337</td>\n",
       "      <td>357</td>\n",
       "      <td>505</td>\n",
       "      <td>0.210744</td>\n",
       "      <td>0.199683</td>\n",
       "    </tr>\n",
       "    <tr>\n",
       "      <th>90</th>\n",
       "      <td>0.9</td>\n",
       "      <td>65</td>\n",
       "      <td>1519</td>\n",
       "      <td>175</td>\n",
       "      <td>566</td>\n",
       "      <td>0.103306</td>\n",
       "      <td>0.103011</td>\n",
       "    </tr>\n",
       "    <tr>\n",
       "      <th>100</th>\n",
       "      <td>1.0</td>\n",
       "      <td>0</td>\n",
       "      <td>1694</td>\n",
       "      <td>0</td>\n",
       "      <td>631</td>\n",
       "      <td>0.000000</td>\n",
       "      <td>0.000000</td>\n",
       "    </tr>\n",
       "  </tbody>\n",
       "</table>\n",
       "</div>"
      ],
      "text/plain": [
       "     threshold   tp    tn    fp   fn       fpr       tpr\n",
       "0          0.0  631     0  1694    0  1.000000  1.000000\n",
       "10         0.1  571   156  1538   60  0.907910  0.904913\n",
       "20         0.2  511   331  1363  120  0.804604  0.809826\n",
       "30         0.3  445   498  1196  186  0.706021  0.705230\n",
       "40         0.4  381   651  1043  250  0.615702  0.603803\n",
       "50         0.5  324   824   870  307  0.513577  0.513471\n",
       "60         0.6  263  1003   691  368  0.407910  0.416799\n",
       "70         0.7  188  1181   513  443  0.302834  0.297940\n",
       "80         0.8  126  1337   357  505  0.210744  0.199683\n",
       "90         0.9   65  1519   175  566  0.103306  0.103011\n",
       "100        1.0    0  1694     0  631  0.000000  0.000000"
      ]
     },
     "execution_count": 74,
     "metadata": {},
     "output_type": "execute_result"
    }
   ],
   "source": [
    "np.random.seed(1)\n",
    "y_rand = np.random.uniform(0, 1, len(y_valid))\n",
    "# as if `y_rand` has predictions\n",
    "# use function\n",
    "df_rand = fpr_tpr_df(y_valid, y_rand)\n",
    "df_rand[::10]"
   ]
  },
  {
   "cell_type": "code",
   "execution_count": 75,
   "id": "3c09070a",
   "metadata": {
    "scrolled": false
   },
   "outputs": [
    {
     "data": {
      "image/png": "[encoded data removed]",
      "text/plain": [
       "<Figure size 432x288 with 1 Axes>"
      ]
     },
     "metadata": {
      "needs_background": "light"
     },
     "output_type": "display_data"
    }
   ],
   "source": [
    "plt.plot(df_rand['threshold'], df_rand['tpr'], label='TPR')\n",
    "plt.plot(df_rand['threshold'], df_rand['fpr'], label='FPR')\n",
    "plt.legend()\n",
    "plt.xticks(np.linspace(0, 1, 11))\n",
    "plt.yticks(np.linspace(0, 1, 11))\n",
    "plt.xlabel('thresholds')\n",
    "plt.show()\n",
    "# if FPR is 100% -> all non-churning customers\n",
    "# are predicted to be churning\n",
    "\n",
    "# if TPR is 100% -> all churning customers are really churning"
   ]
  },
  {
   "cell_type": "markdown",
   "id": "556b3289",
   "metadata": {},
   "source": [
    "# Look at threshold on X-Axis and analyze TPR/FPR by Y-Axis"
   ]
  },
  {
   "cell_type": "raw",
   "id": "a3759c3f",
   "metadata": {},
   "source": [
    "Ideal model"
   ]
  },
  {
   "cell_type": "code",
   "execution_count": 76,
   "id": "58bd0632",
   "metadata": {},
   "outputs": [],
   "source": [
    "# take data from validation set\n",
    "num_neg = (y_valid == 0).sum()\n",
    "num_pos = (y_valid == 1).sum()\n",
    "\n",
    "y_ideal = np.repeat([0, 1], [num_neg, num_pos])\n",
    "y_predIdeal = np.linspace(0, 1, num_neg + num_pos)\n",
    "\n",
    "df_ideal = fpr_tpr_df(y_ideal, y_predIdeal)"
   ]
  },
  {
   "cell_type": "code",
   "execution_count": 77,
   "id": "7bd90e3c",
   "metadata": {},
   "outputs": [
    {
     "data": {
      "image/png": "[encoded data removed]",
      "text/plain": [
       "<Figure size 432x288 with 1 Axes>"
      ]
     },
     "metadata": {
      "needs_background": "light"
     },
     "output_type": "display_data"
    }
   ],
   "source": [
    "plt.plot(df_ideal['threshold'], df_ideal['tpr'], label='TPR')\n",
    "plt.plot(df_ideal['threshold'], df_ideal['fpr'], label='FPR')\n",
    "plt.legend()\n",
    "plt.xticks(np.linspace(0, 1, 11))\n",
    "plt.yticks(np.linspace(0, 1, 11))\n",
    "plt.xlabel('thresholds')\n",
    "plt.show()"
   ]
  },
  {
   "cell_type": "raw",
   "id": "9aebf175",
   "metadata": {},
   "source": [
    "as we can see before 0.74 threshold TRP predicts all correctly. And 0.74 is ideal spot: all churning are classified as churning and all non-churning are classified as non-churning (no FP)\n"
   ]
  },
  {
   "cell_type": "markdown",
   "id": "0cdcfc9f",
   "metadata": {},
   "source": [
    "# ROC Curve\n",
    "\n",
    "<h3>In ROC Curve FPR & TPR are plotted against each other instead of against various thresholds</h3>"
   ]
  },
  {
   "cell_type": "code",
   "execution_count": 78,
   "id": "72587a28",
   "metadata": {},
   "outputs": [
    {
     "data": {
      "image/png": "[encoded data removed]",
      "text/plain": [
       "<Figure size 360x360 with 1 Axes>"
      ]
     },
     "metadata": {
      "needs_background": "light"
     },
     "output_type": "display_data"
    }
   ],
   "source": [
    "plt.figure(figsize=(5, 5))\n",
    "plt.plot(df_scores['fpr'], df_scores['tpr'], label='Model')\n",
    "plt.plot(df_rand['fpr'], df_rand['tpr'], label='Random')\n",
    "plt.plot(df_ideal['fpr'], df_ideal['tpr'], label='Ideal')\n",
    "\n",
    "plt.title('ROC Curve')\n",
    "plt.xlabel('False Positive Rate')\n",
    "plt.ylabel('True Positive Rate')\n",
    "plt.legend()\n",
    "plt.show()"
   ]
  },
  {
   "cell_type": "raw",
   "id": "7447f194",
   "metadata": {},
   "source": [
    "Our model should be as close as possible to Ideal curve and\n",
    "as far as possible from Random curve. Top left corner is \"Ideal Spot\" where 100% TPR and 0% FPR"
   ]
  },
  {
   "cell_type": "code",
   "execution_count": 79,
   "id": "640892eb",
   "metadata": {},
   "outputs": [
    {
     "data": {
      "image/png": "[encoded data removed]",
      "text/plain": [
       "<Figure size 360x360 with 1 Axes>"
      ]
     },
     "metadata": {
      "needs_background": "light"
     },
     "output_type": "display_data"
    }
   ],
   "source": [
    "# we can reduce the amount of code of the above graph:\n",
    "plt.figure(figsize=(5, 5))\n",
    "plt.plot(df_scores['fpr'], df_scores['tpr'])\n",
    "plt.plot([0, 1], [0, 1])\n",
    "\n",
    "plt.title('ROC Curve')\n",
    "plt.xlabel('False Positive Rate')\n",
    "plt.ylabel('True Positive Rate')\n",
    "plt.show()"
   ]
  },
  {
   "cell_type": "markdown",
   "id": "a58bf4f3",
   "metadata": {},
   "source": [
    "<h2>We can use sklearn not to build all the stuff by ourselves</h2>"
   ]
  },
  {
   "cell_type": "code",
   "execution_count": 80,
   "id": "44930c15",
   "metadata": {},
   "outputs": [
    {
     "data": {
      "image/png": "[encoded data removed]",
      "text/plain": [
       "<Figure size 360x360 with 1 Axes>"
      ]
     },
     "metadata": {
      "needs_background": "light"
     },
     "output_type": "display_data"
    }
   ],
   "source": [
    "from sklearn.metrics import roc_curve\n",
    "\n",
    "fpr, tpr, thresholds = roc_curve(y_valid, y_pred)\n",
    "\n",
    "plt.figure(figsize=(5, 5))\n",
    "plt.plot(fpr, tpr)\n",
    "plt.plot([0, 1], [0, 1])\n",
    "plt.title('ROC Curve')\n",
    "plt.xlabel('FPR')\n",
    "plt.ylabel('TPR')\n",
    "plt.show()"
   ]
  },
  {
   "cell_type": "raw",
   "id": "b4258e6f",
   "metadata": {},
   "source": [
    "Our model (blue line) is what we look at. It has thresholds, which are 1.0 in the left corner and 0.0 in the right corner.\n",
    "Ex: at 0.7 TPR is 0.2 and FPR is 0.02"
   ]
  },
  {
   "cell_type": "markdown",
   "id": "56b855f6",
   "metadata": {},
   "source": [
    "# Good model goes up as much as can before turning right. Poor models have more \"false positives\" from the beginning => go right earlier"
   ]
  },
  {
   "cell_type": "code",
   "execution_count": 81,
   "id": "727c52f2",
   "metadata": {},
   "outputs": [
    {
     "data": {
      "image/png": "[encoded data removed]",
      "text/plain": [
       "<Figure size 360x360 with 1 Axes>"
      ]
     },
     "metadata": {
      "needs_background": "light"
     },
     "output_type": "display_data"
    }
   ],
   "source": [
    "fpr_big, tpr_big, _ = roc_curve(y_valid, y_pred)\n",
    "fpr_small, tpr_small, _ = roc_curve(y_valid, y_predictSmall)\n",
    "\n",
    "plt.figure(figsize=(5, 5))\n",
    "\n",
    "plt.plot(fpr_big, tpr_big, label='large')\n",
    "plt.plot(fpr_small, tpr_small, label='small')\n",
    "plt.plot([0, 1], [0, 1])\n",
    "plt.xlabel('FPR')\n",
    "plt.ylabel('TPR')\n",
    "plt.title('ROC Curve')\n",
    "plt.legend()\n",
    "plt.show()"
   ]
  },
  {
   "cell_type": "markdown",
   "id": "33d8442a",
   "metadata": {},
   "source": [
    "<h3>AUC</h3>"
   ]
  },
  {
   "cell_type": "raw",
   "id": "12716005",
   "metadata": {},
   "source": [
    "When evaluating ROC Curve we want model to be as close to the \"ideal spot\" and as far from random baseline.\n",
    "\n",
    "Ideal is 1 or 100% and Random is 0.5 or 50%. Our model is somewhere between these figures. \n",
    "    0.6 - poor\n",
    "    0.7 - subpar, but OK\n",
    "    0.8 - pretty good\n",
    "    0.9 - excellent"
   ]
  },
  {
   "cell_type": "code",
   "execution_count": 82,
   "id": "bab4f172",
   "metadata": {
    "scrolled": true
   },
   "outputs": [
    {
     "data": {
      "text/plain": [
       "0.8389898532529277"
      ]
     },
     "execution_count": 82,
     "metadata": {},
     "output_type": "execute_result"
    }
   ],
   "source": [
    "from sklearn.metrics import auc\n",
    "auc(df_scores['fpr'], df_scores['tpr'])"
   ]
  },
  {
   "cell_type": "code",
   "execution_count": 83,
   "id": "9dbcb6cb",
   "metadata": {},
   "outputs": [
    {
     "data": {
      "text/plain": [
       "0.7904995163315289"
      ]
     },
     "execution_count": 83,
     "metadata": {},
     "output_type": "execute_result"
    }
   ],
   "source": [
    "df_score_small = fpr_tpr_df(y_valid, y_predictSmall)\n",
    "auc(df_score_small['fpr'], df_score_small['tpr'])"
   ]
  },
  {
   "cell_type": "markdown",
   "id": "db288975",
   "metadata": {},
   "source": [
    "**If we don't need ROC Curve itself, but only AUC, then we're able to use sklearn with pertinent method**"
   ]
  },
  {
   "cell_type": "code",
   "execution_count": 84,
   "id": "eeca2118",
   "metadata": {},
   "outputs": [
    {
     "data": {
      "text/plain": [
       "0.8393439509633142"
      ]
     },
     "execution_count": 84,
     "metadata": {},
     "output_type": "execute_result"
    }
   ],
   "source": [
    "from sklearn.metrics import roc_auc_score\n",
    "roc_auc_score(y_valid, y_pred)"
   ]
  },
  {
   "cell_type": "code",
   "execution_count": 85,
   "id": "83a6adbe",
   "metadata": {},
   "outputs": [
    {
     "data": {
      "text/plain": [
       "0.792368235423991"
      ]
     },
     "execution_count": 85,
     "metadata": {},
     "output_type": "execute_result"
    }
   ],
   "source": [
    "roc_auc_score(y_valid, y_predictSmall)"
   ]
  },
  {
   "cell_type": "raw",
   "id": "48a7c903",
   "metadata": {},
   "source": [
    "ROC curve & AUC tell us how well model separates `positive` and `negative` examples.\n",
    "+ AUC tells: prob. that a randomly selected pos. item will have a higher score than a randomly selected neg item (ranked higher in other words)"
   ]
  },
  {
   "cell_type": "code",
   "execution_count": 86,
   "id": "b5ae8299",
   "metadata": {},
   "outputs": [
    {
     "data": {
      "text/plain": [
       "0.8377"
      ]
     },
     "execution_count": 86,
     "metadata": {},
     "output_type": "execute_result"
    }
   ],
   "source": [
    "# len() of y_pred == y_valid =>\n",
    "# 1) select == 0 or 1 2) opt from y_pred\n",
    "neg = y_pred[y_valid == 0]\n",
    "pos = y_pred[y_valid == 1]\n",
    "\n",
    "np.random.seed(1)\n",
    "neg_choice = np.random.randint(low=0, high=len(neg), size=10000)\n",
    "pos_choice = np.random.randint(low=0, high=len(pos), size=10000)\n",
    "(pos[pos_choice] > neg[neg_choice]).mean()\n",
    "# prob. the score of pos. item is higher that\n",
    "# score of neg. item.\n",
    "# It roughly corresponds to AUC (and should do so)"
   ]
  },
  {
   "cell_type": "raw",
   "id": "c148a4bd",
   "metadata": {},
   "source": [
    "Random model only shuffles the pos. and neg. (churn & no-churn) customers => 50% prob of churning customer to be higher than no-churning "
   ]
  },
  {
   "cell_type": "markdown",
   "id": "183a7792",
   "metadata": {},
   "source": [
    "# Parameter Tuning"
   ]
  },
  {
   "cell_type": "raw",
   "id": "46c05b65",
   "metadata": {},
   "source": [
    "Holding `validation` dataset isn't always the best decision as our model may get confused on another data.\n",
    "Use `k-fold cross validation`.\n",
    "Divide dataset into 'k' fold. In each fold: Train on k-1 parts and validate on the remaining ones.\n",
    "!! We did split k-times, so we have full dataset every time\n",
    "Ex:\n",
    "    all data: [1, 2, 3]    Train    Validation\n",
    "    Fold 1: 1, 2, 3    ->   [2, 3]  [1]\n",
    "    Fold 2: 1, 2, 3    ->   [1, 3]  [2] \n",
    "    Fold 3: 1, 2, 3    ->   [1, 2]  [3]\n",
    "    \n",
    "+ process can be extended: select various random_state (seed)\n",
    "and you'll get much more verbose outcome"
   ]
  },
  {
   "cell_type": "code",
   "execution_count": 87,
   "id": "9b8f6d6f",
   "metadata": {},
   "outputs": [],
   "source": [
    "def train(df, y_part):\n",
    "    train = df[categorical + numerical].to_dict(orient='records')\n",
    "    dv = DictVectorizer(sparse=False)\n",
    "    dv.fit(train)\n",
    "    X = dv.transform(train)\n",
    "    \n",
    "    model = LogisticRegression(solver='liblinear')\n",
    "    model.fit(X, y_part)\n",
    "    \n",
    "    return dv, model\n",
    "\n",
    "def predict(df, dv, model):\n",
    "    valid = df[categorical + numerical].to_dict(orient='records')\n",
    "    X = dv.transform(valid)\n",
    "    y_pred = model.predict_proba(X)[:, 1]\n",
    "    \n",
    "    return y_pred"
   ]
  },
  {
   "cell_type": "code",
   "execution_count": 98,
   "id": "0db4c863",
   "metadata": {},
   "outputs": [],
   "source": [
    "from sklearn.model_selection import KFold\n",
    "kfold = KFold(n_splits=10, shuffle=True, random_state=1)\n",
    "\n",
    "aucs = []\n",
    "\n",
    "for trainIdx, validIdx in kfold.split(full_train):\n",
    "    \n",
    "# traverse 10 different splits of data\n",
    "    df_train = full_train.iloc[trainIdx]\n",
    "    df_valid = full_train.iloc[validIdx]\n",
    "    \n",
    "    y_train = df_train.churn.values\n",
    "    y_valid = df_valid.churn.values\n",
    "    \n",
    "    dv, model = train(df_train, y_train)\n",
    "    y_pred = predict(df_valid, dv, model)\n",
    "    \n",
    "    auc = roc_auc_score(y_valid, y_pred)\n",
    "    aucs.append(auc)"
   ]
  },
  {
   "cell_type": "code",
   "execution_count": 89,
   "id": "a60f1cc1",
   "metadata": {},
   "outputs": [
    {
     "data": {
      "text/plain": [
       "[0.849, 0.841, 0.859, 0.833, 0.824, 0.842, 0.844, 0.822, 0.845, 0.861]"
      ]
     },
     "execution_count": 89,
     "metadata": {},
     "output_type": "execute_result"
    }
   ],
   "source": [
    "[round(x, 3) for x in aucs]\n",
    "# as n_splits = 10 => 10 different numbers which are 10 \n",
    "# AUC scores evaluated on 10 diff. validation folds"
   ]
  },
  {
   "cell_type": "code",
   "execution_count": 90,
   "id": "47bcd73b",
   "metadata": {},
   "outputs": [
    {
     "name": "stdout",
     "output_type": "stream",
     "text": [
      "0.842 +- 0.012\n"
     ]
    }
   ],
   "source": [
    "# mean and std\n",
    "print(f\"{round(np.mean(aucs), 3)} +- {round(np.std(aucs), 3)}\")"
   ]
  },
  {
   "cell_type": "raw",
   "id": "2f5215b8",
   "metadata": {},
   "source": [
    "The more stable the model the better, hence std. mustn't jump too much"
   ]
  },
  {
   "cell_type": "markdown",
   "id": "5de7cd99",
   "metadata": {},
   "source": [
    "<h2>Let's find the best `C` for our model. I.e. best\n",
    "regularization</h2>"
   ]
  },
  {
   "cell_type": "code",
   "execution_count": 161,
   "id": "73648b5e",
   "metadata": {},
   "outputs": [],
   "source": [
    "def train(df, y_part, C):\n",
    "    train = df[categorical + numerical].to_dict(orient='records')\n",
    "    dv = DictVectorizer(sparse=False)\n",
    "    dv.fit(train)\n",
    "    X = dv.transform(train)\n",
    "    \n",
    "    model = LogisticRegression(solver='liblinear', C=C)\n",
    "    model.fit(X, y_part)\n",
    "    \n",
    "    return dv, model"
   ]
  },
  {
   "cell_type": "code",
   "execution_count": 162,
   "id": "60bf2e2c",
   "metadata": {},
   "outputs": [
    {
     "name": "stdout",
     "output_type": "stream",
     "text": [
      "C=0.001 auc = 0.825 +- 0.013\n",
      "C=0.01 auc = 0.839 +- 0.009\n",
      "C=0.1 auc = 0.841 +- 0.008\n",
      "C=0.5 auc = 0.841 +- 0.007\n",
      "C=1 auc = 0.841 +- 0.007\n",
      "C=10 auc = 0.841 +- 0.007\n"
     ]
    }
   ],
   "source": [
    "nfolds = 5\n",
    "kfold = KFold(n_splits=nfolds, shuffle=True, random_state=1)\n",
    "\n",
    "for C in [0.001, 0.01, 0.1, 0.5, 1, 10]:\n",
    "    aucs = []\n",
    "    \n",
    "    for trainIdx, validIdx in kfold.split(full_train):\n",
    "        df_train = full_train.iloc[trainIdx]\n",
    "        df_valid = full_train.iloc[validIdx]\n",
    "        \n",
    "        y_train = df_train.churn.values\n",
    "        y_valid = df_valid.churn.values\n",
    "        \n",
    "        dv, model = train(df_train, y_train, C=C)\n",
    "        y_pred = predict(df_valid, dv, model)\n",
    "        \n",
    "        auc = roc_auc_score(y_valid, y_pred)\n",
    "        aucs.append(auc)\n",
    "    \n",
    "    print(f\"C={C} auc = {round(np.mean(aucs), 3)} +- {round(np.std(aucs), 3)}\")\n",
    "    "
   ]
  },
  {
   "cell_type": "raw",
   "id": "ef3d5d8b",
   "metadata": {},
   "source": [
    "Take the one with smaller STD and bigger auc. If results are similar => take the one with smaller 'C' as it will assure the weights of the model will be smaller, hence better behaviour over real dataset.\n",
    "\n",
    "Best: C=0.5 auc = 0.841 +- 0.007"
   ]
  },
  {
   "cell_type": "markdown",
   "id": "f33f5d0d",
   "metadata": {},
   "source": [
    "# Using model"
   ]
  },
  {
   "cell_type": "code",
   "execution_count": 163,
   "id": "1a2e254f",
   "metadata": {},
   "outputs": [
    {
     "name": "stdout",
     "output_type": "stream",
     "text": [
      "0.858\n"
     ]
    }
   ],
   "source": [
    "y_train = full_train.churn.values\n",
    "y_test = df_test.churn.values\n",
    "\n",
    "dv, model = train(full_train, y_train, C=0.5)\n",
    "y_pred = predict(df_test, dv, model)\n",
    "\n",
    "auc = roc_auc_score(y_test, y_pred)\n",
    "print(f\"{round(auc, 3)}\")"
   ]
  },
  {
   "cell_type": "raw",
   "id": "2043d480",
   "metadata": {},
   "source": [
    "A little bit higher than 'C=0.5 auc = 0.841 +- 0.007', but practically the same. Just keep in mind that numbers shouldn't differ too much."
   ]
  },
  {
   "cell_type": "code",
   "execution_count": 164,
   "id": "66fbd46b",
   "metadata": {},
   "outputs": [],
   "source": [
    "def predict_single(customer, dv, model):\n",
    "    X = dv.transform([customer])\n",
    "    y_pred = model.predict_proba(X)[:, 1]\n",
    "    return y_pred[0]"
   ]
  },
  {
   "cell_type": "code",
   "execution_count": 165,
   "id": "dcecf7f6",
   "metadata": {},
   "outputs": [],
   "source": [
    "customer = {\n",
    "    'customerid': '8879-zkjof',\n",
    "    'gender': 'female',\n",
    "    'seniorcitizen': 0,\n",
    "    'partner': 'no',\n",
    "    'dependents': 'no',\n",
    "    'tenure': 41,\n",
    "    'phoneservice': 'yes',\n",
    "    'multiplelines': 'no',\n",
    "    'internetservice': 'dsl',\n",
    "    'onlinesecurity': 'yes',\n",
    "    'onlinebackup': 'no',\n",
    "    'deviceprotection': 'yes',\n",
    "    'techsupport': 'yes',\n",
    "    'streamingtv': 'yes',\n",
    "    'streamingmovies': 'yes',\n",
    "    'contract': 'one_year',\n",
    "    'paperlessbilling': 'yes',\n",
    "    'paymentmethod': 'bank_transfer_(automatic)',\n",
    "    'monthlycharges': 79.85,\n",
    "    'totalcharges': 3320.75,\n",
    "}"
   ]
  },
  {
   "cell_type": "code",
   "execution_count": 166,
   "id": "ddd60e6f",
   "metadata": {},
   "outputs": [
    {
     "data": {
      "text/plain": [
       "0.059605948348965786"
      ]
     },
     "execution_count": 166,
     "metadata": {},
     "output_type": "execute_result"
    }
   ],
   "source": [
    "# to ease the process we\n",
    "# create separate function\n",
    "predict_single(customer, dv, model)"
   ]
  },
  {
   "cell_type": "markdown",
   "id": "0c4810b8",
   "metadata": {},
   "source": [
    "# Deployment"
   ]
  },
  {
   "cell_type": "code",
   "execution_count": 167,
   "id": "439bd767",
   "metadata": {},
   "outputs": [],
   "source": [
    "import pickle\n",
    "\n",
    "# 'b' is crucial as `pickle` uses\n",
    "# binary files for serializing\n",
    "with open('churn-model.bin', 'wb') as churn_model:\n",
    "    pickle.dump((dv, model), churn_model)"
   ]
  },
  {
   "cell_type": "code",
   "execution_count": 168,
   "id": "fac25ba7",
   "metadata": {},
   "outputs": [],
   "source": [
    "with open('churn-model.bin',  'rb') as churn_model_des:\n",
    "    dv, model = pickle.load(churn_model_des)"
   ]
  },
  {
   "cell_type": "raw",
   "id": "760175a3",
   "metadata": {},
   "source": [
    "We can modify the code of the service in such a way that model is integrated. But, it's not always the case as 1. service must be written in Python 2. we need to have full control over it\n",
    "=> solution is to put a model inside a web service, more precisely, microservice that cares only about model."
   ]
  },
  {
   "cell_type": "code",
   "execution_count": null,
   "id": "8a22f9f2",
   "metadata": {},
   "outputs": [],
   "source": []
  },
  {
   "cell_type": "code",
   "execution_count": 170,
   "id": "368351a6",
   "metadata": {},
   "outputs": [
    {
     "data": {
      "text/plain": [
       "{'churn': False, 'prob.': 0.06}"
      ]
     },
     "execution_count": 170,
     "metadata": {},
     "output_type": "execute_result"
    }
   ],
   "source": [
    "# we have site running and make request to it\n",
    "import requests\n",
    "\n",
    "url = 'http://192.168.0.20:8085/predict'\n",
    "response = requests.post(url, json=customer)\n",
    "result = response.json()\n",
    "result"
   ]
  },
  {
   "cell_type": "code",
   "execution_count": null,
   "id": "b3c2cb73",
   "metadata": {},
   "outputs": [],
   "source": []
  }
 ],
 "metadata": {
  "kernelspec": {
   "display_name": "Python 3",
   "language": "python",
   "name": "python3"
  },
  "language_info": {
   "codemirror_mode": {
    "name": "ipython",
    "version": 3
   },
   "file_extension": ".py",
   "mimetype": "text/x-python",
   "name": "python",
   "nbconvert_exporter": "python",
   "pygments_lexer": "ipython3",
   "version": "3.8.10"
  }
 },
 "nbformat": 4,
 "nbformat_minor": 5
}
