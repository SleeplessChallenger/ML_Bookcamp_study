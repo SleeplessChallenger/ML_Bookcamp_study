{
 "cells": [
  {
   "cell_type": "markdown",
   "id": "2c480354",
   "metadata": {},
   "source": [
    "<h3>Look out for comments starting with`#` in the cells\n",
    "and some comments in Markdown between the cells</h3>"
   ]
  },
  {
   "cell_type": "code",
   "execution_count": 231,
   "id": "84bd4932",
   "metadata": {},
   "outputs": [],
   "source": [
    "import numpy as np\n",
    "import pandas as pd\n",
    "\n",
    "from matplotlib import pyplot as plt\n",
    "import seaborn as sns\n",
    "%matplotlib inline"
   ]
  },
  {
   "cell_type": "code",
   "execution_count": 232,
   "id": "de09c1e4",
   "metadata": {},
   "outputs": [],
   "source": [
    "df = pd.read_csv('car_price.csv')"
   ]
  },
  {
   "cell_type": "code",
   "execution_count": 233,
   "id": "aed457ad",
   "metadata": {},
   "outputs": [
    {
     "data": {
      "text/plain": [
       "11914"
      ]
     },
     "execution_count": 233,
     "metadata": {},
     "output_type": "execute_result"
    }
   ],
   "source": [
    "len(df)"
   ]
  },
  {
   "cell_type": "code",
   "execution_count": 234,
   "id": "810ce1f5",
   "metadata": {},
   "outputs": [
    {
     "data": {
      "text/html": [
       "<div>\n",
       "<style scoped>\n",
       "    .dataframe tbody tr th:only-of-type {\n",
       "        vertical-align: middle;\n",
       "    }\n",
       "\n",
       "    .dataframe tbody tr th {\n",
       "        vertical-align: top;\n",
       "    }\n",
       "\n",
       "    .dataframe thead th {\n",
       "        text-align: right;\n",
       "    }\n",
       "</style>\n",
       "<table border=\"1\" class=\"dataframe\">\n",
       "  <thead>\n",
       "    <tr style=\"text-align: right;\">\n",
       "      <th></th>\n",
       "      <th>Make</th>\n",
       "      <th>Model</th>\n",
       "      <th>Year</th>\n",
       "      <th>Engine Fuel Type</th>\n",
       "      <th>Engine HP</th>\n",
       "      <th>Engine Cylinders</th>\n",
       "      <th>Transmission Type</th>\n",
       "      <th>Driven_Wheels</th>\n",
       "      <th>Number of Doors</th>\n",
       "      <th>Market Category</th>\n",
       "      <th>Vehicle Size</th>\n",
       "      <th>Vehicle Style</th>\n",
       "      <th>highway MPG</th>\n",
       "      <th>city mpg</th>\n",
       "      <th>Popularity</th>\n",
       "      <th>MSRP</th>\n",
       "    </tr>\n",
       "  </thead>\n",
       "  <tbody>\n",
       "    <tr>\n",
       "      <th>0</th>\n",
       "      <td>BMW</td>\n",
       "      <td>1 Series M</td>\n",
       "      <td>2011</td>\n",
       "      <td>premium unleaded (required)</td>\n",
       "      <td>335.0</td>\n",
       "      <td>6.0</td>\n",
       "      <td>MANUAL</td>\n",
       "      <td>rear wheel drive</td>\n",
       "      <td>2.0</td>\n",
       "      <td>Factory Tuner,Luxury,High-Performance</td>\n",
       "      <td>Compact</td>\n",
       "      <td>Coupe</td>\n",
       "      <td>26</td>\n",
       "      <td>19</td>\n",
       "      <td>3916</td>\n",
       "      <td>46135</td>\n",
       "    </tr>\n",
       "    <tr>\n",
       "      <th>1</th>\n",
       "      <td>BMW</td>\n",
       "      <td>1 Series</td>\n",
       "      <td>2011</td>\n",
       "      <td>premium unleaded (required)</td>\n",
       "      <td>300.0</td>\n",
       "      <td>6.0</td>\n",
       "      <td>MANUAL</td>\n",
       "      <td>rear wheel drive</td>\n",
       "      <td>2.0</td>\n",
       "      <td>Luxury,Performance</td>\n",
       "      <td>Compact</td>\n",
       "      <td>Convertible</td>\n",
       "      <td>28</td>\n",
       "      <td>19</td>\n",
       "      <td>3916</td>\n",
       "      <td>40650</td>\n",
       "    </tr>\n",
       "    <tr>\n",
       "      <th>2</th>\n",
       "      <td>BMW</td>\n",
       "      <td>1 Series</td>\n",
       "      <td>2011</td>\n",
       "      <td>premium unleaded (required)</td>\n",
       "      <td>300.0</td>\n",
       "      <td>6.0</td>\n",
       "      <td>MANUAL</td>\n",
       "      <td>rear wheel drive</td>\n",
       "      <td>2.0</td>\n",
       "      <td>Luxury,High-Performance</td>\n",
       "      <td>Compact</td>\n",
       "      <td>Coupe</td>\n",
       "      <td>28</td>\n",
       "      <td>20</td>\n",
       "      <td>3916</td>\n",
       "      <td>36350</td>\n",
       "    </tr>\n",
       "    <tr>\n",
       "      <th>3</th>\n",
       "      <td>BMW</td>\n",
       "      <td>1 Series</td>\n",
       "      <td>2011</td>\n",
       "      <td>premium unleaded (required)</td>\n",
       "      <td>230.0</td>\n",
       "      <td>6.0</td>\n",
       "      <td>MANUAL</td>\n",
       "      <td>rear wheel drive</td>\n",
       "      <td>2.0</td>\n",
       "      <td>Luxury,Performance</td>\n",
       "      <td>Compact</td>\n",
       "      <td>Coupe</td>\n",
       "      <td>28</td>\n",
       "      <td>18</td>\n",
       "      <td>3916</td>\n",
       "      <td>29450</td>\n",
       "    </tr>\n",
       "    <tr>\n",
       "      <th>4</th>\n",
       "      <td>BMW</td>\n",
       "      <td>1 Series</td>\n",
       "      <td>2011</td>\n",
       "      <td>premium unleaded (required)</td>\n",
       "      <td>230.0</td>\n",
       "      <td>6.0</td>\n",
       "      <td>MANUAL</td>\n",
       "      <td>rear wheel drive</td>\n",
       "      <td>2.0</td>\n",
       "      <td>Luxury</td>\n",
       "      <td>Compact</td>\n",
       "      <td>Convertible</td>\n",
       "      <td>28</td>\n",
       "      <td>18</td>\n",
       "      <td>3916</td>\n",
       "      <td>34500</td>\n",
       "    </tr>\n",
       "  </tbody>\n",
       "</table>\n",
       "</div>"
      ],
      "text/plain": [
       "  Make       Model  Year             Engine Fuel Type  Engine HP  \\\n",
       "0  BMW  1 Series M  2011  premium unleaded (required)      335.0   \n",
       "1  BMW    1 Series  2011  premium unleaded (required)      300.0   \n",
       "2  BMW    1 Series  2011  premium unleaded (required)      300.0   \n",
       "3  BMW    1 Series  2011  premium unleaded (required)      230.0   \n",
       "4  BMW    1 Series  2011  premium unleaded (required)      230.0   \n",
       "\n",
       "   Engine Cylinders Transmission Type     Driven_Wheels  Number of Doors  \\\n",
       "0               6.0            MANUAL  rear wheel drive              2.0   \n",
       "1               6.0            MANUAL  rear wheel drive              2.0   \n",
       "2               6.0            MANUAL  rear wheel drive              2.0   \n",
       "3               6.0            MANUAL  rear wheel drive              2.0   \n",
       "4               6.0            MANUAL  rear wheel drive              2.0   \n",
       "\n",
       "                         Market Category Vehicle Size Vehicle Style  \\\n",
       "0  Factory Tuner,Luxury,High-Performance      Compact         Coupe   \n",
       "1                     Luxury,Performance      Compact   Convertible   \n",
       "2                Luxury,High-Performance      Compact         Coupe   \n",
       "3                     Luxury,Performance      Compact         Coupe   \n",
       "4                                 Luxury      Compact   Convertible   \n",
       "\n",
       "   highway MPG  city mpg  Popularity   MSRP  \n",
       "0           26        19        3916  46135  \n",
       "1           28        19        3916  40650  \n",
       "2           28        20        3916  36350  \n",
       "3           28        18        3916  29450  \n",
       "4           28        18        3916  34500  "
      ]
     },
     "execution_count": 234,
     "metadata": {},
     "output_type": "execute_result"
    }
   ],
   "source": [
    "df.head()"
   ]
  },
  {
   "cell_type": "markdown",
   "id": "bd1535eb",
   "metadata": {},
   "source": [
    "<h3>As we see there're inconsistencies in the headers: a) some with `_`, others with spaces b) various capitalization.\n",
    "=> we need to normalize them</h3>"
   ]
  },
  {
   "cell_type": "code",
   "execution_count": 235,
   "id": "b5d4e5f1",
   "metadata": {},
   "outputs": [
    {
     "data": {
      "text/html": [
       "<div>\n",
       "<style scoped>\n",
       "    .dataframe tbody tr th:only-of-type {\n",
       "        vertical-align: middle;\n",
       "    }\n",
       "\n",
       "    .dataframe tbody tr th {\n",
       "        vertical-align: top;\n",
       "    }\n",
       "\n",
       "    .dataframe thead th {\n",
       "        text-align: right;\n",
       "    }\n",
       "</style>\n",
       "<table border=\"1\" class=\"dataframe\">\n",
       "  <thead>\n",
       "    <tr style=\"text-align: right;\">\n",
       "      <th></th>\n",
       "      <th>make</th>\n",
       "      <th>model</th>\n",
       "      <th>year</th>\n",
       "      <th>engine_fuel_type</th>\n",
       "      <th>engine_hp</th>\n",
       "      <th>engine_cylinders</th>\n",
       "      <th>transmission_type</th>\n",
       "      <th>driven_wheels</th>\n",
       "      <th>number_of_doors</th>\n",
       "      <th>market_category</th>\n",
       "      <th>vehicle_size</th>\n",
       "      <th>vehicle_style</th>\n",
       "      <th>highway_mpg</th>\n",
       "      <th>city_mpg</th>\n",
       "      <th>popularity</th>\n",
       "      <th>msrp</th>\n",
       "    </tr>\n",
       "  </thead>\n",
       "  <tbody>\n",
       "    <tr>\n",
       "      <th>0</th>\n",
       "      <td>BMW</td>\n",
       "      <td>1 Series M</td>\n",
       "      <td>2011</td>\n",
       "      <td>premium unleaded (required)</td>\n",
       "      <td>335.0</td>\n",
       "      <td>6.0</td>\n",
       "      <td>MANUAL</td>\n",
       "      <td>rear wheel drive</td>\n",
       "      <td>2.0</td>\n",
       "      <td>Factory Tuner,Luxury,High-Performance</td>\n",
       "      <td>Compact</td>\n",
       "      <td>Coupe</td>\n",
       "      <td>26</td>\n",
       "      <td>19</td>\n",
       "      <td>3916</td>\n",
       "      <td>46135</td>\n",
       "    </tr>\n",
       "    <tr>\n",
       "      <th>1</th>\n",
       "      <td>BMW</td>\n",
       "      <td>1 Series</td>\n",
       "      <td>2011</td>\n",
       "      <td>premium unleaded (required)</td>\n",
       "      <td>300.0</td>\n",
       "      <td>6.0</td>\n",
       "      <td>MANUAL</td>\n",
       "      <td>rear wheel drive</td>\n",
       "      <td>2.0</td>\n",
       "      <td>Luxury,Performance</td>\n",
       "      <td>Compact</td>\n",
       "      <td>Convertible</td>\n",
       "      <td>28</td>\n",
       "      <td>19</td>\n",
       "      <td>3916</td>\n",
       "      <td>40650</td>\n",
       "    </tr>\n",
       "    <tr>\n",
       "      <th>2</th>\n",
       "      <td>BMW</td>\n",
       "      <td>1 Series</td>\n",
       "      <td>2011</td>\n",
       "      <td>premium unleaded (required)</td>\n",
       "      <td>300.0</td>\n",
       "      <td>6.0</td>\n",
       "      <td>MANUAL</td>\n",
       "      <td>rear wheel drive</td>\n",
       "      <td>2.0</td>\n",
       "      <td>Luxury,High-Performance</td>\n",
       "      <td>Compact</td>\n",
       "      <td>Coupe</td>\n",
       "      <td>28</td>\n",
       "      <td>20</td>\n",
       "      <td>3916</td>\n",
       "      <td>36350</td>\n",
       "    </tr>\n",
       "    <tr>\n",
       "      <th>3</th>\n",
       "      <td>BMW</td>\n",
       "      <td>1 Series</td>\n",
       "      <td>2011</td>\n",
       "      <td>premium unleaded (required)</td>\n",
       "      <td>230.0</td>\n",
       "      <td>6.0</td>\n",
       "      <td>MANUAL</td>\n",
       "      <td>rear wheel drive</td>\n",
       "      <td>2.0</td>\n",
       "      <td>Luxury,Performance</td>\n",
       "      <td>Compact</td>\n",
       "      <td>Coupe</td>\n",
       "      <td>28</td>\n",
       "      <td>18</td>\n",
       "      <td>3916</td>\n",
       "      <td>29450</td>\n",
       "    </tr>\n",
       "    <tr>\n",
       "      <th>4</th>\n",
       "      <td>BMW</td>\n",
       "      <td>1 Series</td>\n",
       "      <td>2011</td>\n",
       "      <td>premium unleaded (required)</td>\n",
       "      <td>230.0</td>\n",
       "      <td>6.0</td>\n",
       "      <td>MANUAL</td>\n",
       "      <td>rear wheel drive</td>\n",
       "      <td>2.0</td>\n",
       "      <td>Luxury</td>\n",
       "      <td>Compact</td>\n",
       "      <td>Convertible</td>\n",
       "      <td>28</td>\n",
       "      <td>18</td>\n",
       "      <td>3916</td>\n",
       "      <td>34500</td>\n",
       "    </tr>\n",
       "  </tbody>\n",
       "</table>\n",
       "</div>"
      ],
      "text/plain": [
       "  make       model  year             engine_fuel_type  engine_hp  \\\n",
       "0  BMW  1 Series M  2011  premium unleaded (required)      335.0   \n",
       "1  BMW    1 Series  2011  premium unleaded (required)      300.0   \n",
       "2  BMW    1 Series  2011  premium unleaded (required)      300.0   \n",
       "3  BMW    1 Series  2011  premium unleaded (required)      230.0   \n",
       "4  BMW    1 Series  2011  premium unleaded (required)      230.0   \n",
       "\n",
       "   engine_cylinders transmission_type     driven_wheels  number_of_doors  \\\n",
       "0               6.0            MANUAL  rear wheel drive              2.0   \n",
       "1               6.0            MANUAL  rear wheel drive              2.0   \n",
       "2               6.0            MANUAL  rear wheel drive              2.0   \n",
       "3               6.0            MANUAL  rear wheel drive              2.0   \n",
       "4               6.0            MANUAL  rear wheel drive              2.0   \n",
       "\n",
       "                         market_category vehicle_size vehicle_style  \\\n",
       "0  Factory Tuner,Luxury,High-Performance      Compact         Coupe   \n",
       "1                     Luxury,Performance      Compact   Convertible   \n",
       "2                Luxury,High-Performance      Compact         Coupe   \n",
       "3                     Luxury,Performance      Compact         Coupe   \n",
       "4                                 Luxury      Compact   Convertible   \n",
       "\n",
       "   highway_mpg  city_mpg  popularity   msrp  \n",
       "0           26        19        3916  46135  \n",
       "1           28        19        3916  40650  \n",
       "2           28        20        3916  36350  \n",
       "3           28        18        3916  29450  \n",
       "4           28        18        3916  34500  "
      ]
     },
     "execution_count": 235,
     "metadata": {},
     "output_type": "execute_result"
    }
   ],
   "source": [
    "df.columns = df.columns.str.lower().str.replace(\" \", \"_\")\n",
    "# will replace spaces for _ and lower everything\n",
    "\n",
    "df.head()"
   ]
  },
  {
   "cell_type": "code",
   "execution_count": 236,
   "id": "46f5fcd6",
   "metadata": {},
   "outputs": [],
   "source": [
    "# above we deal with columns and here we deal with data itself\n",
    "# to remove inconsistencies from it\n",
    "temp_columns = list(df.dtypes[df.dtypes == 'object'].index)\n",
    "\n",
    "for col in temp_columns:\n",
    "    df[col] = df[col].str.lower().str.replace(\" \", \"_\")"
   ]
  },
  {
   "cell_type": "code",
   "execution_count": 237,
   "id": "a357bdc3",
   "metadata": {},
   "outputs": [
    {
     "data": {
      "text/plain": [
       "<AxesSubplot:xlabel='msrp', ylabel='Count'>"
      ]
     },
     "execution_count": 237,
     "metadata": {},
     "output_type": "execute_result"
    },
    {
     "data": {
      "image/png": "[encoded data removed]",
      "text/plain": [
       "<Figure size 432x288 with 1 Axes>"
      ]
     },
     "metadata": {
      "needs_background": "light"
     },
     "output_type": "display_data"
    }
   ],
   "source": [
    "# y is our target variable (msrp - manufacturer’s suggested retail price) which we want to predict. \n",
    "# One of the first steps of data analysis is visualization of target variable to see the distribution.\n",
    "sns.histplot(df.msrp, bins=50)\n",
    "# we see that we have long tail (to the right) => lots of cars with cheap price on the left side"
   ]
  },
  {
   "cell_type": "code",
   "execution_count": 238,
   "id": "490cbdb8",
   "metadata": {},
   "outputs": [
    {
     "data": {
      "text/plain": [
       "<AxesSubplot:xlabel='msrp', ylabel='Count'>"
      ]
     },
     "execution_count": 238,
     "metadata": {},
     "output_type": "execute_result"
    },
    {
     "data": {
      "image/png": "[encoded data removed]",
      "text/plain": [
       "<Figure size 432x288 with 1 Axes>"
      ]
     },
     "metadata": {
      "needs_background": "light"
     },
     "output_type": "display_data"
    }
   ],
   "source": [
    "sns.histplot(df.msrp[df.msrp < 100000])"
   ]
  },
  {
   "cell_type": "code",
   "execution_count": 239,
   "id": "0598aa5b",
   "metadata": {},
   "outputs": [
    {
     "data": {
      "text/plain": [
       "<AxesSubplot:xlabel='msrp', ylabel='Count'>"
      ]
     },
     "execution_count": 239,
     "metadata": {},
     "output_type": "execute_result"
    },
    {
     "data": {
      "image/png": "[encoded data removed]",
      "text/plain": [
       "<Figure size 432x288 with 1 Axes>"
      ]
     },
     "metadata": {
      "needs_background": "light"
     },
     "output_type": "display_data"
    }
   ],
   "source": [
    "# to deal with long tail we apply logarithm on it. *otherwise a) difficult to see distribution\n",
    "# b) model won't learn well enough log(variable + 1) where + 1 will prevent log 0 if there're\n",
    "# such cases. But numpy encompasses it\n",
    "log_msrp = np.log1p(df.msrp)\n",
    "sns.histplot(log_msrp)"
   ]
  },
  {
   "cell_type": "code",
   "execution_count": 240,
   "id": "2c3378a6",
   "metadata": {},
   "outputs": [
    {
     "data": {
      "text/plain": [
       "make                    0\n",
       "model                   0\n",
       "year                    0\n",
       "engine_fuel_type        3\n",
       "engine_hp              69\n",
       "engine_cylinders       30\n",
       "transmission_type       0\n",
       "driven_wheels           0\n",
       "number_of_doors         6\n",
       "market_category      3742\n",
       "vehicle_size            0\n",
       "vehicle_style           0\n",
       "highway_mpg             0\n",
       "city_mpg                0\n",
       "popularity              0\n",
       "msrp                    0\n",
       "dtype: int64"
      ]
     },
     "execution_count": 240,
     "metadata": {},
     "output_type": "execute_result"
    }
   ],
   "source": [
    "# check for missing values\n",
    "df.isnull().sum()"
   ]
  },
  {
   "cell_type": "code",
   "execution_count": 241,
   "id": "90b9d58a",
   "metadata": {},
   "outputs": [],
   "source": [
    "# remember that we get log of price and we need to `re-apply` it"
   ]
  },
  {
   "cell_type": "code",
   "execution_count": 242,
   "id": "433fb642",
   "metadata": {},
   "outputs": [
    {
     "data": {
      "text/plain": [
       "make                  0.000000\n",
       "model                 0.000000\n",
       "year                  0.000000\n",
       "engine_fuel_type      0.025180\n",
       "engine_hp             0.579151\n",
       "engine_cylinders      0.251805\n",
       "transmission_type     0.000000\n",
       "driven_wheels         0.000000\n",
       "number_of_doors       0.050361\n",
       "market_category      31.408427\n",
       "vehicle_size          0.000000\n",
       "vehicle_style         0.000000\n",
       "highway_mpg           0.000000\n",
       "city_mpg              0.000000\n",
       "popularity            0.000000\n",
       "msrp                  0.000000\n",
       "dtype: float64"
      ]
     },
     "execution_count": 242,
     "metadata": {},
     "output_type": "execute_result"
    }
   ],
   "source": [
    "df.isnull().sum()/len(df) * 100\n",
    "# roughly 31% is missing in market_category. We'll deal with it later"
   ]
  },
  {
   "cell_type": "markdown",
   "id": "0d075158",
   "metadata": {},
   "source": [
    "# Validation framework"
   ]
  },
  {
   "cell_type": "code",
   "execution_count": 243,
   "id": "7eaa1420",
   "metadata": {},
   "outputs": [
    {
     "data": {
      "text/plain": [
       "(7150, 2382, 2382)"
      ]
     },
     "execution_count": 243,
     "metadata": {},
     "output_type": "execute_result"
    }
   ],
   "source": [
    "# now we'll split dataset in 3 parts: training/validation/testing\n",
    "length = len(df)\n",
    "test_chunk = int(length * 0.2)\n",
    "valid_chunk = int(length * 0.2)\n",
    "train_chunk = length - (test_chunk + valid_chunk)\n",
    "\n",
    "np.random.seed(2)\n",
    "# to make the code be random, but reproducible we use `seed`\n",
    "idx = np.arange(length)\n",
    "np.random.shuffle(idx)\n",
    "# to make indicies go not in 0, 1, 45.., but 55, 4, 100 etc\n",
    "df_mixed = df.iloc[idx]\n",
    "\n",
    "df_train = df_mixed.iloc[:train_chunk].copy()\n",
    "df_valid = df_mixed.iloc[train_chunk:train_chunk + valid_chunk].copy()\n",
    "df_test = df_mixed.iloc[train_chunk + valid_chunk:].copy()\n",
    "len(df_train), len(df_valid), len(df_test)"
   ]
  },
  {
   "cell_type": "code",
   "execution_count": 244,
   "id": "9c759983",
   "metadata": {},
   "outputs": [],
   "source": [
    "# here we apply log to remove tail and hence create target variables\n",
    "# also we implement `values` to get not pd.Series, but np.ndarray (values themselves)\n",
    "y_test = np.log1p(df_test.msrp.values)\n",
    "y_valid = np.log1p(df_valid.msrp.values)\n",
    "y_train = np.log1p(df_train.msrp.values)"
   ]
  },
  {
   "cell_type": "code",
   "execution_count": 245,
   "id": "bc21af7a",
   "metadata": {},
   "outputs": [],
   "source": [
    "# to eradicate accidental use of our target variable, we remove it from train dataset\n",
    "del df_test['msrp']\n",
    "del df_train['msrp']\n",
    "del df_valid['msrp']"
   ]
  },
  {
   "cell_type": "code",
   "execution_count": 209,
   "id": "9a6dce2d",
   "metadata": {},
   "outputs": [
    {
     "data": {
      "text/html": [
       "<div>\n",
       "<style scoped>\n",
       "    .dataframe tbody tr th:only-of-type {\n",
       "        vertical-align: middle;\n",
       "    }\n",
       "\n",
       "    .dataframe tbody tr th {\n",
       "        vertical-align: top;\n",
       "    }\n",
       "\n",
       "    .dataframe thead th {\n",
       "        text-align: right;\n",
       "    }\n",
       "</style>\n",
       "<table border=\"1\" class=\"dataframe\">\n",
       "  <thead>\n",
       "    <tr style=\"text-align: right;\">\n",
       "      <th></th>\n",
       "      <th>make</th>\n",
       "      <th>model</th>\n",
       "      <th>year</th>\n",
       "      <th>engine_fuel_type</th>\n",
       "      <th>engine_hp</th>\n",
       "      <th>engine_cylinders</th>\n",
       "      <th>transmission_type</th>\n",
       "      <th>driven_wheels</th>\n",
       "      <th>number_of_doors</th>\n",
       "      <th>market_category</th>\n",
       "      <th>vehicle_size</th>\n",
       "      <th>vehicle_style</th>\n",
       "      <th>highway_mpg</th>\n",
       "      <th>city_mpg</th>\n",
       "      <th>popularity</th>\n",
       "    </tr>\n",
       "  </thead>\n",
       "  <tbody>\n",
       "    <tr>\n",
       "      <th>11195</th>\n",
       "      <td>gmc</td>\n",
       "      <td>vandura</td>\n",
       "      <td>1994</td>\n",
       "      <td>regular_unleaded</td>\n",
       "      <td>165.0</td>\n",
       "      <td>6.0</td>\n",
       "      <td>automatic</td>\n",
       "      <td>rear_wheel_drive</td>\n",
       "      <td>3.0</td>\n",
       "      <td>NaN</td>\n",
       "      <td>compact</td>\n",
       "      <td>cargo_van</td>\n",
       "      <td>20</td>\n",
       "      <td>15</td>\n",
       "      <td>549</td>\n",
       "    </tr>\n",
       "    <tr>\n",
       "      <th>673</th>\n",
       "      <td>mercedes-benz</td>\n",
       "      <td>600-class</td>\n",
       "      <td>1993</td>\n",
       "      <td>regular_unleaded</td>\n",
       "      <td>389.0</td>\n",
       "      <td>12.0</td>\n",
       "      <td>automatic</td>\n",
       "      <td>rear_wheel_drive</td>\n",
       "      <td>2.0</td>\n",
       "      <td>luxury</td>\n",
       "      <td>large</td>\n",
       "      <td>coupe</td>\n",
       "      <td>15</td>\n",
       "      <td>11</td>\n",
       "      <td>617</td>\n",
       "    </tr>\n",
       "    <tr>\n",
       "      <th>11270</th>\n",
       "      <td>toyota</td>\n",
       "      <td>venza</td>\n",
       "      <td>2013</td>\n",
       "      <td>regular_unleaded</td>\n",
       "      <td>268.0</td>\n",
       "      <td>6.0</td>\n",
       "      <td>automatic</td>\n",
       "      <td>all_wheel_drive</td>\n",
       "      <td>4.0</td>\n",
       "      <td>crossover,performance</td>\n",
       "      <td>midsize</td>\n",
       "      <td>wagon</td>\n",
       "      <td>25</td>\n",
       "      <td>18</td>\n",
       "      <td>2031</td>\n",
       "    </tr>\n",
       "    <tr>\n",
       "      <th>752</th>\n",
       "      <td>volvo</td>\n",
       "      <td>740</td>\n",
       "      <td>1992</td>\n",
       "      <td>regular_unleaded</td>\n",
       "      <td>114.0</td>\n",
       "      <td>4.0</td>\n",
       "      <td>automatic</td>\n",
       "      <td>rear_wheel_drive</td>\n",
       "      <td>4.0</td>\n",
       "      <td>luxury</td>\n",
       "      <td>midsize</td>\n",
       "      <td>sedan</td>\n",
       "      <td>26</td>\n",
       "      <td>18</td>\n",
       "      <td>870</td>\n",
       "    </tr>\n",
       "    <tr>\n",
       "      <th>3137</th>\n",
       "      <td>ford</td>\n",
       "      <td>crown_victoria</td>\n",
       "      <td>2010</td>\n",
       "      <td>flex-fuel_(unleaded/e85)</td>\n",
       "      <td>224.0</td>\n",
       "      <td>8.0</td>\n",
       "      <td>automatic</td>\n",
       "      <td>rear_wheel_drive</td>\n",
       "      <td>4.0</td>\n",
       "      <td>flex_fuel</td>\n",
       "      <td>large</td>\n",
       "      <td>sedan</td>\n",
       "      <td>24</td>\n",
       "      <td>16</td>\n",
       "      <td>5657</td>\n",
       "    </tr>\n",
       "  </tbody>\n",
       "</table>\n",
       "</div>"
      ],
      "text/plain": [
       "                make           model  year          engine_fuel_type  \\\n",
       "11195            gmc         vandura  1994          regular_unleaded   \n",
       "673    mercedes-benz       600-class  1993          regular_unleaded   \n",
       "11270         toyota           venza  2013          regular_unleaded   \n",
       "752            volvo             740  1992          regular_unleaded   \n",
       "3137            ford  crown_victoria  2010  flex-fuel_(unleaded/e85)   \n",
       "\n",
       "       engine_hp  engine_cylinders transmission_type     driven_wheels  \\\n",
       "11195      165.0               6.0         automatic  rear_wheel_drive   \n",
       "673        389.0              12.0         automatic  rear_wheel_drive   \n",
       "11270      268.0               6.0         automatic   all_wheel_drive   \n",
       "752        114.0               4.0         automatic  rear_wheel_drive   \n",
       "3137       224.0               8.0         automatic  rear_wheel_drive   \n",
       "\n",
       "       number_of_doors        market_category vehicle_size vehicle_style  \\\n",
       "11195              3.0                    NaN      compact     cargo_van   \n",
       "673                2.0                 luxury        large         coupe   \n",
       "11270              4.0  crossover,performance      midsize         wagon   \n",
       "752                4.0                 luxury      midsize         sedan   \n",
       "3137               4.0              flex_fuel        large         sedan   \n",
       "\n",
       "       highway_mpg  city_mpg  popularity  \n",
       "11195           20        15         549  \n",
       "673             15        11         617  \n",
       "11270           25        18        2031  \n",
       "752             26        18         870  \n",
       "3137            24        16        5657  "
      ]
     },
     "execution_count": 209,
     "metadata": {},
     "output_type": "execute_result"
    }
   ],
   "source": [
    "df_test.head()"
   ]
  },
  {
   "cell_type": "markdown",
   "id": "3bd26401",
   "metadata": {},
   "source": [
    "# Below is step by step explanation\n",
    "# of how to do regression. Final one will\n",
    "# be after current chunk"
   ]
  },
  {
   "cell_type": "code",
   "execution_count": 218,
   "id": "dfad81e3",
   "metadata": {},
   "outputs": [
    {
     "data": {
      "text/plain": [
       "222347.2221101062"
      ]
     },
     "execution_count": 218,
     "metadata": {},
     "output_type": "execute_result"
    }
   ],
   "source": [
    "# y = g(X) where g() is a model, X is a matrix dataset\n",
    "# (X is a matrix where the columns of rows are `features` of observations), y is predicted value\n",
    "# Ex: xi is a one row of observation with multiple features like make/model/year etc.\n",
    "# Let's look at makeshift example. `w` is weight, they're what our model learns when we train it\n",
    "w0 = 7.17\n",
    "w = [0.01, 0.04, 0.002]\n",
    "n = 3\n",
    "\n",
    "def linear_regression(xi):\n",
    "    result = w0\n",
    "    for i in range(n):\n",
    "        result += xi[i] * w[i]\n",
    "    return np.expm1(result)\n",
    "    # as we took log of the price, we need to undo it now by using exp(x + 1)\n",
    "\n",
    "# g(xi) = w0 + w1 * xi1 + w2 * xi2 + w3 * xi3\n",
    "xi = [453, 11, 86]\n",
    "# xi is a vector with n components\n",
    "# w is a vector with n components as well\n",
    "linear_regression(xi)\n",
    "\n",
    "# w0 is baseline - what we'll get if don't know anything (or everything will be 0)\n",
    "# `wi` will adjust price by adding this `wi`. But as we have `xi * wi`, result of xi1 * w1: 453 horses * 0.01 = 4.53\n",
    "# I.e each additional horse power adds 0.01 to the price. We have 453 and it results in 4.53 addition"
   ]
  },
  {
   "cell_type": "code",
   "execution_count": 219,
   "id": "00ed29de",
   "metadata": {},
   "outputs": [
    {
     "data": {
      "text/plain": [
       "177.22754151723709"
      ]
     },
     "execution_count": 219,
     "metadata": {},
     "output_type": "execute_result"
    }
   ],
   "source": [
    "# not fixed on 3 (as we use len())\n",
    "w = [0.01, 0.04, 0.002]\n",
    "xi = [453, 11, 86]\n",
    "w0 = 7.17\n",
    "\n",
    "def dot(xi, w):\n",
    "    n = len(w)\n",
    "    res = 0.0\n",
    "    for i in range(n):\n",
    "        res += xi[i] * w[i]\n",
    "    return np.expm1(res)\n",
    "\n",
    "def linear_regression(xi):\n",
    "    return w0 + dot(xi, w)\n",
    "\n",
    "linear_regression(xi)"
   ]
  },
  {
   "cell_type": "code",
   "execution_count": 220,
   "id": "d66972ec",
   "metadata": {},
   "outputs": [
    {
     "data": {
      "text/plain": [
       "12.312"
      ]
     },
     "execution_count": 220,
     "metadata": {},
     "output_type": "execute_result"
    }
   ],
   "source": [
    "# combining w0 & w + adding dummy 1 to xi\n",
    "w0 = 7.17\n",
    "w = [w0] + [0.01, 0.04, 0.002]\n",
    "xi = [453, 11, 86]\n",
    "\n",
    "\n",
    "def dot(xi, w):\n",
    "    n = len(w)\n",
    "    res = 0.0\n",
    "    for i in range(n):\n",
    "        res += xi[i] * w[i]\n",
    "    return res\n",
    "\n",
    "def linear_regression(xi, w):\n",
    "    xi = [1] + xi\n",
    "    return dot(xi, w)\n",
    "\n",
    "linear_regression(xi, w)"
   ]
  },
  {
   "cell_type": "code",
   "execution_count": 221,
   "id": "a88b6716",
   "metadata": {},
   "outputs": [
    {
     "data": {
      "text/plain": [
       "[13.765, 15.583, 12.398]"
      ]
     },
     "execution_count": 221,
     "metadata": {},
     "output_type": "execute_result"
    }
   ],
   "source": [
    "# X - matrix, xi is 0, 1, 2 of the matrix\n",
    "# and xi1/xi2/xi3 represent features (prcie/mpg etc)\n",
    "X = [[1, 148, 24, 1385],\n",
    "     [1, 132, 25, 2031],\n",
    "     [1, 453, 11, 86]]\n",
    "\n",
    "w0 = 7.17\n",
    "w = [w0] + [0.01, 0.04, 0.003]\n",
    "\n",
    "predictions = []\n",
    " \n",
    "for xi in X:\n",
    "    pred = dot(xi, w)\n",
    "    # dot() from above\n",
    "    predictions.append(pred)\n",
    "\n",
    "predictions"
   ]
  },
  {
   "cell_type": "code",
   "execution_count": 222,
   "id": "868529e6",
   "metadata": {},
   "outputs": [
    {
     "data": {
      "text/plain": [
       "array([13.765, 15.583, 12.398])"
      ]
     },
     "execution_count": 222,
     "metadata": {},
     "output_type": "execute_result"
    }
   ],
   "source": [
    "# X - matrix, xi is 0, 1, 2 of the matrix\n",
    "# and xi1/xi2/xi3 represent features (prcie/mpg etc)\n",
    "X = [[1, 148, 24, 1385],\n",
    "     [1, 132, 25, 2031],\n",
    "     [1, 453, 11, 86]]\n",
    "\n",
    "w0 = 7.17\n",
    "w = [w0] + [0.01, 0.04, 0.003]\n",
    "\n",
    "predictions = []\n",
    "\n",
    "X = np.array(X)\n",
    "predictions = X.dot(w)\n",
    "predictions"
   ]
  },
  {
   "cell_type": "markdown",
   "id": "61e59f7c",
   "metadata": {},
   "source": [
    "# End of explanation chunk"
   ]
  },
  {
   "cell_type": "raw",
   "id": "b3b217e2",
   "metadata": {},
   "source": [
    "How to get w (weights)? We use the target variable `y` to find such w that combines the features of X in the best possible way. “Best possible” in the case of linear regression means that it minimizes the error between the predictions g(X) and the actual target y."
   ]
  },
  {
   "cell_type": "code",
   "execution_count": 94,
   "id": "8922cb56",
   "metadata": {},
   "outputs": [],
   "source": [
    "# .shape[0] is rows dimension\n",
    "# .shape[1] is columns dimensio\n",
    "def train_linear_regression(X, y):\n",
    "    ones = np.ones(X.shape[0])\n",
    "    # it's for prepending matrix\n",
    "    # with 1 as we did above\n",
    "    X = np.column_stack([ones, X])\n",
    "    \n",
    "    # normal equation\n",
    "    # a: transpose & mult\n",
    "    XTX = X.T.dot(X)\n",
    "    # inverse of matrix\n",
    "    XTX_inv = np.linalg.inv(XTX)\n",
    "    w = XTX_inv.dot(X.T).dot(y)\n",
    "    \n",
    "    # split into bias (w0) and w \n",
    "    return w[0], w[1:]"
   ]
  },
  {
   "cell_type": "markdown",
   "id": "562f601c",
   "metadata": {},
   "source": [
    "# Baseline solution"
   ]
  },
  {
   "cell_type": "code",
   "execution_count": 95,
   "id": "73975ab3",
   "metadata": {},
   "outputs": [],
   "source": [
    "base = ['engine_hp', 'engine_cylinders', 'highway_mpg',\n",
    "        'city_mpg', 'popularity']"
   ]
  },
  {
   "cell_type": "code",
   "execution_count": 155,
   "id": "bd529e27",
   "metadata": {},
   "outputs": [],
   "source": [
    "def prepare_X(df):\n",
    "    df_num = df[base]\n",
    "    # remember missing values? Now we deal with them.\n",
    "    # 2 most popular approaches: fill with 0 or replace with avg().\n",
    "    # here we stick. with first\n",
    "    # + if recall linear regression formula, xi * wi. xi will be\n",
    "    # 0 and hence this variable won't have impact on the result\n",
    "    df_num = df_num.fillna(0)\n",
    "    # next step is to convert df to np.array()\n",
    "    # we can do it with either np.array() or .values\n",
    "    X = df_num.values\n",
    "    return X"
   ]
  },
  {
   "cell_type": "code",
   "execution_count": 162,
   "id": "2f8bc62b",
   "metadata": {},
   "outputs": [
    {
     "data": {
      "text/plain": [
       "array([ 9.54792783,  9.38733977,  9.67197758, ..., 10.30423015,\n",
       "       11.9778914 ,  9.99863111])"
      ]
     },
     "execution_count": 162,
     "metadata": {},
     "output_type": "execute_result"
    }
   ],
   "source": [
    "# above we trained the model\n",
    "# and now we apply it to the training dataset\n",
    "X_train = prepare_X(df_train)\n",
    "w0, w = train_linear_regression(X_train, y_train)\n",
    "y_pred = w0 + X_train.dot(w)\n",
    "y_pred"
   ]
  },
  {
   "cell_type": "code",
   "execution_count": 147,
   "id": "3e851546",
   "metadata": {
    "scrolled": true
   },
   "outputs": [
    {
     "data": {
      "text/plain": [
       "<matplotlib.legend.Legend at 0x7f81ff1cec70>"
      ]
     },
     "execution_count": 147,
     "metadata": {},
     "output_type": "execute_result"
    },
    {
     "data": {
      "image/png": "[encoded data removed]",
      "text/plain": [
       "<Figure size 432x288 with 1 Axes>"
      ]
     },
     "metadata": {
      "needs_background": "light"
     },
     "output_type": "display_data"
    }
   ],
   "source": [
    "# to observe `quality` of predictions, we use histplot.\n",
    "sns.histplot(y_pred, label='prediction', color = \"skyblue\")\n",
    "sns.histplot(y_train, label='target')\n",
    "plt.legend()\n",
    "# prediction power of the model isn't good enough\n",
    "# as we see difference"
   ]
  },
  {
   "cell_type": "code",
   "execution_count": 179,
   "id": "fb1a749f",
   "metadata": {
    "scrolled": true
   },
   "outputs": [],
   "source": [
    "# but looking at plots all the time isn't the best option.\n",
    "# Using special metrics is an option.\n",
    "# RMSE (root mean squared error) is the most common\n",
    "def rmse(y, y_pred):\n",
    "    # diff. between predicted and actual values + sum()\n",
    "    # PS: we don't have sum() as we do `elementwise` operation\n",
    "    # PS2: for each element of y_pred, we subtract the corresponding element of y\n",
    "    error = y_pred - y\n",
    "    # squared and `/m`\n",
    "    mse = (error ** 2).mean()\n",
    "    # root. is taken\n",
    "    return np.sqrt(mse)\n",
    "\n",
    "# comparing to another models' result can\n",
    "# tell us what is better.\n",
    "# The lower the rmse the better\n",
    "# because the model’s predictions are off by `result of rmse`"
   ]
  },
  {
   "cell_type": "code",
   "execution_count": 149,
   "id": "b10e5a4d",
   "metadata": {},
   "outputs": [
    {
     "data": {
      "text/plain": [
       "0.7554192603920132"
      ]
     },
     "execution_count": 149,
     "metadata": {},
     "output_type": "execute_result"
    }
   ],
   "source": [
    "rmse(y_train, y_pred)"
   ]
  },
  {
   "cell_type": "code",
   "execution_count": 150,
   "id": "122ae50a",
   "metadata": {},
   "outputs": [
    {
     "data": {
      "text/plain": [
       "array([ 9.86288014, 10.37013608,  9.69868129, ..., 10.4916625 ,\n",
       "        9.57091361, 10.40022147])"
      ]
     },
     "execution_count": 150,
     "metadata": {},
     "output_type": "execute_result"
    }
   ],
   "source": [
    "# apply model on the validation dataset.\n",
    "# i.e. we use `w0 & w` after having trained\n",
    "# it on the train dataset and now use them\n",
    "# to see how model behaves with dataset\n",
    "# it has never seen before\n",
    "X_val = prepare_X(df_valid)\n",
    "y_pred = w0 + X_val.dot(w)\n",
    "y_pred"
   ]
  },
  {
   "cell_type": "code",
   "execution_count": 151,
   "id": "dc82fcbe",
   "metadata": {},
   "outputs": [
    {
     "data": {
      "text/plain": [
       "0.7616530991301601"
      ]
     },
     "execution_count": 151,
     "metadata": {},
     "output_type": "execute_result"
    }
   ],
   "source": [
    "rmse(y_valid, y_pred)"
   ]
  },
  {
   "cell_type": "code",
   "execution_count": 103,
   "id": "026e24e4",
   "metadata": {},
   "outputs": [
    {
     "data": {
      "text/plain": [
       "2017"
      ]
     },
     "execution_count": 103,
     "metadata": {},
     "output_type": "execute_result"
    }
   ],
   "source": [
    "# feature engineering - process of adding/removing features.\n",
    "# Aim - improved rmse calculated on the validation data\n",
    "df_train.year.max()"
   ]
  },
  {
   "cell_type": "markdown",
   "id": "00e18139",
   "metadata": {},
   "source": [
    "# Feature engineering"
   ]
  },
  {
   "cell_type": "code",
   "execution_count": 104,
   "id": "320b7e48",
   "metadata": {},
   "outputs": [],
   "source": [
    "# let's update `prepare_X` function\n",
    "# 1. as we modify dataframe (`side effect`) then we'd\n",
    "# better create copy() of our dataset\n",
    "# 2 base.copy() is done for the same reason\n",
    "def prepare_X(df):\n",
    "    df = df.copy()\n",
    "    features = base.copy()\n",
    "    \n",
    "    # let's add `age` column. It'll be an elementwise operation\n",
    "    # where we find diff. between max()_year and every other element\n",
    "    df['age'] = 2017 - df.year\n",
    "    features.append('age')\n",
    "    \n",
    "    df_num = df[features]\n",
    "    df_num = df_num.fillna(0)\n",
    "    X = df_num.values\n",
    "    return X"
   ]
  },
  {
   "cell_type": "code",
   "execution_count": 180,
   "id": "f32c3387",
   "metadata": {},
   "outputs": [
    {
     "name": "stdout",
     "output_type": "stream",
     "text": [
      "(7150,) train\n",
      "(7150,) predictions\n",
      "training: 0.5058876515487503\n",
      "(2382,) train\n",
      "(2382,) predictions\n",
      "validation: 0.5076038849557034\n"
     ]
    }
   ],
   "source": [
    "X_train = prepare_X(df_train)\n",
    "w0, w = train_linear_regression(X_train, y_train)\n",
    "y_pred = w0 + X_train.dot(w)\n",
    "print('training:', rmse(y_train, y_pred))\n",
    "\n",
    "X_validation = prepare_X(df_valid)\n",
    "y_pred = w0 + X_validation.dot(w)\n",
    "print('validation:', rmse(y_valid, y_pred))"
   ]
  },
  {
   "cell_type": "code",
   "execution_count": 106,
   "id": "ec825fd1",
   "metadata": {},
   "outputs": [
    {
     "data": {
      "text/plain": [
       "<matplotlib.legend.Legend at 0x7f81fde13370>"
      ]
     },
     "execution_count": 106,
     "metadata": {},
     "output_type": "execute_result"
    },
    {
     "data": {
      "image/png": "[encoded data removed]",
      "text/plain": [
       "<Figure size 432x288 with 1 Axes>"
      ]
     },
     "metadata": {
      "needs_background": "light"
     },
     "output_type": "display_data"
    }
   ],
   "source": [
    "# as we can see from histogram  as well, result has imrpoved\n",
    "sns.histplot(y_pred, label='prediction', color = \"skyblue\")\n",
    "sns.histplot(y_valid, label='target')\n",
    "plt.legend()"
   ]
  },
  {
   "cell_type": "raw",
   "id": "abbc41ee",
   "metadata": {},
   "source": [
    "categorical variables can be either `string`-like or\n",
    "in disguise of numeric. Like number of doors in our\n",
    "dataset. It has 2,3,4 possible values.\n",
    "We can use categorical variables in a machine learning model\n",
    "in multiple ways. One of the simplest ways is to encode\n",
    "such variables by a set of binary features, with a separate\n",
    "feature for each distinct value. There're multiple ways of\n",
    "encoding binary data.\n",
    "In our case, we will create three binary features: num_doors_2, num_doors_3, and num_doors_4. If the car has two doors, num_doors_2 will be set to 1, and the rest will be 0. If the car has three doors, num_doors_3 will get the value 1, and the same goes for num_doors_4.  \n",
    "It's called `one-hot encoding`"
   ]
  },
  {
   "cell_type": "code",
   "execution_count": 109,
   "id": "e4958e04",
   "metadata": {},
   "outputs": [
    {
     "data": {
      "text/plain": [
       "chevrolet     1123\n",
       "ford           881\n",
       "volkswagen     809\n",
       "toyota         746\n",
       "dodge          626\n",
       "Name: make, dtype: int64"
      ]
     },
     "execution_count": 109,
     "metadata": {},
     "output_type": "execute_result"
    }
   ],
   "source": [
    "# take 5 most common makes\n",
    "df['make'].value_counts().head(5)"
   ]
  },
  {
   "cell_type": "code",
   "execution_count": 167,
   "id": "45aeedb5",
   "metadata": {},
   "outputs": [],
   "source": [
    "def prepare_X(df):\n",
    "    df = df.copy()\n",
    "    features = base.copy()\n",
    "\n",
    "    df['age'] = 2017 - df.year\n",
    "    features.append('age')\n",
    "\n",
    "    for i in [2, 3, 4]:\n",
    "        feature = 'num_doors_%s' %i\n",
    "        df[feature] = (df['number_of_doors'] == i).astype(int)\n",
    "        features.append(feature)\n",
    "\n",
    "    for j in ['chevrolet', 'ford', 'volkswagen', 'toyota', 'dodge']:\n",
    "        feature = 'is_make_%s' %j\n",
    "        df[feature] = (df['make'] == j).astype(int)\n",
    "        features.append(feature)\n",
    "\n",
    "    df_num = df[features]\n",
    "    df_num = df_num.fillna(0)\n",
    "    X = df_num.values\n",
    "    return X"
   ]
  },
  {
   "cell_type": "markdown",
   "id": "33282d8b",
   "metadata": {},
   "source": [
    "# ! We train model and get w0 & w then\n",
    "# apply on validation dataset. But we don't\n",
    "# train and don't get w0 & w from it"
   ]
  },
  {
   "cell_type": "code",
   "execution_count": 210,
   "id": "fc1f4df0",
   "metadata": {},
   "outputs": [
    {
     "name": "stdout",
     "output_type": "stream",
     "text": [
      "training: 0.5058876515487503\n",
      "validation: 0.5076038849557034\n"
     ]
    }
   ],
   "source": [
    "X_train = prepare_X(df_train)\n",
    "w0, w = train_linear_regression(X_train, y_train)\n",
    "y_pred = w0 + X_train.dot(w)\n",
    "print('training:', rmse(y_train, y_pred))\n",
    "\n",
    "X_valid = prepare_X(df_valid)\n",
    "y_pred = w0 + X_valid.dot(w)\n",
    "print('validation:', rmse(y_valid, y_pred))"
   ]
  },
  {
   "cell_type": "code",
   "execution_count": 211,
   "id": "5926acd5",
   "metadata": {},
   "outputs": [],
   "source": [
    "def prepare_X(df):\n",
    "    df = df.copy()\n",
    "    features = base.copy()\n",
    "\n",
    "    df['age'] = 2017 - df.year\n",
    "    features.append('age')\n",
    "    \n",
    "    for v in [2, 3, 4]:\n",
    "        feature = 'num_doors_%s' % v\n",
    "        df[feature] = (df['number_of_doors'] == v).astype(int)\n",
    "        features.append(feature)\n",
    "\n",
    "    for v in ['chevrolet', 'ford', 'volkswagen', 'toyota', 'dodge']:\n",
    "        feature = 'is_make_%s' % v\n",
    "        df[feature] = (df['make'] == v).astype(int)\n",
    "        features.append(feature)\n",
    "\n",
    "    for v in ['regular_unleaded', 'premium_unleaded_(required)', \n",
    "              'premium_unleaded_(recommended)', 'flex-fuel_(unleaded/e85)']:\n",
    "        feature = 'is_type_%s' % v\n",
    "        df[feature] = (df['engine_fuel_type'] == v).astype(int)\n",
    "        features.append(feature)\n",
    "\n",
    "    for v in ['automatic', 'manual', 'automated_manual']:\n",
    "        feature = 'is_transmission_%s' % v\n",
    "        df[feature] = (df['transmission_type'] == v).astype(int)\n",
    "        features.append(feature)\n",
    "        \n",
    "    df_num = df[features]\n",
    "    df_num = df_num.fillna(0)\n",
    "    X = df_num.values\n",
    "    return X"
   ]
  },
  {
   "cell_type": "code",
   "execution_count": 212,
   "id": "cc58e2d6",
   "metadata": {},
   "outputs": [
    {
     "name": "stdout",
     "output_type": "stream",
     "text": [
      "training: 0.4745380510924004\n",
      "validation: 0.4685879194659198\n"
     ]
    }
   ],
   "source": [
    "X_train = prepare_X(df_train)\n",
    "w0, w = train_linear_regression(X_train, y_train)\n",
    "y_pred = w0 + X_train.dot(w)\n",
    "print('training:', rmse(y_train, y_pred))\n",
    "\n",
    "X_valid = prepare_X(df_valid)\n",
    "y_pred = w0 + X_valid.dot(w)\n",
    "print('validation:', rmse(y_valid, y_pred))"
   ]
  },
  {
   "cell_type": "code",
   "execution_count": 213,
   "id": "f78e12a7",
   "metadata": {},
   "outputs": [],
   "source": [
    "def prepare_X(df):\n",
    "    df = df.copy()\n",
    "    features = base.copy()\n",
    "\n",
    "    df['age'] = 2017 - df.year\n",
    "    features.append('age')\n",
    "    \n",
    "    for v in [2, 3, 4]:\n",
    "        feature = 'num_doors_%s' % v\n",
    "        df[feature] = (df['number_of_doors'] == v).astype(int)\n",
    "        features.append(feature)\n",
    "\n",
    "    for v in ['chevrolet', 'ford', 'volkswagen', 'toyota', 'dodge']:\n",
    "        feature = 'is_make_%s' % v\n",
    "        df[feature] = (df['make'] == v).astype(int)\n",
    "        features.append(feature)\n",
    "\n",
    "    for v in ['regular_unleaded', 'premium_unleaded_(required)', \n",
    "              'premium_unleaded_(recommended)', 'flex-fuel_(unleaded/e85)']:\n",
    "        feature = 'is_type_%s' % v\n",
    "        df[feature] = (df['engine_fuel_type'] == v).astype(int)\n",
    "        features.append(feature)\n",
    "\n",
    "    for v in ['automatic', 'manual', 'automated_manual']:\n",
    "        feature = 'is_transmission_%s' % v\n",
    "        df[feature] = (df['transmission_type'] == v).astype(int)\n",
    "        features.append(feature)\n",
    "\n",
    "    for v in ['front_wheel_drive', 'rear_wheel_drive', 'all_wheel_drive', 'four_wheel_drive']:\n",
    "        feature = 'is_driven_wheens_%s' % v\n",
    "        df[feature] = (df['driven_wheels'] == v).astype(int)\n",
    "        features.append(feature)\n",
    "\n",
    "    for v in ['crossover', 'flex_fuel', 'luxury', 'luxury,performance', 'hatchback']:\n",
    "        feature = 'is_mc_%s' % v\n",
    "        df[feature] = (df['market_category'] == v).astype(int)\n",
    "        features.append(feature)\n",
    "\n",
    "    for v in ['compact', 'midsize', 'large']:\n",
    "        feature = 'is_size_%s' % v\n",
    "        df[feature] = (df['vehicle_size'] == v).astype(int)\n",
    "        features.append(feature)\n",
    "\n",
    "    for v in ['sedan', '4dr_suv', 'coupe', 'convertible', '4dr_hatchback']:\n",
    "        feature = 'is_style_%s' % v\n",
    "        df[feature] = (df['vehicle_style'] == v).astype(int)\n",
    "        features.append(feature)\n",
    "\n",
    "    df_num = df[features]\n",
    "    df_num = df_num.fillna(0)\n",
    "    X = df_num.values\n",
    "    return X"
   ]
  },
  {
   "cell_type": "code",
   "execution_count": 214,
   "id": "d560d58c",
   "metadata": {},
   "outputs": [
    {
     "name": "stdout",
     "output_type": "stream",
     "text": [
      "training: 1607.4898641126447\n",
      "validation: 830.8920785817741\n"
     ]
    }
   ],
   "source": [
    "X_train = prepare_X(df_train)\n",
    "w0, w = train_linear_regression(X_train, y_train)\n",
    "y_pred = w0 + X_train.dot(w)\n",
    "print('training:', rmse(y_train, y_pred))\n",
    "\n",
    "X_valid = prepare_X(df_valid)\n",
    "y_pred = w0 + X_valid.dot(w)\n",
    "print('validation:', rmse(y_valid, y_pred))"
   ]
  },
  {
   "cell_type": "markdown",
   "id": "6ebff07e",
   "metadata": {},
   "source": [
    "# Below one is dedicated to regularization"
   ]
  },
  {
   "cell_type": "code",
   "execution_count": 215,
   "id": "5c274053",
   "metadata": {},
   "outputs": [],
   "source": [
    "base = ['engine_hp', 'engine_cylinders', 'highway_mpg',\n",
    "        'city_mpg', 'popularity']"
   ]
  },
  {
   "cell_type": "code",
   "execution_count": 216,
   "id": "88c64e8d",
   "metadata": {},
   "outputs": [],
   "source": [
    "def train_linear_regression_reg(X, y, r=0.0):\n",
    "    ones = np.ones(X.shape[0])\n",
    "    X = np.column_stack([ones, X])\n",
    "    XTX = X.T.dot(X)\n",
    "    \n",
    "    reg = r * np.eye(XTX.shape[0])\n",
    "    XTX = XTX + reg\n",
    "    \n",
    "    XTX_inv = np.linalg.inv(XTX)\n",
    "    w = XTX_inv.dot(X.T).dot(y)\n",
    "    \n",
    "    return w[0], w[1:]\n",
    "# r is alf. The more r we add the smaller weights become"
   ]
  },
  {
   "cell_type": "raw",
   "id": "2e172aee",
   "metadata": {},
   "source": [
    "big numbers may appear due to `numerical instability`.\n",
    "Ex: one column may be a combination of various other ones.\n",
    "=> XTX becomes `undetermined` or `singular`. It means it's\n",
    "impossible to find an inverse for the matrix.\n",
    "Solution - `regularization`. Aim of regularization:\n",
    "to make sure that the inverse exists by forcing the matrix\n",
    "to be invertible. Regularization is an important concept in\n",
    "machine learning: it means “controlling” — controlling the\n",
    "weights of the model so that they behave correctly and\n",
    "don’t grow too large, as in our case.\n",
    "One way to do regularization is to add a small number to\n",
    "each diagonal element of the matrix. Regularized lienar regression\n",
    "is called ridge regression. Formula: (XTX + alf*I)^-1*Xt*y\n",
    "where alf - some number, I - identity matrix (ones on the main diagonal and zeros everywhere else)"
   ]
  },
  {
   "cell_type": "code",
   "execution_count": 217,
   "id": "711c54c0",
   "metadata": {},
   "outputs": [],
   "source": [
    "def prepare_X(df):\n",
    "    df = df.copy()\n",
    "    features = base.copy()\n",
    "    \n",
    "    df['age'] = 2017 - df.year\n",
    "    features.append('age')\n",
    "    \n",
    "    # inside loop 3 pd.Series will be created\n",
    "    for i in [2, 3, 4]:\n",
    "        feature = 'num_doors_%s' %i\n",
    "        # astype() converts. 0 to False and 1 to True\n",
    "        value = (df['number_of_doors'] == i).astype(int)\n",
    "        df[feature] = value\n",
    "        features.append(feature)\n",
    "    \n",
    "    for j in ['chevrolet', 'ford', 'volkswagen', 'toyota', 'dodge']:\n",
    "        feature = 'is_make%s' %j\n",
    "        df[feature] = (df['make'] == j).astype(int)\n",
    "        features.append(feature)\n",
    "    \n",
    "    for i in ['regular_unleaded', 'premium_unleaded_(required)', \n",
    "              'premium_unleaded_(recommended)', 'flex-fuel_(unleaded/e85)']:\n",
    "        \n",
    "        feature = 'is_type_%s' %i\n",
    "        df[feature] = (df['engine_fuel_type'] == i).astype(int)\n",
    "        features.append(feature)\n",
    "    \n",
    "    for i in ['automatic', 'manual', 'automated_manual']:\n",
    "        feature = 'is_transmission_%s' %i\n",
    "        df[feature] = (df['transmission_type'] == i).astype(int)\n",
    "        features.append(feature)\n",
    "    \n",
    "    for j in ['front_wheel_drive', 'rear_wheel_drive',\n",
    "              'all_wheel_drive', 'four_wheel_drive']:\n",
    "        \n",
    "        feature = 'is_driven_wheels_%s' %j\n",
    "        df[feature] = (df['driven_wheels'] == j).astype(int)\n",
    "        features.append(feature)\n",
    "    \n",
    "    for i in ['crossover', 'flex_fuel', 'luxury', \n",
    "              'luxury,performance', 'hatchback']:\n",
    "        \n",
    "        feature = 'is_mc_%s' %i\n",
    "        df[feature] = (df['market_category'] == i).astype(int)\n",
    "        features.append(feature)\n",
    "    \n",
    "    for j in ['compact', 'midsize', 'large']:\n",
    "        \n",
    "        feature = 'is_size_%s' %j\n",
    "        df[feature] = (df['vehicle_size'] == j).astype(int)\n",
    "        features.append(feature)\n",
    "    \n",
    "    for i in ['sedan', '4dr_suv', 'coupe', 'convertible',\n",
    "              '4dr_hatchback']:\n",
    "        \n",
    "        feature = 'is_style_%s' %i\n",
    "        df[feature] = (df['vehicle_style'] == i).astype(int)\n",
    "        features.append(feature)\n",
    "    \n",
    "    \n",
    "    df_num = df[features]\n",
    "    df_num = df_num.fillna(0)\n",
    "    X = df_num.values\n",
    "    \n",
    "    return X"
   ]
  },
  {
   "cell_type": "code",
   "execution_count": 218,
   "id": "cb8b0e1f",
   "metadata": {},
   "outputs": [],
   "source": [
    "X_train = prepare_X(df_train) "
   ]
  },
  {
   "cell_type": "code",
   "execution_count": 219,
   "id": "b2799354",
   "metadata": {},
   "outputs": [
    {
     "name": "stdout",
     "output_type": "stream",
     "text": [
      "    0, -694700695602717184.00, 217.87, 164.75\n",
      "0.001, 7.19, 0.20, -0.07\n",
      " 0.01, 7.18, 0.20, -0.07\n",
      "  0.1, 7.05, 0.20, -0.07\n",
      "    1, 6.22, 0.20, -0.06\n",
      "   10, 4.39, 0.16, -0.04\n"
     ]
    }
   ],
   "source": [
    "for r in [0, 0.001, 0.01, 0.1, 1, 10]:\n",
    "    w0, w = train_linear_regression_reg(X_train, y_train, r=r)\n",
    "    print('%5s, %.2f, %.2f, %.2f' % (r, w0, w[10], w[25]))"
   ]
  },
  {
   "cell_type": "code",
   "execution_count": 220,
   "id": "2d5c914b",
   "metadata": {},
   "outputs": [
    {
     "name": "stdout",
     "output_type": "stream",
     "text": [
      "validation: 0.460226762660452\n"
     ]
    }
   ],
   "source": [
    "X_train = prepare_X(df_train)\n",
    "w0, w = train_linear_regression_reg(X_train, y_train, r=0.001)\n",
    "\n",
    "X_val = prepare_X(df_valid)\n",
    "y_pred = w0 + X_val.dot(w)\n",
    "print('validation:', rmse(y_valid, y_pred))\n",
    "# 1. removal of feature may help\n",
    "# 2. add regularization\n",
    "# 3. do both"
   ]
  },
  {
   "cell_type": "code",
   "execution_count": 221,
   "id": "bd40da73",
   "metadata": {},
   "outputs": [
    {
     "name": "stdout",
     "output_type": "stream",
     "text": [
      " 1e-06 0.4602255729396709\n",
      "0.0001 0.46022549453464073\n",
      " 0.001 0.460226762660452\n",
      "  0.01 0.4602394963262388\n",
      "   0.1 0.4603700695813603\n",
      "     1 0.46182980426538967\n",
      "     5 0.4684079627533807\n",
      "    10 0.47572481006935274\n"
     ]
    }
   ],
   "source": [
    "X_train = prepare_X(df_train)\n",
    "X_val = prepare_X(df_valid)\n",
    "\n",
    "for r in [0.000001, 0.0001, 0.001, 0.01, 0.1, 1, 5, 10]:\n",
    "    w0, w = train_linear_regression_reg(X_train, y_train, r=r)\n",
    "    y_pred = w0 + X_val.dot(w)\n",
    "    print('%6s' %r, rmse(y_valid, y_pred))"
   ]
  },
  {
   "cell_type": "code",
   "execution_count": 222,
   "id": "24f68c97",
   "metadata": {},
   "outputs": [
    {
     "name": "stdout",
     "output_type": "stream",
     "text": [
      "validation: 0.4602394963262388\n",
      "test: 0.45718136796926057\n"
     ]
    }
   ],
   "source": [
    "# finally test againt test dataset\n",
    "# check if difference between validation and testing\n",
    "# dataset isn't too big\n",
    "X_train = prepare_X(df_train)\n",
    "w0, w = train_linear_regression_reg(X_train, y_train, r=0.01)\n",
    "\n",
    "X_val = prepare_X(df_valid)\n",
    "y_pred = w0 + X_val.dot(w)\n",
    "print('validation:', rmse(y_valid, y_pred))\n",
    "\n",
    "X_test = prepare_X(df_test)\n",
    "y_pred = w0 + X_test.dot(w)\n",
    "print('test:', rmse(y_test, y_pred))"
   ]
  },
  {
   "cell_type": "markdown",
   "id": "6b805597",
   "metadata": {},
   "source": [
    "# Using the model"
   ]
  },
  {
   "cell_type": "code",
   "execution_count": 181,
   "id": "37baa2bf",
   "metadata": {},
   "outputs": [
    {
     "data": {
      "text/plain": [
       "{'make': 'bmw',\n",
       " 'model': '1_series',\n",
       " 'year': 2012,\n",
       " 'engine_fuel_type': 'premium_unleaded_(required)',\n",
       " 'engine_hp': 300.0,\n",
       " 'engine_cylinders': 6.0,\n",
       " 'transmission_type': 'manual',\n",
       " 'driven_wheels': 'rear_wheel_drive',\n",
       " 'number_of_doors': 2.0,\n",
       " 'market_category': 'luxury,high-performance',\n",
       " 'vehicle_size': 'compact',\n",
       " 'vehicle_style': 'coupe',\n",
       " 'highway_mpg': 28,\n",
       " 'city_mpg': 20,\n",
       " 'popularity': 3916,\n",
       " 'msrp': 39300}"
      ]
     },
     "execution_count": 181,
     "metadata": {},
     "output_type": "execute_result"
    }
   ],
   "source": [
    "i = 7\n",
    "data = df.iloc[i].to_dict()\n",
    "data"
   ]
  },
  {
   "cell_type": "code",
   "execution_count": 182,
   "id": "cc189752",
   "metadata": {},
   "outputs": [
    {
     "data": {
      "text/plain": [
       "37263.23197344916"
      ]
     },
     "execution_count": 182,
     "metadata": {},
     "output_type": "execute_result"
    }
   ],
   "source": [
    "X_test = prepare_X(df[data])[0]\n",
    "y_pred = w0 + X_test.dot(w)\n",
    "# as we received log of the price,\n",
    "# we need to undo it\n",
    "suggestion = np.expm1(y_pred)\n",
    "suggestion"
   ]
  },
  {
   "cell_type": "code",
   "execution_count": null,
   "id": "faebd77e",
   "metadata": {},
   "outputs": [],
   "source": []
  }
 ],
 "metadata": {
  "kernelspec": {
   "display_name": "Python 3",
   "language": "python",
   "name": "python3"
  },
  "language_info": {
   "codemirror_mode": {
    "name": "ipython",
    "version": 3
   },
   "file_extension": ".py",
   "mimetype": "text/x-python",
   "name": "python",
   "nbconvert_exporter": "python",
   "pygments_lexer": "ipython3",
   "version": "3.8.10"
  }
 },
 "nbformat": 4,
 "nbformat_minor": 5
}
