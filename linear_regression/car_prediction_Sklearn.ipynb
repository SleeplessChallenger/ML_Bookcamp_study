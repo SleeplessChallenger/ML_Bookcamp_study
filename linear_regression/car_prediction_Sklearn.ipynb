{
 "cells": [
  {
   "cell_type": "raw",
   "id": "3978e429",
   "metadata": {},
   "source": [
    "! Log is crucial when creating y_train/y_valid/y_test.\n",
    "Without it values will be distorted"
   ]
  },
  {
   "cell_type": "code",
   "execution_count": 22,
   "id": "9cc3276f",
   "metadata": {},
   "outputs": [],
   "source": [
    "import numpy as np\n",
    "import pandas as pd\n",
    "\n",
    "from matplotlib import pyplot as plt\n",
    "import seaborn as sns\n",
    "%matplotlib inline"
   ]
  },
  {
   "cell_type": "code",
   "execution_count": 23,
   "id": "76fbc2c2",
   "metadata": {},
   "outputs": [],
   "source": [
    "df = pd.read_csv('car_price.csv')"
   ]
  },
  {
   "cell_type": "code",
   "execution_count": 24,
   "id": "50f61fac",
   "metadata": {},
   "outputs": [
    {
     "data": {
      "text/html": [
       "<div>\n",
       "<style scoped>\n",
       "    .dataframe tbody tr th:only-of-type {\n",
       "        vertical-align: middle;\n",
       "    }\n",
       "\n",
       "    .dataframe tbody tr th {\n",
       "        vertical-align: top;\n",
       "    }\n",
       "\n",
       "    .dataframe thead th {\n",
       "        text-align: right;\n",
       "    }\n",
       "</style>\n",
       "<table border=\"1\" class=\"dataframe\">\n",
       "  <thead>\n",
       "    <tr style=\"text-align: right;\">\n",
       "      <th></th>\n",
       "      <th>Make</th>\n",
       "      <th>Model</th>\n",
       "      <th>Year</th>\n",
       "      <th>Engine Fuel Type</th>\n",
       "      <th>Engine HP</th>\n",
       "      <th>Engine Cylinders</th>\n",
       "      <th>Transmission Type</th>\n",
       "      <th>Driven_Wheels</th>\n",
       "      <th>Number of Doors</th>\n",
       "      <th>Market Category</th>\n",
       "      <th>Vehicle Size</th>\n",
       "      <th>Vehicle Style</th>\n",
       "      <th>highway MPG</th>\n",
       "      <th>city mpg</th>\n",
       "      <th>Popularity</th>\n",
       "      <th>MSRP</th>\n",
       "    </tr>\n",
       "  </thead>\n",
       "  <tbody>\n",
       "    <tr>\n",
       "      <th>0</th>\n",
       "      <td>BMW</td>\n",
       "      <td>1 Series M</td>\n",
       "      <td>2011</td>\n",
       "      <td>premium unleaded (required)</td>\n",
       "      <td>335.0</td>\n",
       "      <td>6.0</td>\n",
       "      <td>MANUAL</td>\n",
       "      <td>rear wheel drive</td>\n",
       "      <td>2.0</td>\n",
       "      <td>Factory Tuner,Luxury,High-Performance</td>\n",
       "      <td>Compact</td>\n",
       "      <td>Coupe</td>\n",
       "      <td>26</td>\n",
       "      <td>19</td>\n",
       "      <td>3916</td>\n",
       "      <td>46135</td>\n",
       "    </tr>\n",
       "    <tr>\n",
       "      <th>1</th>\n",
       "      <td>BMW</td>\n",
       "      <td>1 Series</td>\n",
       "      <td>2011</td>\n",
       "      <td>premium unleaded (required)</td>\n",
       "      <td>300.0</td>\n",
       "      <td>6.0</td>\n",
       "      <td>MANUAL</td>\n",
       "      <td>rear wheel drive</td>\n",
       "      <td>2.0</td>\n",
       "      <td>Luxury,Performance</td>\n",
       "      <td>Compact</td>\n",
       "      <td>Convertible</td>\n",
       "      <td>28</td>\n",
       "      <td>19</td>\n",
       "      <td>3916</td>\n",
       "      <td>40650</td>\n",
       "    </tr>\n",
       "    <tr>\n",
       "      <th>2</th>\n",
       "      <td>BMW</td>\n",
       "      <td>1 Series</td>\n",
       "      <td>2011</td>\n",
       "      <td>premium unleaded (required)</td>\n",
       "      <td>300.0</td>\n",
       "      <td>6.0</td>\n",
       "      <td>MANUAL</td>\n",
       "      <td>rear wheel drive</td>\n",
       "      <td>2.0</td>\n",
       "      <td>Luxury,High-Performance</td>\n",
       "      <td>Compact</td>\n",
       "      <td>Coupe</td>\n",
       "      <td>28</td>\n",
       "      <td>20</td>\n",
       "      <td>3916</td>\n",
       "      <td>36350</td>\n",
       "    </tr>\n",
       "    <tr>\n",
       "      <th>3</th>\n",
       "      <td>BMW</td>\n",
       "      <td>1 Series</td>\n",
       "      <td>2011</td>\n",
       "      <td>premium unleaded (required)</td>\n",
       "      <td>230.0</td>\n",
       "      <td>6.0</td>\n",
       "      <td>MANUAL</td>\n",
       "      <td>rear wheel drive</td>\n",
       "      <td>2.0</td>\n",
       "      <td>Luxury,Performance</td>\n",
       "      <td>Compact</td>\n",
       "      <td>Coupe</td>\n",
       "      <td>28</td>\n",
       "      <td>18</td>\n",
       "      <td>3916</td>\n",
       "      <td>29450</td>\n",
       "    </tr>\n",
       "    <tr>\n",
       "      <th>4</th>\n",
       "      <td>BMW</td>\n",
       "      <td>1 Series</td>\n",
       "      <td>2011</td>\n",
       "      <td>premium unleaded (required)</td>\n",
       "      <td>230.0</td>\n",
       "      <td>6.0</td>\n",
       "      <td>MANUAL</td>\n",
       "      <td>rear wheel drive</td>\n",
       "      <td>2.0</td>\n",
       "      <td>Luxury</td>\n",
       "      <td>Compact</td>\n",
       "      <td>Convertible</td>\n",
       "      <td>28</td>\n",
       "      <td>18</td>\n",
       "      <td>3916</td>\n",
       "      <td>34500</td>\n",
       "    </tr>\n",
       "  </tbody>\n",
       "</table>\n",
       "</div>"
      ],
      "text/plain": [
       "  Make       Model  Year             Engine Fuel Type  Engine HP  \\\n",
       "0  BMW  1 Series M  2011  premium unleaded (required)      335.0   \n",
       "1  BMW    1 Series  2011  premium unleaded (required)      300.0   \n",
       "2  BMW    1 Series  2011  premium unleaded (required)      300.0   \n",
       "3  BMW    1 Series  2011  premium unleaded (required)      230.0   \n",
       "4  BMW    1 Series  2011  premium unleaded (required)      230.0   \n",
       "\n",
       "   Engine Cylinders Transmission Type     Driven_Wheels  Number of Doors  \\\n",
       "0               6.0            MANUAL  rear wheel drive              2.0   \n",
       "1               6.0            MANUAL  rear wheel drive              2.0   \n",
       "2               6.0            MANUAL  rear wheel drive              2.0   \n",
       "3               6.0            MANUAL  rear wheel drive              2.0   \n",
       "4               6.0            MANUAL  rear wheel drive              2.0   \n",
       "\n",
       "                         Market Category Vehicle Size Vehicle Style  \\\n",
       "0  Factory Tuner,Luxury,High-Performance      Compact         Coupe   \n",
       "1                     Luxury,Performance      Compact   Convertible   \n",
       "2                Luxury,High-Performance      Compact         Coupe   \n",
       "3                     Luxury,Performance      Compact         Coupe   \n",
       "4                                 Luxury      Compact   Convertible   \n",
       "\n",
       "   highway MPG  city mpg  Popularity   MSRP  \n",
       "0           26        19        3916  46135  \n",
       "1           28        19        3916  40650  \n",
       "2           28        20        3916  36350  \n",
       "3           28        18        3916  29450  \n",
       "4           28        18        3916  34500  "
      ]
     },
     "execution_count": 24,
     "metadata": {},
     "output_type": "execute_result"
    }
   ],
   "source": [
    "df.head(5)"
   ]
  },
  {
   "cell_type": "code",
   "execution_count": 25,
   "id": "ac9278a5",
   "metadata": {},
   "outputs": [],
   "source": [
    "df.columns = df.columns.str.lower().str.replace(' ', '_')"
   ]
  },
  {
   "cell_type": "code",
   "execution_count": 26,
   "id": "135a8d41",
   "metadata": {},
   "outputs": [],
   "source": [
    "col_change = list(df.dtypes[df.dtypes == object].index)\n",
    "\n",
    "for i in col_change:\n",
    "    df[i] = df[i].str.lower().str.replace(' ', '_')"
   ]
  },
  {
   "cell_type": "markdown",
   "id": "2dc6b202",
   "metadata": {},
   "source": [
    "# Function for binary encoding to lessen the burden"
   ]
  },
  {
   "cell_type": "raw",
   "id": "e65f86dd",
   "metadata": {},
   "source": [
    "function below does all the converting from categorical\n",
    "to binary. Also it returns newly created df and new set\n",
    "of features"
   ]
  },
  {
   "cell_type": "code",
   "execution_count": 40,
   "id": "fd13cc95",
   "metadata": {},
   "outputs": [],
   "source": [
    "base = ['engine_hp', 'engine_cylinders', 'highway_mpg',\n",
    "        'city_mpg', 'popularity']\n",
    "# args: dataframe, column, most freq. values\n",
    "def convert_binary(df, col, idx):\n",
    "    df = df.copy()\n",
    "    features = base.copy()\n",
    "    \n",
    "    max_len = len(df[col].value_counts())\n",
    "    cols = df[col].value_counts().head(min(idx, max_len))\n",
    "    cols_list = cols.index.to_list()\n",
    "\n",
    "    for i in cols_list:\n",
    "        feature = f\"col={i}\"\n",
    "        df[feature] = (df[col] == i).astype(int)\n",
    "        features.append(feature)\n",
    "    \n",
    "    #return df, features\n",
    "\n",
    "# for col in list(df.dtypes[df.dtypes == object].index):\n",
    "#     convert_binary(df, col, 5)\n",
    "convert_binary(df, 'make', 5)"
   ]
  },
  {
   "cell_type": "markdown",
   "id": "b1fbb46c",
   "metadata": {},
   "source": [
    "# Let's try to substitute our manual\n",
    "# regression with Sklearn's one"
   ]
  },
  {
   "cell_type": "code",
   "execution_count": 27,
   "id": "bc142bc7",
   "metadata": {},
   "outputs": [],
   "source": [
    "from sklearn.linear_model import LinearRegression, Ridge\n",
    "from sklearn.model_selection import train_test_split\n",
    "from sklearn.feature_extraction import DictVectorizer"
   ]
  },
  {
   "cell_type": "code",
   "execution_count": 28,
   "id": "6d3b03d5",
   "metadata": {},
   "outputs": [],
   "source": [
    "df.isnull().sum()\n",
    "df = df.fillna(0)\n",
    "#df = df.loc[:, df.dtypes == 'float64'].astype(int)"
   ]
  },
  {
   "cell_type": "code",
   "execution_count": 29,
   "id": "acaa091f",
   "metadata": {},
   "outputs": [],
   "source": [
    "full_train, test = train_test_split(df, test_size=0.2, random_state=1)\n",
    "train, valid = train_test_split(full_train, test_size=0.33, random_state=11)"
   ]
  },
  {
   "cell_type": "code",
   "execution_count": 30,
   "id": "39e2daa9",
   "metadata": {},
   "outputs": [],
   "source": [
    "y_tr = np.log1p(train.msrp.values)\n",
    "y_vl = np.log1p(valid.msrp.values)\n",
    "\n",
    "del train['msrp']\n",
    "del valid['msrp']"
   ]
  },
  {
   "cell_type": "code",
   "execution_count": 31,
   "id": "32eadb68",
   "metadata": {},
   "outputs": [
    {
     "data": {
      "text/plain": [
       "make                 object\n",
       "model                object\n",
       "engine_fuel_type     object\n",
       "transmission_type    object\n",
       "driven_wheels        object\n",
       "market_category      object\n",
       "vehicle_size         object\n",
       "vehicle_style        object\n",
       "dtype: object"
      ]
     },
     "execution_count": 31,
     "metadata": {},
     "output_type": "execute_result"
    }
   ],
   "source": [
    "df.dtypes[df.dtypes == 'object']"
   ]
  },
  {
   "cell_type": "code",
   "execution_count": 32,
   "id": "e01b95f0",
   "metadata": {},
   "outputs": [
    {
     "data": {
      "text/plain": [
       "['make',\n",
       " 'model',\n",
       " 'engine_fuel_type',\n",
       " 'transmission_type',\n",
       " 'driven_wheels',\n",
       " 'market_category',\n",
       " 'vehicle_size',\n",
       " 'vehicle_style']"
      ]
     },
     "execution_count": 32,
     "metadata": {},
     "output_type": "execute_result"
    }
   ],
   "source": [
    "full_list_2 = df.dtypes[df.dtypes == 'object'].index.to_list()\n",
    "full_list_2"
   ]
  },
  {
   "cell_type": "code",
   "execution_count": 33,
   "id": "ad47a6e0",
   "metadata": {},
   "outputs": [
    {
     "data": {
      "text/plain": [
       "['engine_hp',\n",
       " 'engine_cylinders',\n",
       " 'number_of_doors',\n",
       " 'year',\n",
       " 'highway_mpg',\n",
       " 'city_mpg',\n",
       " 'popularity']"
      ]
     },
     "execution_count": 33,
     "metadata": {},
     "output_type": "execute_result"
    }
   ],
   "source": [
    "a = full_train.dtypes[full_train.dtypes == 'float64'].index.to_list()\n",
    "b = full_train.dtypes[full_train.dtypes == 'int64'].index.to_list()\n",
    "full_list = (a + b)\n",
    "full_list.remove('msrp')\n",
    "# full_list.remove('year')\n",
    "full_list"
   ]
  },
  {
   "cell_type": "raw",
   "id": "d302f4cb",
   "metadata": {},
   "source": [
    "Analyze corr. between numeric variables and target"
   ]
  },
  {
   "cell_type": "code",
   "execution_count": 34,
   "id": "d9f45fbf",
   "metadata": {},
   "outputs": [
    {
     "data": {
      "text/plain": [
       "engine_hp           0.648103\n",
       "engine_cylinders    0.527243\n",
       "number_of_doors    -0.125982\n",
       "year                0.225401\n",
       "highway_mpg        -0.157651\n",
       "city_mpg           -0.156620\n",
       "popularity         -0.048147\n",
       "dtype: float64"
      ]
     },
     "execution_count": 34,
     "metadata": {},
     "output_type": "execute_result"
    }
   ],
   "source": [
    "full_train[full_list].corrwith(df.msrp)"
   ]
  },
  {
   "cell_type": "code",
   "execution_count": null,
   "id": "77dae7cb",
   "metadata": {},
   "outputs": [],
   "source": []
  },
  {
   "cell_type": "code",
   "execution_count": 35,
   "id": "843d1e71",
   "metadata": {},
   "outputs": [],
   "source": [
    "# we put numeric & categorical features in separate lists\n",
    "numeric = full_list\n",
    "categoric = full_list_2"
   ]
  },
  {
   "cell_type": "code",
   "execution_count": 36,
   "id": "cc15ca32",
   "metadata": {},
   "outputs": [
    {
     "data": {
      "text/plain": [
       "['make',\n",
       " 'engine_fuel_type',\n",
       " 'transmission_type',\n",
       " 'driven_wheels',\n",
       " 'market_category',\n",
       " 'vehicle_size',\n",
       " 'vehicle_style']"
      ]
     },
     "execution_count": 36,
     "metadata": {},
     "output_type": "execute_result"
    }
   ],
   "source": [
    "categoric.remove('model')\n",
    "categoric"
   ]
  },
  {
   "cell_type": "markdown",
   "id": "ec436c55",
   "metadata": {},
   "source": [
    "# Transformation & Regression"
   ]
  },
  {
   "cell_type": "markdown",
   "id": "47036dba",
   "metadata": {},
   "source": [
    "# ! When doing `rmse` y_valid is compared to y_pred with X_valid\n",
    "# and y_train to y_pred with X_train"
   ]
  },
  {
   "cell_type": "raw",
   "id": "c85a02ab",
   "metadata": {},
   "source": [
    ".fit() == train_linear_regression()\n",
    ".predict_proba() == w0 + X_train.dot(w)"
   ]
  },
  {
   "cell_type": "raw",
   "id": "598e3995",
   "metadata": {},
   "source": [
    "base = ['engine_hp', 'engine_cylinders', 'highway_mpg',\n",
    "        'city_mpg', 'popularity']\n",
    "\n",
    "def prepare_X(df):\n",
    "    df_num = df[base]\n",
    "    # remember missing values? Now we deal with them.\n",
    "    # 2 most popular approaches: fill with 0 or replace with avg().\n",
    "    # here we stick. with first\n",
    "    # + if recall linear regression formula, xi * wi. xi will be\n",
    "    # 0 and hence this variable won't have impact on the result\n",
    "    df_num = df_num.fillna(0)\n",
    "    # next step is to convert df to np.array()\n",
    "    # we can do it with either np.array() or .values\n",
    "    X = df_num.values\n",
    "    return X\n",
    "\n",
    "X_train = prepare_X(train[numeric + categoric])\n",
    "X_valid = prepare_X(valid[numeric + categoric])"
   ]
  },
  {
   "cell_type": "code",
   "execution_count": 37,
   "id": "94e12235",
   "metadata": {},
   "outputs": [],
   "source": [
    "train_dict = train[numeric + categoric].to_dict(orient='records')"
   ]
  },
  {
   "cell_type": "code",
   "execution_count": 38,
   "id": "c9ee56e3",
   "metadata": {},
   "outputs": [],
   "source": [
    "dv = DictVectorizer(sparse=False)\n",
    "dv.fit(train_dict)\n",
    "X_train = dv.transform(train_dict)"
   ]
  },
  {
   "cell_type": "code",
   "execution_count": 39,
   "id": "6d37470d",
   "metadata": {},
   "outputs": [
    {
     "data": {
      "text/plain": [
       "Ridge()"
      ]
     },
     "execution_count": 39,
     "metadata": {},
     "output_type": "execute_result"
    }
   ],
   "source": [
    "model = Ridge()\n",
    "model.fit(X_train, y_tr)"
   ]
  },
  {
   "cell_type": "raw",
   "id": "bb3647c0",
   "metadata": {},
   "source": [
    "model = LinearRegression()\n",
    "model.fit(X_train, y_tr)"
   ]
  },
  {
   "cell_type": "code",
   "execution_count": 40,
   "id": "6ca3d178",
   "metadata": {},
   "outputs": [],
   "source": [
    "valid_dict = valid[numeric + categoric].to_dict(orient='records')\n",
    "X_valid = dv.transform(valid_dict)"
   ]
  },
  {
   "cell_type": "code",
   "execution_count": 41,
   "id": "d459c7ca",
   "metadata": {},
   "outputs": [
    {
     "data": {
      "text/plain": [
       "array([10.27674838, 10.8430193 , 10.47009842, ..., 10.65039757,\n",
       "       10.48229819,  9.69865271])"
      ]
     },
     "execution_count": 41,
     "metadata": {},
     "output_type": "execute_result"
    }
   ],
   "source": [
    "y_pred = model.predict(X_valid)\n",
    "y_pred\n",
    "# every figure is prediciton for the car"
   ]
  },
  {
   "cell_type": "code",
   "execution_count": 42,
   "id": "52b467ef",
   "metadata": {},
   "outputs": [
    {
     "data": {
      "text/plain": [
       "0.45054941776707147"
      ]
     },
     "execution_count": 42,
     "metadata": {},
     "output_type": "execute_result"
    }
   ],
   "source": [
    "def rmse(y, y_pred):\n",
    "    # diff. between predicted and actual values + sum()\n",
    "    # PS: we don't have sum() as we do `elementwise` operation\n",
    "    # PS2: for each element of y_pred, we subtract the corresponding element of y\n",
    "    error = y_pred - y\n",
    "    # squared and `/m`\n",
    "    mse = (error ** 2).mean()\n",
    "    # root. is taken\n",
    "    return np.sqrt(mse)\n",
    "\n",
    "rmse(y_vl, y_pred)"
   ]
  },
  {
   "cell_type": "raw",
   "id": "1329677d",
   "metadata": {},
   "source": [
    "Check"
   ]
  },
  {
   "cell_type": "code",
   "execution_count": 53,
   "id": "a8bcbd72",
   "metadata": {},
   "outputs": [],
   "source": [
    "# don't forget to remove `msrp`\n",
    "d = [{'make': 'bmw',\n",
    " 'model': '1_series',\n",
    " 'year': 2012,\n",
    " 'engine_fuel_type': 'premium_unleaded_(required)',\n",
    " 'engine_hp': 300.0,\n",
    " 'engine_cylinders': 6.0,\n",
    " 'transmission_type': 'manual',\n",
    " 'driven_wheels': 'rear_wheel_drive',\n",
    " 'number_of_doors': 2.0,\n",
    " 'market_category': 'luxury,high-performance',\n",
    " 'vehicle_size': 'compact',\n",
    " 'vehicle_style': 'coupe',\n",
    " 'highway_mpg': 28,\n",
    " 'city_mpg': 20,\n",
    " 'popularity': 3916}]"
   ]
  },
  {
   "cell_type": "code",
   "execution_count": 54,
   "id": "5f91c34c",
   "metadata": {},
   "outputs": [],
   "source": [
    "X_test = dv.transform(d)"
   ]
  },
  {
   "cell_type": "code",
   "execution_count": 55,
   "id": "2de81315",
   "metadata": {},
   "outputs": [
    {
     "data": {
      "text/plain": [
       "40959.22445350503"
      ]
     },
     "execution_count": 55,
     "metadata": {},
     "output_type": "execute_result"
    }
   ],
   "source": [
    "res = model.predict(X_test)[0]\n",
    "np.expm1(res)\n",
    "# 'msrp': 39300"
   ]
  },
  {
   "cell_type": "code",
   "execution_count": null,
   "id": "fa82cda6",
   "metadata": {},
   "outputs": [],
   "source": []
  }
 ],
 "metadata": {
  "kernelspec": {
   "display_name": "Python 3",
   "language": "python",
   "name": "python3"
  },
  "language_info": {
   "codemirror_mode": {
    "name": "ipython",
    "version": 3
   },
   "file_extension": ".py",
   "mimetype": "text/x-python",
   "name": "python",
   "nbconvert_exporter": "python",
   "pygments_lexer": "ipython3",
   "version": "3.8.10"
  }
 },
 "nbformat": 4,
 "nbformat_minor": 5
}
